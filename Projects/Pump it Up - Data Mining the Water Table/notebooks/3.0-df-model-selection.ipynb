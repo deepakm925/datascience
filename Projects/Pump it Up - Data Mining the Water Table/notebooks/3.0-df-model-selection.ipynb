{
 "cells": [
  {
   "cell_type": "markdown",
   "metadata": {},
   "source": [
    "# Model Selection\n",
    "\n",
    "I'll train a logistic regression model using K-Folds Cross Validation.  "
   ]
  },
  {
   "cell_type": "code",
   "execution_count": 1,
   "metadata": {
    "collapsed": false
   },
   "outputs": [],
   "source": [
    "import pandas as pd\n",
    "import numpy as np\n",
    "from sklearn.model_selection import KFold\n",
    "from sklearn.metrics import accuracy_score\n",
    "\n",
    "# load processed data\n",
    "train = pd.read_csv('../data/processed/train.csv')\n",
    "test = pd.read_csv('../data/processed/test.csv')"
   ]
  },
  {
   "cell_type": "code",
   "execution_count": 22,
   "metadata": {
    "collapsed": true
   },
   "outputs": [],
   "source": [
    "def fit(model, train, test, shuffle, n_folds, save, random_state):\n",
    "    \"\"\"\n",
    "    Trains and tests a model\n",
    "    \n",
    "    inputs:\n",
    "    \n",
    "    model - the model to train\n",
    "    train - training data\n",
    "    test - test data\n",
    "    shuffle - either True/False.  Shuffle if True.\n",
    "    n_folds - number of folds\n",
    "    save - if True, save predictions.\n",
    "    \"\"\"\n",
    "    # dict to store trained models\n",
    "    models = {}\n",
    "    \n",
    "    y_train = train['status_group']\n",
    "    X_train = train.drop(['status_group'], axis = 1)\n",
    "    labels = train['status_group'].unique()[:1]\n",
    "    \n",
    "    for label in labels:\n",
    "        # instantiate new model\n",
    "        model = model\n",
    "        \n",
    "        y_train = y_train == label\n",
    "        y_train = pd.factorize(y_train, sort=True)[0]\n",
    "\n",
    "        # declare a KFold instance\n",
    "        kfold = KFold(n_splits = n_folds, random_state = random_state)\n",
    "        result = []\n",
    "        \n",
    "        for i, (train, val) in enumerate(kfold.split(train)):\n",
    "            # get smaller training set and create validation set\n",
    "            X_train_mini, X_val = X_train.iloc[train], X_train.iloc[val]\n",
    "            y_train_mini, y_val = y_train[train], y_train[val]\n",
    "            model.fit(X_train_mini.values, y_train_mini)\n",
    "            predictions = model.predict_proba(X_val.values)\n",
    "            print(predictions[:5])\n",
    "            #accuracy = accuracy_score(y_val, predictions)\n",
    "            #result.append(accuracy)\n",
    "            \n",
    "        avg_acc = np.mean(result)            "
   ]
  },
  {
   "cell_type": "code",
   "execution_count": null,
   "metadata": {
    "collapsed": false
   },
   "outputs": [],
   "source": [
    "from sklearn.linear_model import LogisticRegression\n",
    "\n",
    "from sklearn.preprocessing import MinMaxScaler\n",
    "def normalize(df, col):\n",
    "    \"\"\"Normalizes a column\"\"\"\n",
    "    X = df[col].reshape(-1, 1)\n",
    "    mms = MinMaxScaler().fit(X = X)\n",
    "    return mms.transform(X = X)\n",
    "\n",
    "train['latitude'] = normalize(train, 'latitude')\n",
    "train['longitude'] = normalize(train, 'longitude')\n",
    "test['latitude'] = normalize(test, 'latitude')\n",
    "test['longitude'] = normalize(test, 'longitude')\n",
    "\n",
    "lr = LogisticRegression()\n",
    "fit(model = lr, train = train, test = test, shuffle = False, n_folds = 5, save = False, random_state = 5)"
   ]
  },
  {
   "cell_type": "code",
   "execution_count": 27,
   "metadata": {
    "collapsed": true
   },
   "outputs": [
    {
     "ename": "TypeError",
     "evalue": "'float' object is not callable",
     "output_type": "error",
     "traceback": [
      "\u001b[0;31m---------------------------------------------------------------------------\u001b[0m",
      "\u001b[0;31mTypeError\u001b[0m                                 Traceback (most recent call last)",
      "\u001b[0;32m<ipython-input-27-e6c3dbf420e2>\u001b[0m in \u001b[0;36m<module>\u001b[0;34m()\u001b[0m\n\u001b[1;32m      1\u001b[0m \u001b[0mpd\u001b[0m\u001b[1;33m.\u001b[0m\u001b[0moptions\u001b[0m\u001b[1;33m.\u001b[0m\u001b[0mdisplay\u001b[0m\u001b[1;33m.\u001b[0m\u001b[0mmax_columns\u001b[0m \u001b[1;33m=\u001b[0m \u001b[1;36m200\u001b[0m\u001b[1;33m\u001b[0m\u001b[0m\n\u001b[0;32m----> 2\u001b[0;31m \u001b[0mnp\u001b[0m\u001b[1;33m.\u001b[0m\u001b[0minf\u001b[0m\u001b[1;33m(\u001b[0m\u001b[0mtrain\u001b[0m\u001b[1;33m[\u001b[0m\u001b[1;34m'status_group'\u001b[0m\u001b[1;33m]\u001b[0m\u001b[1;33m)\u001b[0m\u001b[1;33m\u001b[0m\u001b[0m\n\u001b[0m",
      "\u001b[0;31mTypeError\u001b[0m: 'float' object is not callable"
     ]
    }
   ],
   "source": [
    "pd.options.display.max_columns = 200\n",
    "np.inf(train['status_group'])"
   ]
  }
 ],
 "metadata": {
  "anaconda-cloud": {},
  "kernelspec": {
   "display_name": "Python [default]",
   "language": "python",
   "name": "python3"
  },
  "language_info": {
   "codemirror_mode": {
    "name": "ipython",
    "version": 3
   },
   "file_extension": ".py",
   "mimetype": "text/x-python",
   "name": "python",
   "nbconvert_exporter": "python",
   "pygments_lexer": "ipython3",
   "version": "3.5.2"
  }
 },
 "nbformat": 4,
 "nbformat_minor": 1
}
