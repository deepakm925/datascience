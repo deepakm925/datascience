{
 "cells": [
  {
   "cell_type": "markdown",
   "metadata": {},
   "source": [
    "# Model Selection"
   ]
  },
  {
   "cell_type": "code",
   "execution_count": 9,
   "metadata": {
    "collapsed": false
   },
   "outputs": [],
   "source": [
    "import pandas as pd\n",
    "import numpy as np\n",
    "from sklearn.model_selection import KFold\n",
    "from sklearn.metrics import accuracy_score\n",
    "from sklearn.model_selection import cross_val_score\n",
    "from sklearn.multiclass import OneVsRestClassifier\n",
    "from sklearn.linear_model import LogisticRegression\n",
    "\n",
    "# load processed data\n",
    "train = pd.read_csv('../data/processed/train.csv')\n",
    "X_test = pd.read_csv('../data/processed/test.csv')\n",
    "\n",
    "y_train = train['status_group']\n",
    "X_train = train.drop(['status_group'], axis = 1)\n",
    "\n",
    "test_ids = pd.read_csv('/Users/donaldfung/Documents/Github/datascience/Projects/Pump it Up - Data Mining the Water Table/data/raw/test.csv', usecols = ['id'])\n",
    "\n",
    "outcomes = {0:'functional', \n",
    "            1:'functional needs repair', \n",
    "            2:'non functional'}\n",
    "\n",
    "random_state = 5"
   ]
  },
  {
   "cell_type": "markdown",
   "metadata": {},
   "source": [
    "I loaded the data and extracted the target column from the training set.  I also loaded the IDs from the raw `test.csv` file.  These IDs will be added as a requirment in the final submission file.  \n",
    "\n",
    "I have also created a dictionary called `outcomes` to keep track of the class labels. This will come in handy when converting the encoded predictions into strings for the final submission.   "
   ]
  },
  {
   "cell_type": "code",
   "execution_count": 7,
   "metadata": {
    "collapsed": false
   },
   "outputs": [],
   "source": [
    "def save_predictions(ids = None, predictions = None, filepath = None):\n",
    "    \"\"\"Prepare submissions file\"\"\"\n",
    "    submission = pd.DataFrame({'id': ids, 'status_group': predictions})\n",
    "    submission['status_group'] = submission['status_group'].apply(lambda x: reverse_transform(x))\n",
    "    submission.to_csv(path_or_buf = filepath, index = False)\n",
    "    print(\"File saved!\")\n",
    "            \n",
    "def reverse_transform(x):\n",
    "    \"\"\"Converts numerical labels to strings\"\"\"\n",
    "    x = outcomes[x]\n",
    "    return x"
   ]
  },
  {
   "cell_type": "markdown",
   "metadata": {},
   "source": [
    "I created a function to prepare the final submission file.  It also converts the numerically encoded predictions into strings before saving the file."
   ]
  },
  {
   "cell_type": "code",
   "execution_count": 5,
   "metadata": {
    "collapsed": false
   },
   "outputs": [
    {
     "name": "stdout",
     "output_type": "stream",
     "text": [
      "CV accuracy scores: [ 0.7472435   0.74589681  0.74385522  0.74006734  0.75425156]\n",
      "\n",
      "CV accuracy: 0.7462628848957399 +/- 0.004671105530607837\n"
     ]
    }
   ],
   "source": [
    "def fit(model, X, y, n_folds, random_state):\n",
    "    \"\"\"Evaluate Model Performance\"\"\"\n",
    "    scores = cross_val_score(estimator = model,\n",
    "                             X = X,\n",
    "                             y = y,\n",
    "                             cv = n_folds, \n",
    "                             n_jobs = -1)\n",
    "    print('CV accuracy scores:', scores)\n",
    "    print('\\nCV accuracy: {} +/- {}'.format(np.mean(scores), np.std(scores)))\n",
    "    \n",
    "lr = LogisticRegression(random_state = random_state)\n",
    "fit(model = lr, X = X_train, y = y_train, n_folds = 5, random_state = random_state)"
   ]
  },
  {
   "cell_type": "markdown",
   "metadata": {},
   "source": [
    "I tested the performance of a Logistic Regression classifier on the data.  Without modifying any of the classifier's parameters, the classifier produced an average accuracy of approximately 74.6% on the validation set.  Note that the `cross_val_score` method performs a stratified k-fold cross-validation over the training set.  \n",
    "\n",
    "There is a lot of room to improve the current accuracy score.  "
   ]
  },
  {
   "cell_type": "code",
   "execution_count": 6,
   "metadata": {
    "collapsed": false
   },
   "outputs": [
    {
     "name": "stdout",
     "output_type": "stream",
     "text": [
      "File saved!\n"
     ]
    }
   ],
   "source": [
    "def predict(model, X_train, y_train, X_test, random_state):\n",
    "    preds = model.fit(X_train, y_train).predict(X_test)\n",
    "    return preds\n",
    "\n",
    "predictions=predict(model=lr,\n",
    "            X_train=X_train,\n",
    "            y_train=y_train,\n",
    "            X_test=X_test,\n",
    "            random_state=random_state)\n",
    "\n",
    "# prepare first submission\n",
    "save_predictions(ids = test_ids['id'], predictions = predictions, filepath = '../reports/submissions/submission4.csv')"
   ]
  },
  {
   "cell_type": "code",
   "execution_count": null,
   "metadata": {
    "collapsed": true
   },
   "outputs": [],
   "source": []
  }
 ],
 "metadata": {
  "anaconda-cloud": {},
  "kernelspec": {
   "display_name": "Python [default]",
   "language": "python",
   "name": "python3"
  },
  "language_info": {
   "codemirror_mode": {
    "name": "ipython",
    "version": 3
   },
   "file_extension": ".py",
   "mimetype": "text/x-python",
   "name": "python",
   "nbconvert_exporter": "python",
   "pygments_lexer": "ipython3",
   "version": "3.5.2"
  }
 },
 "nbformat": 4,
 "nbformat_minor": 1
}
