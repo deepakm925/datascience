{
 "cells": [
  {
   "cell_type": "markdown",
   "metadata": {},
   "source": [
    "# Data Preprocessing\n",
    "\n",
    "After exploring the data, I made notes of the steps we need to take to prepare the data:\n",
    "\n",
    "* Drop `quantity_group`, `wpt_name`, `recorded_by`, `source_type`, `waterpoint_type_group`, `payment_type` columns\n",
    "* Replace missing values with `other` category in `funder`, `installer`, `subvillage`, `scheme_name` columns.\n",
    "* Replace missing values in `public_meeting`, `permit` columns with `True`\n",
    "* Replace missing values in `scheme_management` to `VWC`\n",
    "* Replace zeros in `construction_year` with average \n",
    "* Label encode `funder`, `installer`, `subvillage`, `scheme_name`, `ward`, `lga`, `district_code`, `region_code`, `construction_year`,  columns, and then group values using a frequency distribution for each value\n",
    "* One-hot Encode `scheme_management`, `basin`, `region`, `extraction_type`, `extraction_type_group`, `extraction_type_class`, `management`, `management_group`, `payment`, `payment_type`, `water_quality`, `quality_group`, `source`, `source_type`, `source_class`, `waterpoint_type`, `waterpoint_type_group`.\n",
    "* Normalize `amount_tsh`, `gps_height`, `population` columns\n",
    "* Create amount_tsh:gps_height ratio\n",
    "* Handle imbalanced class labels"
   ]
  },
  {
   "cell_type": "code",
   "execution_count": 5,
   "metadata": {
    "collapsed": false
   },
   "outputs": [],
   "source": [
    "import pandas as pd\n",
    "\n",
    "# load transformed data\n",
    "data = pd.read_csv('../data/interim/transformed_data.csv')"
   ]
  },
  {
   "cell_type": "markdown",
   "metadata": {},
   "source": [
    "## Drop Columns"
   ]
  },
  {
   "cell_type": "code",
   "execution_count": 7,
   "metadata": {
    "collapsed": true
   },
   "outputs": [],
   "source": [
    "# a list of columns to drop\n",
    "cols_to_drop = ['quantity_group', 'wpt_name', 'recorded_by', 'source_type', 'waterpoint_type_group', 'payment_type']"
   ]
  },
  {
   "cell_type": "code",
   "execution_count": 111,
   "metadata": {
    "collapsed": false
   },
   "outputs": [
    {
     "name": "stdout",
     "output_type": "stream",
     "text": [
      "Columns dropped! Dataframe now contains 35 columns\n"
     ]
    },
    {
     "data": {
      "text/html": [
       "<div>\n",
       "<table border=\"1\" class=\"dataframe\">\n",
       "  <thead>\n",
       "    <tr style=\"text-align: right;\">\n",
       "      <th></th>\n",
       "      <th>id</th>\n",
       "      <th>amount_tsh</th>\n",
       "      <th>date_recorded</th>\n",
       "      <th>funder</th>\n",
       "      <th>gps_height</th>\n",
       "      <th>installer</th>\n",
       "      <th>longitude</th>\n",
       "      <th>latitude</th>\n",
       "      <th>num_private</th>\n",
       "      <th>basin</th>\n",
       "      <th>...</th>\n",
       "      <th>management</th>\n",
       "      <th>management_group</th>\n",
       "      <th>payment</th>\n",
       "      <th>water_quality</th>\n",
       "      <th>quality_group</th>\n",
       "      <th>quantity</th>\n",
       "      <th>source</th>\n",
       "      <th>source_class</th>\n",
       "      <th>waterpoint_type</th>\n",
       "      <th>status_group</th>\n",
       "    </tr>\n",
       "  </thead>\n",
       "  <tbody>\n",
       "    <tr>\n",
       "      <th>0</th>\n",
       "      <td>69572</td>\n",
       "      <td>6000.0</td>\n",
       "      <td>2011-03-14</td>\n",
       "      <td>Roman</td>\n",
       "      <td>1390</td>\n",
       "      <td>Roman</td>\n",
       "      <td>34.938093</td>\n",
       "      <td>-9.856322</td>\n",
       "      <td>0</td>\n",
       "      <td>Lake Nyasa</td>\n",
       "      <td>...</td>\n",
       "      <td>vwc</td>\n",
       "      <td>user-group</td>\n",
       "      <td>pay annually</td>\n",
       "      <td>soft</td>\n",
       "      <td>good</td>\n",
       "      <td>enough</td>\n",
       "      <td>spring</td>\n",
       "      <td>groundwater</td>\n",
       "      <td>communal standpipe</td>\n",
       "      <td>functional</td>\n",
       "    </tr>\n",
       "  </tbody>\n",
       "</table>\n",
       "<p>1 rows × 35 columns</p>\n",
       "</div>"
      ],
      "text/plain": [
       "      id  amount_tsh date_recorded funder  gps_height installer  longitude  \\\n",
       "0  69572      6000.0    2011-03-14  Roman        1390     Roman  34.938093   \n",
       "\n",
       "   latitude  num_private       basin     ...      management management_group  \\\n",
       "0 -9.856322            0  Lake Nyasa     ...             vwc       user-group   \n",
       "\n",
       "        payment  water_quality quality_group quantity  source source_class  \\\n",
       "0  pay annually           soft          good   enough  spring  groundwater   \n",
       "\n",
       "      waterpoint_type status_group  \n",
       "0  communal standpipe   functional  \n",
       "\n",
       "[1 rows x 35 columns]"
      ]
     },
     "execution_count": 111,
     "metadata": {},
     "output_type": "execute_result"
    }
   ],
   "source": [
    "def drop_columns(df, cols):\n",
    "    \"\"\"Drops columns\n",
    "    \n",
    "    input: 1). A Pandas Dataframe and 2). A list of strings\n",
    "    output: A Pandas Dataframe without the dropped columns\n",
    "    \"\"\"\n",
    "    df = df.copy()\n",
    "    df = df.drop(cols, axis = 1)\n",
    "    return df\n",
    "\n",
    "transformed_data = drop_columns(data, cols_to_drop)\n",
    "print(\"Columns dropped! Dataframe now contains {} columns\".format(transformed_data.shape[1]))\n",
    "transformed_data.head(1)"
   ]
  },
  {
   "cell_type": "markdown",
   "metadata": {
    "collapsed": true
   },
   "source": [
    "## Replace Missing Values\n",
    "\n",
    "The missing values need to be replaced with some specified value.  The value will vary per column.  \n",
    "\n",
    "Missing values in these columns will be replaced by a random integer:\n",
    "\n",
    "* **`funder`**\n",
    "* **`installer`**\n",
    "* **`subvillage`**\n",
    "* **`scheme_name`**\n",
    "\n",
    "Missing values in these columns will be replaced by a string:\n",
    "\n",
    "* **`public_meeting`** - replace with 'True'\n",
    "* **`permit`** - replace with 'True'\n",
    "* **`scheme_management`** - replace with 'VWC'"
   ]
  },
  {
   "cell_type": "code",
   "execution_count": 99,
   "metadata": {
    "collapsed": false
   },
   "outputs": [],
   "source": [
    "def fill_missing_vals(df, col, value):\n",
    "    \"\"\"Replace missing value with a scalar\n",
    "    \n",
    "    input: 1). A Pandas Dataframe, 2). Column, 3). Value to fill holes: scalar\n",
    "    output: A Pandas Dataframe with no missing values\n",
    "    \"\"\"\n",
    "    df = df.copy()\n",
    "    return df[col].fillna(value = value)"
   ]
  },
  {
   "cell_type": "code",
   "execution_count": 112,
   "metadata": {
    "collapsed": false
   },
   "outputs": [
    {
     "name": "stdout",
     "output_type": "stream",
     "text": [
      "funder now contains 0 missing values\n",
      "installer now contains 0 missing values\n",
      "subvillage now contains 0 missing values\n",
      "scheme_name now contains 0 missing values\n"
     ]
    }
   ],
   "source": [
    "# a list of a few columns containing missing values.  \n",
    "missing_val_cols = ['funder', 'installer', 'subvillage', 'scheme_name']\n",
    "\n",
    "# Replace missing values with this number.  I used an arbitrary value that isn't currently found in the columns. \n",
    "filler = 4000\n",
    "\n",
    "for col in missing_val_cols:\n",
    "    transformed_data[col] = fill_missing_vals(transformed_data, col, value = filler)\n",
    "    print('{} now contains {} missing values'.format(col, transformed_data[col].isnull().sum()))"
   ]
  },
  {
   "cell_type": "code",
   "execution_count": 113,
   "metadata": {
    "collapsed": false
   },
   "outputs": [
    {
     "name": "stdout",
     "output_type": "stream",
     "text": [
      "public_meeting now contains 0 missing values\n",
      "permit now contains 0 missing values\n"
     ]
    }
   ],
   "source": [
    "missing_val_cols = ['public_meeting', 'permit']\n",
    "\n",
    "# for this set of columns, replace missing values with 'True'\n",
    "filler = 'True'\n",
    "\n",
    "for col in missing_val_cols:\n",
    "    transformed_data[col] = fill_missing_vals(transformed_data, col, value = filler)\n",
    "    print('{} now contains {} missing values'.format(col, transformed_data[col].isnull().sum()))"
   ]
  },
  {
   "cell_type": "code",
   "execution_count": 114,
   "metadata": {
    "collapsed": false
   },
   "outputs": [
    {
     "name": "stdout",
     "output_type": "stream",
     "text": [
      "scheme_management now contains 0 missing values\n"
     ]
    }
   ],
   "source": [
    "col = 'scheme_management'\n",
    "filler = 'VWC'\n",
    "\n",
    "transformed_data[col] = fill_missing_vals(transformed_data, col, value = filler)\n",
    "print('{} now contains {} missing values'.format(col, transformed_data[col].isnull().sum()))"
   ]
  },
  {
   "cell_type": "code",
   "execution_count": 115,
   "metadata": {
    "collapsed": false
   },
   "outputs": [
    {
     "name": "stdout",
     "output_type": "stream",
     "text": [
      "There are 0 missing values\n"
     ]
    }
   ],
   "source": [
    "# Let's confirm that there aren't any missing values left\n",
    "print('There are {} missing values'.format(transformed_data.isnull().sum().sum()))"
   ]
  },
  {
   "cell_type": "markdown",
   "metadata": {},
   "source": [
    "## Replace Other Values\n",
    "\n",
    "I need to replace zeros in the **`construction_year`** column with 1997.  This is the average of the column without zeros.  We calculated this value in the data exploration notebook.  "
   ]
  },
  {
   "cell_type": "code",
   "execution_count": 116,
   "metadata": {
    "collapsed": false
   },
   "outputs": [
    {
     "name": "stdout",
     "output_type": "stream",
     "text": [
      "The average of the construction year column is:  1997\n"
     ]
    }
   ],
   "source": [
    "avg_year = 1997\n",
    "col = 'construction_year'\n",
    "transformed_data[col] = transformed_data[col].replace(to_replace = 0, value = 1997)\n",
    "print(\"The average of the construction year column is: \", round(transformed_data[col].mean()))"
   ]
  },
  {
   "cell_type": "markdown",
   "metadata": {},
   "source": [
    "## Handle Categorical Variables"
   ]
  },
  {
   "cell_type": "code",
   "execution_count": null,
   "metadata": {
    "collapsed": true
   },
   "outputs": [],
   "source": [
    "# encode values as numerical types\n",
    "transformed_data['public_meeting'] = pd.factorize(transformed_data['public_meeting'], sort=True)[0]"
   ]
  }
 ],
 "metadata": {
  "anaconda-cloud": {},
  "kernelspec": {
   "display_name": "Python [default]",
   "language": "python",
   "name": "python3"
  },
  "language_info": {
   "codemirror_mode": {
    "name": "ipython",
    "version": 3
   },
   "file_extension": ".py",
   "mimetype": "text/x-python",
   "name": "python",
   "nbconvert_exporter": "python",
   "pygments_lexer": "ipython3",
   "version": "3.5.2"
  }
 },
 "nbformat": 4,
 "nbformat_minor": 1
}
