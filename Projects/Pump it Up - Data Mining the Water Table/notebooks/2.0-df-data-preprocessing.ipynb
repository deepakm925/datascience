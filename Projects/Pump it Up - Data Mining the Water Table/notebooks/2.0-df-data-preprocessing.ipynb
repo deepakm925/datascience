{
 "cells": [
  {
   "cell_type": "markdown",
   "metadata": {},
   "source": [
    "# Data Preprocessing\n",
    "\n",
    "After exploring the data, I made notes of the steps we need to take to prepare the data:\n",
    "\n",
    "* Drop `quantity_group`, `wpt_name`, `recorded_by`, `source_type`, `waterpoint_type_group`, `payment_type` columns\n",
    "* Replace missing values with `other` category in `funder`, `installer`, `subvillage`, `scheme_name` columns.\n",
    "* Replace missing values in `public_meeting`, `permit` columns with `True`\n",
    "* Replace missing values in `scheme_management` to `VWC`\n",
    "* Replace zeros in `construction_year` with average \n",
    "* Use frequency distribution for values in these columns: `funder`, `installer`, `subvillage`, `scheme_name`, `ward`, `lga`.\n",
    "* One-hot Encode `scheme_management`, `basin`, `region`,`region_code`, `district_code`, `extraction_type`, `extraction_type_group`, `extraction_type_class`, `management`, `management_group`, `payment`, `water_quality`, `quality_group`, `source`, `source_class`, `waterpoint_type`.\n",
    "* Normalize `amount_tsh`, `gps_height`, `population` columns\n",
    "* Create amount_tsh:gps_height ratio\n",
    "* Handle imbalanced class labels"
   ]
  },
  {
   "cell_type": "code",
   "execution_count": 4,
   "metadata": {
    "collapsed": false
   },
   "outputs": [],
   "source": [
    "import pandas as pd\n",
    "import numpy as np\n",
    "\n",
    "# load transformed data\n",
    "data = pd.read_csv('../data/interim/transformed_data.csv')"
   ]
  },
  {
   "cell_type": "markdown",
   "metadata": {},
   "source": [
    "## Drop Columns"
   ]
  },
  {
   "cell_type": "code",
   "execution_count": 5,
   "metadata": {
    "collapsed": true
   },
   "outputs": [],
   "source": [
    "# a list of columns to drop\n",
    "cols_to_drop = ['quantity_group', 'wpt_name', 'recorded_by', 'source_type', 'waterpoint_type_group', 'payment_type']"
   ]
  },
  {
   "cell_type": "code",
   "execution_count": 103,
   "metadata": {
    "collapsed": false
   },
   "outputs": [
    {
     "name": "stdout",
     "output_type": "stream",
     "text": [
      "Columns dropped! Dataframe now contains 35 columns\n"
     ]
    },
    {
     "data": {
      "text/html": [
       "<div>\n",
       "<table border=\"1\" class=\"dataframe\">\n",
       "  <thead>\n",
       "    <tr style=\"text-align: right;\">\n",
       "      <th></th>\n",
       "      <th>id</th>\n",
       "      <th>amount_tsh</th>\n",
       "      <th>date_recorded</th>\n",
       "      <th>funder</th>\n",
       "      <th>gps_height</th>\n",
       "      <th>installer</th>\n",
       "      <th>longitude</th>\n",
       "      <th>latitude</th>\n",
       "      <th>num_private</th>\n",
       "      <th>basin</th>\n",
       "      <th>...</th>\n",
       "      <th>management</th>\n",
       "      <th>management_group</th>\n",
       "      <th>payment</th>\n",
       "      <th>water_quality</th>\n",
       "      <th>quality_group</th>\n",
       "      <th>quantity</th>\n",
       "      <th>source</th>\n",
       "      <th>source_class</th>\n",
       "      <th>waterpoint_type</th>\n",
       "      <th>status_group</th>\n",
       "    </tr>\n",
       "  </thead>\n",
       "  <tbody>\n",
       "    <tr>\n",
       "      <th>0</th>\n",
       "      <td>69572</td>\n",
       "      <td>6000.0</td>\n",
       "      <td>2011-03-14</td>\n",
       "      <td>Roman</td>\n",
       "      <td>1390</td>\n",
       "      <td>Roman</td>\n",
       "      <td>34.938093</td>\n",
       "      <td>-9.856322</td>\n",
       "      <td>0</td>\n",
       "      <td>Lake Nyasa</td>\n",
       "      <td>...</td>\n",
       "      <td>vwc</td>\n",
       "      <td>user-group</td>\n",
       "      <td>pay annually</td>\n",
       "      <td>soft</td>\n",
       "      <td>good</td>\n",
       "      <td>enough</td>\n",
       "      <td>spring</td>\n",
       "      <td>groundwater</td>\n",
       "      <td>communal standpipe</td>\n",
       "      <td>functional</td>\n",
       "    </tr>\n",
       "  </tbody>\n",
       "</table>\n",
       "<p>1 rows × 35 columns</p>\n",
       "</div>"
      ],
      "text/plain": [
       "      id  amount_tsh date_recorded funder  gps_height installer  longitude  \\\n",
       "0  69572      6000.0    2011-03-14  Roman        1390     Roman  34.938093   \n",
       "\n",
       "   latitude  num_private       basin     ...      management management_group  \\\n",
       "0 -9.856322            0  Lake Nyasa     ...             vwc       user-group   \n",
       "\n",
       "        payment  water_quality quality_group quantity  source source_class  \\\n",
       "0  pay annually           soft          good   enough  spring  groundwater   \n",
       "\n",
       "      waterpoint_type status_group  \n",
       "0  communal standpipe   functional  \n",
       "\n",
       "[1 rows x 35 columns]"
      ]
     },
     "execution_count": 103,
     "metadata": {},
     "output_type": "execute_result"
    }
   ],
   "source": [
    "def drop_columns(df, cols):\n",
    "    \"\"\"Drops columns\n",
    "    \n",
    "    input: 1). A Pandas Dataframe and 2). A list of strings\n",
    "    output: A Pandas Dataframe without the dropped columns\n",
    "    \"\"\"\n",
    "    df = df.copy()\n",
    "    df = df.drop(cols, axis = 1)\n",
    "    return df\n",
    "\n",
    "transformed_data = drop_columns(data, cols_to_drop)\n",
    "print(\"Columns dropped! Dataframe now contains {} columns\".format(transformed_data.shape[1]))\n",
    "transformed_data.head(1)"
   ]
  },
  {
   "cell_type": "markdown",
   "metadata": {
    "collapsed": true
   },
   "source": [
    "## Replace Missing Values\n",
    "\n",
    "The missing values need to be replaced with some specified value.  The value will vary per column.  \n",
    "\n",
    "Missing values in these columns will be replaced by a random integer:\n",
    "\n",
    "* **`funder`**\n",
    "* **`installer`**\n",
    "* **`subvillage`**\n",
    "* **`scheme_name`**\n",
    "\n",
    "Missing values in these columns will be replaced by a string:\n",
    "\n",
    "* **`public_meeting`** - replace with 'True'\n",
    "* **`permit`** - replace with 'True'\n",
    "* **`scheme_management`** - replace with 'VWC'"
   ]
  },
  {
   "cell_type": "code",
   "execution_count": 104,
   "metadata": {
    "collapsed": false
   },
   "outputs": [],
   "source": [
    "def fill_missing_vals(df, col, value):\n",
    "    \"\"\"Replace missing value with a scalar\n",
    "    \n",
    "    input: 1). A Pandas Dataframe, 2). Column, 3). Value to fill holes: scalar\n",
    "    output: A Pandas Dataframe with no missing values\n",
    "    \"\"\"\n",
    "    df = df.copy()\n",
    "    return df[col].fillna(value = value)"
   ]
  },
  {
   "cell_type": "code",
   "execution_count": 105,
   "metadata": {
    "collapsed": false
   },
   "outputs": [
    {
     "name": "stdout",
     "output_type": "stream",
     "text": [
      "funder now contains 0 missing values\n",
      "installer now contains 0 missing values\n",
      "subvillage now contains 0 missing values\n",
      "scheme_name now contains 0 missing values\n"
     ]
    }
   ],
   "source": [
    "# a list of a few columns containing missing values.  \n",
    "missing_val_cols = ['funder', 'installer', 'subvillage', 'scheme_name']\n",
    "\n",
    "# Replace missing values with this number.  I used an arbitrary value that isn't currently found in the columns. \n",
    "filler = 4000\n",
    "\n",
    "for col in missing_val_cols:\n",
    "    transformed_data[col] = fill_missing_vals(transformed_data, col, value = filler)\n",
    "    print('{} now contains {} missing values'.format(col, transformed_data[col].isnull().sum()))"
   ]
  },
  {
   "cell_type": "code",
   "execution_count": 106,
   "metadata": {
    "collapsed": false
   },
   "outputs": [
    {
     "name": "stdout",
     "output_type": "stream",
     "text": [
      "public_meeting now contains 0 missing values\n",
      "permit now contains 0 missing values\n"
     ]
    }
   ],
   "source": [
    "missing_val_cols = ['public_meeting', 'permit']\n",
    "\n",
    "# for this set of columns, replace missing values with 'True'\n",
    "filler = 'True'\n",
    "\n",
    "for col in missing_val_cols:\n",
    "    transformed_data[col] = fill_missing_vals(transformed_data, col, value = filler)\n",
    "    print('{} now contains {} missing values'.format(col, transformed_data[col].isnull().sum()))"
   ]
  },
  {
   "cell_type": "code",
   "execution_count": 107,
   "metadata": {
    "collapsed": false
   },
   "outputs": [
    {
     "name": "stdout",
     "output_type": "stream",
     "text": [
      "scheme_management now contains 0 missing values\n"
     ]
    }
   ],
   "source": [
    "col = 'scheme_management'\n",
    "filler = 'VWC'\n",
    "\n",
    "transformed_data[col] = fill_missing_vals(transformed_data, col, value = filler)\n",
    "print('{} now contains {} missing values'.format(col, transformed_data[col].isnull().sum()))"
   ]
  },
  {
   "cell_type": "code",
   "execution_count": 108,
   "metadata": {
    "collapsed": false
   },
   "outputs": [
    {
     "name": "stdout",
     "output_type": "stream",
     "text": [
      "There are 0 missing values\n"
     ]
    }
   ],
   "source": [
    "# Let's confirm that there aren't any missing values left\n",
    "print('There are {} missing values'.format(transformed_data.isnull().sum().sum()))"
   ]
  },
  {
   "cell_type": "markdown",
   "metadata": {},
   "source": [
    "## Replace Other Values\n",
    "\n",
    "I need to replace zeros in the **`construction_year`** column with 1997.  This is the average of the column without zeros.  We calculated this value in the data exploration notebook.  "
   ]
  },
  {
   "cell_type": "code",
   "execution_count": 109,
   "metadata": {
    "collapsed": false
   },
   "outputs": [
    {
     "name": "stdout",
     "output_type": "stream",
     "text": [
      "The average of the construction year column is:  1997\n"
     ]
    }
   ],
   "source": [
    "avg_year = 1997\n",
    "col = 'construction_year'\n",
    "transformed_data[col] = transformed_data[col].replace(to_replace = 0, value = 1997)\n",
    "print(\"The average of the construction year column is: \", round(transformed_data[col].mean()))"
   ]
  },
  {
   "cell_type": "markdown",
   "metadata": {},
   "source": [
    "## Handle Categorical Variables\n",
    "\n",
    "### Use Frequency Distribution\n",
    "\n",
    "Perform action on the following columns:\n",
    "* funder\n",
    "* installer\n",
    "* subvillage\n",
    "* scheme_name\n",
    "* ward\n",
    "* lga\n",
    "\n",
    "These columns contained too many unique values to be One-Hot encoded. Instead, I'll replace the text values with their respective frequency. "
   ]
  },
  {
   "cell_type": "code",
   "execution_count": 110,
   "metadata": {
    "collapsed": false
   },
   "outputs": [
    {
     "name": "stdout",
     "output_type": "stream",
     "text": [
      "funder transformed\n",
      "installer transformed\n",
      "subvillage transformed\n",
      "scheme_name transformed\n",
      "ward transformed\n",
      "lga transformed\n",
      "\n",
      "\n",
      "     funder  installer  subvillage  scheme_name      ward       lga\n",
      "0  0.004525   0.001603    0.000081     0.002303  0.000552  0.009253\n",
      "1  0.000862   0.000673    0.000081     0.474855  0.001212  0.012189\n",
      "2  0.000121   0.006963    0.008498     0.000135  0.000175  0.005010\n",
      "3  0.017832   0.003838    0.000323     0.474855  0.000552  0.002869\n",
      "4  0.000013   0.002276    0.000027     0.474855  0.000189  0.013024\n"
     ]
    }
   ],
   "source": [
    "columns = ['funder', 'installer', 'subvillage', 'scheme_name', 'ward', 'lga']\n",
    "\n",
    "def replace(x, counts):\n",
    "    \"\"\"Replaces the current value x with the frequency of that unique value\"\"\"\n",
    "    return counts[x]\n",
    "\n",
    "for col in columns:\n",
    "    # store frequency of each unique value in a dictionary\n",
    "    counts = dict(transformed_data[col].value_counts(normalize = True))\n",
    "    \n",
    "    # Apply a replace function to every element in the column\n",
    "    transformed_data[col] = transformed_data[col].apply(lambda x: replace(x, counts))\n",
    "    print('{} transformed'.format(col))\n",
    "\n",
    "# Sample the relevant columns\n",
    "sample_data = transformed_data[columns]\n",
    "print(\"\\n\")\n",
    "print(sample_data.head())"
   ]
  },
  {
   "cell_type": "markdown",
   "metadata": {},
   "source": [
    "From the sample, you can see that the frequencies of each unique value replaced the initial string values.  "
   ]
  },
  {
   "cell_type": "markdown",
   "metadata": {},
   "source": [
    "### One-Hot Encoding \n",
    "\n",
    "Most of our categorical variables can afford to be encoded using One-Hot encoding.  I created a list below:"
   ]
  },
  {
   "cell_type": "code",
   "execution_count": 111,
   "metadata": {
    "collapsed": false
   },
   "outputs": [
    {
     "name": "stdout",
     "output_type": "stream",
     "text": [
      "dummies created!\n",
      "Dataframe shape: (74250, 204)\n"
     ]
    }
   ],
   "source": [
    "# Perform one-hot encoding on a list of columns\n",
    "columns = ['scheme_management', 'basin', 'region', 'region_code', 'district_code', \n",
    "           'extraction_type', 'extraction_type_group', 'extraction_type_class', 'management', \n",
    "           'management_group', 'payment', 'water_quality', 'quality_group', \n",
    "           'source', 'source_class', 'waterpoint_type']\n",
    "\n",
    "transformed_data = pd.get_dummies(transformed_data, columns = columns)\n",
    "print('dummies created!')\n",
    "print('Dataframe shape:', transformed_data.shape)"
   ]
  },
  {
   "cell_type": "code",
   "execution_count": 112,
   "metadata": {
    "collapsed": false
   },
   "outputs": [
    {
     "data": {
      "text/html": [
       "<div>\n",
       "<table border=\"1\" class=\"dataframe\">\n",
       "  <thead>\n",
       "    <tr style=\"text-align: right;\">\n",
       "      <th></th>\n",
       "      <th>id</th>\n",
       "      <th>amount_tsh</th>\n",
       "      <th>date_recorded</th>\n",
       "      <th>funder</th>\n",
       "      <th>gps_height</th>\n",
       "      <th>installer</th>\n",
       "      <th>longitude</th>\n",
       "      <th>latitude</th>\n",
       "      <th>num_private</th>\n",
       "      <th>subvillage</th>\n",
       "      <th>...</th>\n",
       "      <th>source_class_groundwater</th>\n",
       "      <th>source_class_surface</th>\n",
       "      <th>source_class_unknown</th>\n",
       "      <th>waterpoint_type_cattle trough</th>\n",
       "      <th>waterpoint_type_communal standpipe</th>\n",
       "      <th>waterpoint_type_communal standpipe multiple</th>\n",
       "      <th>waterpoint_type_dam</th>\n",
       "      <th>waterpoint_type_hand pump</th>\n",
       "      <th>waterpoint_type_improved spring</th>\n",
       "      <th>waterpoint_type_other</th>\n",
       "    </tr>\n",
       "  </thead>\n",
       "  <tbody>\n",
       "    <tr>\n",
       "      <th>0</th>\n",
       "      <td>69572</td>\n",
       "      <td>6000.0</td>\n",
       "      <td>2011-03-14</td>\n",
       "      <td>0.004525</td>\n",
       "      <td>1390</td>\n",
       "      <td>0.001603</td>\n",
       "      <td>34.938093</td>\n",
       "      <td>-9.856322</td>\n",
       "      <td>0</td>\n",
       "      <td>0.000081</td>\n",
       "      <td>...</td>\n",
       "      <td>1.0</td>\n",
       "      <td>0.0</td>\n",
       "      <td>0.0</td>\n",
       "      <td>0.0</td>\n",
       "      <td>1.0</td>\n",
       "      <td>0.0</td>\n",
       "      <td>0.0</td>\n",
       "      <td>0.0</td>\n",
       "      <td>0.0</td>\n",
       "      <td>0.0</td>\n",
       "    </tr>\n",
       "    <tr>\n",
       "      <th>1</th>\n",
       "      <td>8776</td>\n",
       "      <td>0.0</td>\n",
       "      <td>2013-03-06</td>\n",
       "      <td>0.000862</td>\n",
       "      <td>1399</td>\n",
       "      <td>0.000673</td>\n",
       "      <td>34.698766</td>\n",
       "      <td>-2.147466</td>\n",
       "      <td>0</td>\n",
       "      <td>0.000081</td>\n",
       "      <td>...</td>\n",
       "      <td>0.0</td>\n",
       "      <td>1.0</td>\n",
       "      <td>0.0</td>\n",
       "      <td>0.0</td>\n",
       "      <td>1.0</td>\n",
       "      <td>0.0</td>\n",
       "      <td>0.0</td>\n",
       "      <td>0.0</td>\n",
       "      <td>0.0</td>\n",
       "      <td>0.0</td>\n",
       "    </tr>\n",
       "  </tbody>\n",
       "</table>\n",
       "<p>2 rows × 204 columns</p>\n",
       "</div>"
      ],
      "text/plain": [
       "      id  amount_tsh date_recorded    funder  gps_height  installer  \\\n",
       "0  69572      6000.0    2011-03-14  0.004525        1390   0.001603   \n",
       "1   8776         0.0    2013-03-06  0.000862        1399   0.000673   \n",
       "\n",
       "   longitude  latitude  num_private  subvillage          ...            \\\n",
       "0  34.938093 -9.856322            0    0.000081          ...             \n",
       "1  34.698766 -2.147466            0    0.000081          ...             \n",
       "\n",
       "   source_class_groundwater  source_class_surface  source_class_unknown  \\\n",
       "0                       1.0                   0.0                   0.0   \n",
       "1                       0.0                   1.0                   0.0   \n",
       "\n",
       "  waterpoint_type_cattle trough  waterpoint_type_communal standpipe  \\\n",
       "0                           0.0                                 1.0   \n",
       "1                           0.0                                 1.0   \n",
       "\n",
       "  waterpoint_type_communal standpipe multiple  waterpoint_type_dam  \\\n",
       "0                                         0.0                  0.0   \n",
       "1                                         0.0                  0.0   \n",
       "\n",
       "  waterpoint_type_hand pump waterpoint_type_improved spring  \\\n",
       "0                       0.0                             0.0   \n",
       "1                       0.0                             0.0   \n",
       "\n",
       "   waterpoint_type_other  \n",
       "0                    0.0  \n",
       "1                    0.0  \n",
       "\n",
       "[2 rows x 204 columns]"
      ]
     },
     "execution_count": 112,
     "metadata": {},
     "output_type": "execute_result"
    }
   ],
   "source": [
    "transformed_data.head(2)"
   ]
  }
 ],
 "metadata": {
  "anaconda-cloud": {},
  "kernelspec": {
   "display_name": "Python [default]",
   "language": "python",
   "name": "python3"
  },
  "language_info": {
   "codemirror_mode": {
    "name": "ipython",
    "version": 3
   },
   "file_extension": ".py",
   "mimetype": "text/x-python",
   "name": "python",
   "nbconvert_exporter": "python",
   "pygments_lexer": "ipython3",
   "version": "3.5.2"
  }
 },
 "nbformat": 4,
 "nbformat_minor": 1
}
