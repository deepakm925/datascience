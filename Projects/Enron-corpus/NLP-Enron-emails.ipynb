{
 "cells": [
  {
   "cell_type": "markdown",
   "metadata": {},
   "source": [
    "## Exploring the Enron Emails Dataset"
   ]
  },
  {
   "cell_type": "markdown",
   "metadata": {},
   "source": [
    "The Enron corpus is the largest public domain database of real e-mails in the world.  This version of the dataset contains over 500,000 emails from about 150 users, mostly senior management at Enron.  The corpus is valuable for research in that it provides a rich example of how a real organization uses e-mails and has had a widespread influence on today's software for fraud detection.  Visit [here](https://en.wikipedia.org/wiki/Enron_scandal) to learn more about the Enron scandal.  \n",
    "\n",
    "The purpose of this project is to explore the data to check for fraud and to see what sort of information was leaked in the e-mails.  Checkout the data set [here](https://www.cs.cmu.edu/~./enron/).  "
   ]
  },
  {
   "cell_type": "markdown",
   "metadata": {},
   "source": [
    "## 1. Looked At The Data"
   ]
  },
  {
   "cell_type": "code",
   "execution_count": 25,
   "metadata": {
    "collapsed": false
   },
   "outputs": [
    {
     "name": "stdout",
     "output_type": "stream",
     "text": [
      "Successfully loaded 517401 rows and 2 columns!\n",
      "Index([u'file', u'message'], dtype='object')\n",
      "                       file                                            message\n",
      "0     allen-p/_sent_mail/1.  Message-ID: <18782981.1075855378110.JavaMail.e...\n",
      "1    allen-p/_sent_mail/10.  Message-ID: <15464986.1075855378456.JavaMail.e...\n",
      "2   allen-p/_sent_mail/100.  Message-ID: <24216240.1075855687451.JavaMail.e...\n",
      "3  allen-p/_sent_mail/1000.  Message-ID: <13505866.1075863688222.JavaMail.e...\n",
      "4  allen-p/_sent_mail/1001.  Message-ID: <30922949.1075863688243.JavaMail.e...\n"
     ]
    }
   ],
   "source": [
    "import pandas as pd\n",
    "import numpy as np\n",
    "\n",
    "filepath = \"data/emails.csv\"\n",
    "# read the data into a pandas dataframe called emails\n",
    "emails = pd.read_csv(filepath)\n",
    "print(\"Successfully loaded {} rows and {} columns!\".format(emails.shape[0], emails.shape[1]))\n",
    "# print column names\n",
    "print(emails.columns)\n",
    "# print the first 5 rows of the dataset\n",
    "print(emails.head())"
   ]
  },
  {
   "cell_type": "markdown",
   "metadata": {},
   "source": [
    "Numpy and pandas were imported, then the csv file containing the e-mails was read into a dataframe called **emails**.  The reading may take a while due to the size of the file.  Next, the shape of the dataset, column names and a sample of five rows within the dataset were printed.  There are 517,401 rows and 2 columns.  \n",
    "\n",
    "**`file`** - contains the original directory and filename of each email. The root level of this path is the employee to whom the emails belong.\n",
    "\n",
    "**`message`** - contains the email text\n",
    "\n",
    "Notice that the values in the \"file\" column contains information that could be used to sort the e-mails. The e-mails could be sorted by directory, filename and by the employeee.  This should be useful given the size of the dataset and the possible need to filter the e-mails for specific records.  The \"file\" column will be used to create three newly engineered columns containing the split strings, for the directory, employee and the path.  "
   ]
  },
  {
   "cell_type": "code",
   "execution_count": 50,
   "metadata": {
    "collapsed": false
   },
   "outputs": [
    {
     "name": "stdout",
     "output_type": "stream",
     "text": [
      "                           file  \\\n",
      "0         allen-p/_sent_mail/1.   \n",
      "1        allen-p/_sent_mail/10.   \n",
      "2       allen-p/_sent_mail/100.   \n",
      "3      allen-p/_sent_mail/1000.   \n",
      "4      allen-p/_sent_mail/1001.   \n",
      "5      allen-p/_sent_mail/1002.   \n",
      "6      allen-p/_sent_mail/1003.   \n",
      "7      allen-p/_sent_mail/1004.   \n",
      "8       allen-p/_sent_mail/101.   \n",
      "9       allen-p/_sent_mail/102.   \n",
      "10      allen-p/_sent_mail/103.   \n",
      "11      allen-p/_sent_mail/104.   \n",
      "12      allen-p/_sent_mail/105.   \n",
      "13      allen-p/_sent_mail/106.   \n",
      "14      allen-p/_sent_mail/107.   \n",
      "15      allen-p/_sent_mail/108.   \n",
      "16      allen-p/_sent_mail/109.   \n",
      "17       allen-p/_sent_mail/11.   \n",
      "18      allen-p/_sent_mail/110.   \n",
      "19      allen-p/_sent_mail/111.   \n",
      "20      allen-p/_sent_mail/112.   \n",
      "21      allen-p/_sent_mail/113.   \n",
      "22      allen-p/_sent_mail/114.   \n",
      "23      allen-p/_sent_mail/115.   \n",
      "24      allen-p/_sent_mail/116.   \n",
      "25      allen-p/_sent_mail/117.   \n",
      "26      allen-p/_sent_mail/118.   \n",
      "27      allen-p/_sent_mail/119.   \n",
      "28       allen-p/_sent_mail/12.   \n",
      "29      allen-p/_sent_mail/120.   \n",
      "..                          ...   \n",
      "970  allen-p/all_documents/435.   \n",
      "971  allen-p/all_documents/436.   \n",
      "972  allen-p/all_documents/437.   \n",
      "973  allen-p/all_documents/438.   \n",
      "974  allen-p/all_documents/439.   \n",
      "975   allen-p/all_documents/44.   \n",
      "976  allen-p/all_documents/440.   \n",
      "977  allen-p/all_documents/441.   \n",
      "978  allen-p/all_documents/442.   \n",
      "979  allen-p/all_documents/443.   \n",
      "980  allen-p/all_documents/444.   \n",
      "981  allen-p/all_documents/445.   \n",
      "982  allen-p/all_documents/446.   \n",
      "983  allen-p/all_documents/447.   \n",
      "984  allen-p/all_documents/448.   \n",
      "985  allen-p/all_documents/449.   \n",
      "986   allen-p/all_documents/45.   \n",
      "987  allen-p/all_documents/450.   \n",
      "988  allen-p/all_documents/451.   \n",
      "989  allen-p/all_documents/452.   \n",
      "990  allen-p/all_documents/453.   \n",
      "991  allen-p/all_documents/454.   \n",
      "992  allen-p/all_documents/455.   \n",
      "993  allen-p/all_documents/456.   \n",
      "994  allen-p/all_documents/457.   \n",
      "995  allen-p/all_documents/458.   \n",
      "996  allen-p/all_documents/459.   \n",
      "997   allen-p/all_documents/46.   \n",
      "998  allen-p/all_documents/460.   \n",
      "999  allen-p/all_documents/461.   \n",
      "\n",
      "                                               message  \n",
      "0    Message-ID: <18782981.1075855378110.JavaMail.e...  \n",
      "1    Message-ID: <15464986.1075855378456.JavaMail.e...  \n",
      "2    Message-ID: <24216240.1075855687451.JavaMail.e...  \n",
      "3    Message-ID: <13505866.1075863688222.JavaMail.e...  \n",
      "4    Message-ID: <30922949.1075863688243.JavaMail.e...  \n",
      "5    Message-ID: <30965995.1075863688265.JavaMail.e...  \n",
      "6    Message-ID: <16254169.1075863688286.JavaMail.e...  \n",
      "7    Message-ID: <17189699.1075863688308.JavaMail.e...  \n",
      "8    Message-ID: <20641191.1075855687472.JavaMail.e...  \n",
      "9    Message-ID: <30795301.1075855687494.JavaMail.e...  \n",
      "10   Message-ID: <33076797.1075855687515.JavaMail.e...  \n",
      "11   Message-ID: <25459584.1075855687536.JavaMail.e...  \n",
      "12   Message-ID: <13116875.1075855687561.JavaMail.e...  \n",
      "13   Message-ID: <2707340.1075855687584.JavaMail.ev...  \n",
      "14   Message-ID: <2465689.1075855687605.JavaMail.ev...  \n",
      "15   Message-ID: <1115198.1075855687626.JavaMail.ev...  \n",
      "16   Message-ID: <19773657.1075855687649.JavaMail.e...  \n",
      "17   Message-ID: <7391389.1075855378477.JavaMail.ev...  \n",
      "18   Message-ID: <12759088.1075855687671.JavaMail.e...  \n",
      "19   Message-ID: <29177675.1075855687692.JavaMail.e...  \n",
      "20   Message-ID: <24729148.1075855687713.JavaMail.e...  \n",
      "21   Message-ID: <17610321.1075855687735.JavaMail.e...  \n",
      "22   Message-ID: <26575732.1075855687756.JavaMail.e...  \n",
      "23   Message-ID: <15294346.1075855687778.JavaMail.e...  \n",
      "24   Message-ID: <25140503.1075855687800.JavaMail.e...  \n",
      "25   Message-ID: <19034252.1075855687825.JavaMail.e...  \n",
      "26   Message-ID: <719350.1075855687850.JavaMail.eva...  \n",
      "27   Message-ID: <10523086.1075855687873.JavaMail.e...  \n",
      "28   Message-ID: <8572706.1075855378498.JavaMail.ev...  \n",
      "29   Message-ID: <29665600.1075855687895.JavaMail.e...  \n",
      "..                                                 ...  \n",
      "970  Message-ID: <20885647.1075855695595.JavaMail.e...  \n",
      "971  Message-ID: <12157190.1075855695617.JavaMail.e...  \n",
      "972  Message-ID: <12970945.1075855695638.JavaMail.e...  \n",
      "973  Message-ID: <33097150.1075855695661.JavaMail.e...  \n",
      "974  Message-ID: <31991549.1075855695682.JavaMail.e...  \n",
      "975  Message-ID: <30539371.1075855666459.JavaMail.e...  \n",
      "976  Message-ID: <5752490.1075855695704.JavaMail.ev...  \n",
      "977  Message-ID: <11791124.1075855695725.JavaMail.e...  \n",
      "978  Message-ID: <958898.1075855695746.JavaMail.eva...  \n",
      "979  Message-ID: <10083938.1075855695768.JavaMail.e...  \n",
      "980  Message-ID: <30877050.1075855695790.JavaMail.e...  \n",
      "981  Message-ID: <31291337.1075855695811.JavaMail.e...  \n",
      "982  Message-ID: <14900810.1075855695833.JavaMail.e...  \n",
      "983  Message-ID: <21196699.1075855695854.JavaMail.e...  \n",
      "984  Message-ID: <5521229.1075855695875.JavaMail.ev...  \n",
      "985  Message-ID: <17302921.1075855695897.JavaMail.e...  \n",
      "986  Message-ID: <26630157.1075855666484.JavaMail.e...  \n",
      "987  Message-ID: <27485933.1075855695919.JavaMail.e...  \n",
      "988  Message-ID: <12211064.1075855695940.JavaMail.e...  \n",
      "989  Message-ID: <12458711.1075855695961.JavaMail.e...  \n",
      "990  Message-ID: <13910173.1075855695984.JavaMail.e...  \n",
      "991  Message-ID: <14561005.1075855696007.JavaMail.e...  \n",
      "992  Message-ID: <14346188.1075855696029.JavaMail.e...  \n",
      "993  Message-ID: <27798412.1075855696053.JavaMail.e...  \n",
      "994  Message-ID: <29564732.1075855696074.JavaMail.e...  \n",
      "995  Message-ID: <20430828.1075855696096.JavaMail.e...  \n",
      "996  Message-ID: <18425275.1075855696118.JavaMail.e...  \n",
      "997  Message-ID: <24036204.1075855666506.JavaMail.e...  \n",
      "998  Message-ID: <33307764.1075855696139.JavaMail.e...  \n",
      "999  Message-ID: <15009418.1075855696162.JavaMail.e...  \n",
      "\n",
      "[1000 rows x 2 columns]\n",
      "No NaN values\n"
     ]
    }
   ],
   "source": [
    "null_values = emails.isnull().values.any()\n",
    "if null_values == False: print \"No NaN values\"\n",
    "    "
   ]
  },
  {
   "cell_type": "code",
   "execution_count": 3,
   "metadata": {
    "collapsed": false
   },
   "outputs": [
    {
     "name": "stdout",
     "output_type": "stream",
     "text": [
      "(517401, 2)\n"
     ]
    }
   ],
   "source": [
    "emails = emails.dropna()\n",
    "print emails.shape"
   ]
  },
  {
   "cell_type": "code",
   "execution_count": 5,
   "metadata": {
    "collapsed": false
   },
   "outputs": [
    {
     "name": "stdout",
     "output_type": "stream",
     "text": [
      "Message-ID: <18782981.1075855378110.JavaMail.evans@thyme>\n",
      "Date: Mon, 14 May 2001 16:39:00 -0700 (PDT)\n",
      "From: phillip.allen@enron.com\n",
      "To: tim.belden@enron.com\n",
      "Subject: \n",
      "Mime-Version: 1.0\n",
      "Content-Type: text/plain; charset=us-ascii\n",
      "Content-Transfer-Encoding: 7bit\n",
      "X-From: Phillip K Allen\n",
      "X-To: Tim Belden <Tim Belden/Enron@EnronXGate>\n",
      "X-cc: \n",
      "X-bcc: \n",
      "X-Folder: \\Phillip_Allen_Jan2002_1\\Allen, Phillip K.\\'Sent Mail\n",
      "X-Origin: Allen-P\n",
      "X-FileName: pallen (Non-Privileged).pst\n",
      "\n",
      "Here is our forecast\n",
      "\n",
      " \n",
      "                       file                                            message\n",
      "0     allen-p/_sent_mail/1.  Message-ID: <18782981.1075855378110.JavaMail.e...\n",
      "1    allen-p/_sent_mail/10.  Message-ID: <15464986.1075855378456.JavaMail.e...\n",
      "2   allen-p/_sent_mail/100.  Message-ID: <24216240.1075855687451.JavaMail.e...\n",
      "3  allen-p/_sent_mail/1000.  Message-ID: <13505866.1075863688222.JavaMail.e...\n",
      "4  allen-p/_sent_mail/1001.  Message-ID: <30922949.1075863688243.JavaMail.e...\n"
     ]
    }
   ],
   "source": [
    "print emails.loc[0][\"message\"]\n",
    "print emails.head()\n"
   ]
  },
  {
   "cell_type": "code",
   "execution_count": null,
   "metadata": {
    "collapsed": true
   },
   "outputs": [],
   "source": []
  }
 ],
 "metadata": {
  "kernelspec": {
   "display_name": "Python 2",
   "language": "python",
   "name": "python2"
  },
  "language_info": {
   "codemirror_mode": {
    "name": "ipython",
    "version": 2
   },
   "file_extension": ".py",
   "mimetype": "text/x-python",
   "name": "python",
   "nbconvert_exporter": "python",
   "pygments_lexer": "ipython2",
   "version": "2.7.12"
  }
 },
 "nbformat": 4,
 "nbformat_minor": 0
}
