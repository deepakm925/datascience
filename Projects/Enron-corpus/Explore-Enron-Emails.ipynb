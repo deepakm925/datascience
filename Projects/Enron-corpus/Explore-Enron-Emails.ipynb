{
 "cells": [
  {
   "cell_type": "markdown",
   "metadata": {},
   "source": [
    "## Exploring the Enron Emails Dataset"
   ]
  },
  {
   "cell_type": "markdown",
   "metadata": {},
   "source": [
    "The Enron corpus is the largest public domain database of real e-mails in the world.  This version of the dataset contains over 500,000 emails from about 150 users, mostly senior management at Enron.  The corpus is valuable for research in that it provides a rich example of how a real organization uses e-mails and has had a widespread influence on today's software for fraud detection.  Visit [here](https://en.wikipedia.org/wiki/Enron_scandal) to learn more about the Enron scandal.  \n",
    "\n",
    "The purpose of this project is to explore the data to check for fraud and to see what sort of information was leaked in the e-mails.  Checkout the data set [here](https://www.cs.cmu.edu/~./enron/).  "
   ]
  },
  {
   "cell_type": "markdown",
   "metadata": {},
   "source": [
    "## 1. Looking At The Data"
   ]
  },
  {
   "cell_type": "code",
   "execution_count": 71,
   "metadata": {
    "collapsed": false
   },
   "outputs": [
    {
     "name": "stdout",
     "output_type": "stream",
     "text": [
      "Successfully loaded 517401 rows and 2 columns!\n",
      "Index([u'file', u'message'], dtype='object')\n",
      "                       file                                            message\n",
      "0     allen-p/_sent_mail/1.  Message-ID: <18782981.1075855378110.JavaMail.e...\n",
      "1    allen-p/_sent_mail/10.  Message-ID: <15464986.1075855378456.JavaMail.e...\n",
      "2   allen-p/_sent_mail/100.  Message-ID: <24216240.1075855687451.JavaMail.e...\n",
      "3  allen-p/_sent_mail/1000.  Message-ID: <13505866.1075863688222.JavaMail.e...\n",
      "4  allen-p/_sent_mail/1001.  Message-ID: <30922949.1075863688243.JavaMail.e...\n"
     ]
    }
   ],
   "source": [
    "import pandas as pd\n",
    "import numpy as np\n",
    "\n",
    "filepath = \"data/emails.csv\"\n",
    "# read the data into a pandas dataframe called emails\n",
    "emails = pd.read_csv(filepath)\n",
    "print(\"Successfully loaded {} rows and {} columns!\".format(emails.shape[0], emails.shape[1]))\n",
    "# print column names\n",
    "print(emails.columns)\n",
    "# store column headers \n",
    "headers = [header for header in emails.columns]\n",
    "# print the first 5 rows of the dataset\n",
    "print(emails.head())"
   ]
  },
  {
   "cell_type": "markdown",
   "metadata": {},
   "source": [
    "Numpy and pandas were imported, then the csv file containing the e-mails was read into a dataframe called **`emails`**.  The reading may take a while due to the size of the file.  Next, the shape of the dataset, column names and a sample of five rows within the dataset were printed.  There are 517,401 rows and 2 columns.  \n",
    "\n",
    "**`file`** - contains the original directory and filename of each email. The root level of this path is the employee (surname first followed by first name initial) to whom the emails belong. \n",
    "\n",
    "**`message`** - contains the email text"
   ]
  },
  {
   "cell_type": "markdown",
   "metadata": {},
   "source": [
    "## 2. Data Cleaning"
   ]
  },
  {
   "cell_type": "markdown",
   "metadata": {},
   "source": [
    "### Missing Values"
   ]
  },
  {
   "cell_type": "code",
   "execution_count": 72,
   "metadata": {
    "collapsed": false
   },
   "outputs": [
    {
     "name": "stdout",
     "output_type": "stream",
     "text": [
      "No NaN values\n"
     ]
    }
   ],
   "source": [
    "# check for null values\n",
    "null_values = emails.isnull().values.any()\n",
    "if null_values == False: print \"No NaN values\""
   ]
  },
  {
   "cell_type": "markdown",
   "metadata": {},
   "source": [
    "Before creating the new column, the `emails` dataframe was checked for missing values.  In this case, there were no missing values."
   ]
  },
  {
   "cell_type": "markdown",
   "metadata": {},
   "source": [
    "### Adding in values"
   ]
  },
  {
   "cell_type": "code",
   "execution_count": 73,
   "metadata": {
    "collapsed": false
   },
   "outputs": [],
   "source": [
    "#create new column for employee name using data from the \"file\" column\n",
    "employees = []\n",
    "\n",
    "# empty array to store shorter and longer than average directories\n",
    "outlier_dir = []\n",
    "# extract \"file\" column\n",
    "file_info = emails[headers[0]]\n",
    "for row in file_info:\n",
    "    tokens = row.split(\"/\")\n",
    "    if len(tokens) < 3 or len(tokens)> 3:\n",
    "        outlier_dir.append(tokens)\n",
    "    employees.append(tokens[0])\n",
    "# create column and set its values\n",
    "emails[\"employee\"] = employees "
   ]
  },
  {
   "cell_type": "code",
   "execution_count": 74,
   "metadata": {
    "collapsed": false
   },
   "outputs": [
    {
     "name": "stdout",
     "output_type": "stream",
     "text": [
      "                       file  \\\n",
      "0     allen-p/_sent_mail/1.   \n",
      "1    allen-p/_sent_mail/10.   \n",
      "2   allen-p/_sent_mail/100.   \n",
      "3  allen-p/_sent_mail/1000.   \n",
      "4  allen-p/_sent_mail/1001.   \n",
      "\n",
      "                                             message employee  \n",
      "0  Message-ID: <18782981.1075855378110.JavaMail.e...  allen-p  \n",
      "1  Message-ID: <15464986.1075855378456.JavaMail.e...  allen-p  \n",
      "2  Message-ID: <24216240.1075855687451.JavaMail.e...  allen-p  \n",
      "3  Message-ID: <13505866.1075863688222.JavaMail.e...  allen-p  \n",
      "4  Message-ID: <30922949.1075863688243.JavaMail.e...  allen-p  \n"
     ]
    }
   ],
   "source": [
    "# shows the dataframe with the appended column\n",
    "print(emails.head())"
   ]
  },
  {
   "cell_type": "code",
   "execution_count": 75,
   "metadata": {
    "collapsed": false
   },
   "outputs": [
    {
     "name": "stdout",
     "output_type": "stream",
     "text": [
      "kaminski-v      28465\n",
      "dasovich-j      28234\n",
      "kean-s          25351\n",
      "mann-k          23381\n",
      "jones-t         19950\n",
      "shackleton-s    18687\n",
      "taylor-m        13875\n",
      "farmer-d        13032\n",
      "germany-c       12436\n",
      "beck-s          11830\n",
      "Name: employee, dtype: int64\n"
     ]
    }
   ],
   "source": [
    "# show the number of emails sent by each employee\n",
    "print(emails[\"employee\"].value_counts()[:10])"
   ]
  },
  {
   "cell_type": "code",
   "execution_count": 76,
   "metadata": {
    "collapsed": false
   },
   "outputs": [
    {
     "name": "stdout",
     "output_type": "stream",
     "text": [
      "26555\n"
     ]
    }
   ],
   "source": [
    "print(len(outlier_dir))"
   ]
  },
  {
   "cell_type": "markdown",
   "metadata": {
    "collapsed": true
   },
   "source": [
    "The e-mails could be filtered by employee names, which can be retrived from the filename found in the `file` column.  Although the subfolders in the filepath could be used as filters, they will remain untouched for now.\n",
    "\n",
    "An empty array was created to hold the values for the `employee` column.  The `file` column from the `emails` dataframe was extracted into an array called `file_info`.  `file_info` was then loooped over to get the string found at each index. Each string was then split into tokens, with the employee name located at index 0.  Each name was then added to the `employees` array.  This array was then set to be the values in the new `employee` column.  \n",
    "\n",
    "A sample of five rows was printed to show that the new column was added.  Also, the number of e-mails sent by each employee was printed in the table.\n",
    "\n",
    "Note that there were in also 26,555 directories that directories that contained less or more than three folders.  Although this figure may seem large, it represents approximately 5.0% of all directories listed in the dataset.  \n"
   ]
  },
  {
   "cell_type": "code",
   "execution_count": null,
   "metadata": {
    "collapsed": true
   },
   "outputs": [],
   "source": []
  }
 ],
 "metadata": {
  "kernelspec": {
   "display_name": "Python 2",
   "language": "python",
   "name": "python2"
  },
  "language_info": {
   "codemirror_mode": {
    "name": "ipython",
    "version": 2
   },
   "file_extension": ".py",
   "mimetype": "text/x-python",
   "name": "python",
   "nbconvert_exporter": "python",
   "pygments_lexer": "ipython2",
   "version": "2.7.12"
  }
 },
 "nbformat": 4,
 "nbformat_minor": 0
}
