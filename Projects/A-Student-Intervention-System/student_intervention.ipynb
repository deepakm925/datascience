{
 "cells": [
  {
   "cell_type": "markdown",
   "metadata": {},
   "source": [
    "# Project 2: \n",
    "### Building a Student Intervention System"
   ]
  },
  {
   "cell_type": "code",
   "execution_count": 2,
   "metadata": {
    "collapsed": false
   },
   "outputs": [],
   "source": [
    "# Import libraries\n",
    "import numpy as np\n",
    "import pandas as pd"
   ]
  },
  {
   "cell_type": "code",
   "execution_count": 4,
   "metadata": {
    "collapsed": false
   },
   "outputs": [
    {
     "name": "stdout",
     "output_type": "stream",
     "text": [
      "    school sex  age address famsize Pstatus  Medu  Fedu      Mjob      Fjob  \\\n",
      "0       GP   F   18       U     GT3       A     4     4   at_home   teacher   \n",
      "1       GP   F   17       U     GT3       T     1     1   at_home     other   \n",
      "2       GP   F   15       U     LE3       T     1     1   at_home     other   \n",
      "3       GP   F   15       U     GT3       T     4     2    health  services   \n",
      "4       GP   F   16       U     GT3       T     3     3     other     other   \n",
      "5       GP   M   16       U     LE3       T     4     3  services     other   \n",
      "6       GP   M   16       U     LE3       T     2     2     other     other   \n",
      "7       GP   F   17       U     GT3       A     4     4     other   teacher   \n",
      "8       GP   M   15       U     LE3       A     3     2  services     other   \n",
      "9       GP   M   15       U     GT3       T     3     4     other     other   \n",
      "10      GP   F   15       U     GT3       T     4     4   teacher    health   \n",
      "11      GP   F   15       U     GT3       T     2     1  services     other   \n",
      "12      GP   M   15       U     LE3       T     4     4    health  services   \n",
      "13      GP   M   15       U     GT3       T     4     3   teacher     other   \n",
      "14      GP   M   15       U     GT3       A     2     2     other     other   \n",
      "15      GP   F   16       U     GT3       T     4     4    health     other   \n",
      "16      GP   F   16       U     GT3       T     4     4  services  services   \n",
      "17      GP   F   16       U     GT3       T     3     3     other     other   \n",
      "18      GP   M   17       U     GT3       T     3     2  services  services   \n",
      "19      GP   M   16       U     LE3       T     4     3    health     other   \n",
      "20      GP   M   15       U     GT3       T     4     3   teacher     other   \n",
      "21      GP   M   15       U     GT3       T     4     4    health    health   \n",
      "22      GP   M   16       U     LE3       T     4     2   teacher     other   \n",
      "23      GP   M   16       U     LE3       T     2     2     other     other   \n",
      "24      GP   F   15       R     GT3       T     2     4  services    health   \n",
      "25      GP   F   16       U     GT3       T     2     2  services  services   \n",
      "26      GP   M   15       U     GT3       T     2     2     other     other   \n",
      "27      GP   M   15       U     GT3       T     4     2    health  services   \n",
      "28      GP   M   16       U     LE3       A     3     4  services     other   \n",
      "29      GP   M   16       U     GT3       T     4     4   teacher   teacher   \n",
      "..     ...  ..  ...     ...     ...     ...   ...   ...       ...       ...   \n",
      "365     MS   M   18       R     GT3       T     1     3   at_home     other   \n",
      "366     MS   M   18       U     LE3       T     4     4   teacher  services   \n",
      "367     MS   F   17       R     GT3       T     1     1     other  services   \n",
      "368     MS   F   18       U     GT3       T     2     3   at_home  services   \n",
      "369     MS   F   18       R     GT3       T     4     4     other   teacher   \n",
      "370     MS   F   19       U     LE3       T     3     2  services  services   \n",
      "371     MS   M   18       R     LE3       T     1     2   at_home  services   \n",
      "372     MS   F   17       U     GT3       T     2     2     other   at_home   \n",
      "373     MS   F   17       R     GT3       T     1     2     other     other   \n",
      "374     MS   F   18       R     LE3       T     4     4     other     other   \n",
      "375     MS   F   18       R     GT3       T     1     1     other     other   \n",
      "376     MS   F   20       U     GT3       T     4     2    health     other   \n",
      "377     MS   F   18       R     LE3       T     4     4   teacher  services   \n",
      "378     MS   F   18       U     GT3       T     3     3     other     other   \n",
      "379     MS   F   17       R     GT3       T     3     1   at_home     other   \n",
      "380     MS   M   18       U     GT3       T     4     4   teacher   teacher   \n",
      "381     MS   M   18       R     GT3       T     2     1     other     other   \n",
      "382     MS   M   17       U     GT3       T     2     3     other  services   \n",
      "383     MS   M   19       R     GT3       T     1     1     other  services   \n",
      "384     MS   M   18       R     GT3       T     4     2     other     other   \n",
      "385     MS   F   18       R     GT3       T     2     2   at_home     other   \n",
      "386     MS   F   18       R     GT3       T     4     4   teacher   at_home   \n",
      "387     MS   F   19       R     GT3       T     2     3  services     other   \n",
      "388     MS   F   18       U     LE3       T     3     1   teacher  services   \n",
      "389     MS   F   18       U     GT3       T     1     1     other     other   \n",
      "390     MS   M   20       U     LE3       A     2     2  services  services   \n",
      "391     MS   M   17       U     LE3       T     3     1  services  services   \n",
      "392     MS   M   21       R     GT3       T     1     1     other     other   \n",
      "393     MS   M   18       R     LE3       T     3     2  services     other   \n",
      "394     MS   M   19       U     LE3       T     1     1     other   at_home   \n",
      "\n",
      "     ...   internet romantic  famrel  freetime  goout Dalc Walc health  \\\n",
      "0    ...         no       no       4         3      4    1    1      3   \n",
      "1    ...        yes       no       5         3      3    1    1      3   \n",
      "2    ...        yes       no       4         3      2    2    3      3   \n",
      "3    ...        yes      yes       3         2      2    1    1      5   \n",
      "4    ...         no       no       4         3      2    1    2      5   \n",
      "5    ...        yes       no       5         4      2    1    2      5   \n",
      "6    ...        yes       no       4         4      4    1    1      3   \n",
      "7    ...         no       no       4         1      4    1    1      1   \n",
      "8    ...        yes       no       4         2      2    1    1      1   \n",
      "9    ...        yes       no       5         5      1    1    1      5   \n",
      "10   ...        yes       no       3         3      3    1    2      2   \n",
      "11   ...        yes       no       5         2      2    1    1      4   \n",
      "12   ...        yes       no       4         3      3    1    3      5   \n",
      "13   ...        yes       no       5         4      3    1    2      3   \n",
      "14   ...        yes      yes       4         5      2    1    1      3   \n",
      "15   ...        yes       no       4         4      4    1    2      2   \n",
      "16   ...        yes       no       3         2      3    1    2      2   \n",
      "17   ...         no       no       5         3      2    1    1      4   \n",
      "18   ...        yes       no       5         5      5    2    4      5   \n",
      "19   ...        yes       no       3         1      3    1    3      5   \n",
      "20   ...        yes       no       4         4      1    1    1      1   \n",
      "21   ...        yes       no       5         4      2    1    1      5   \n",
      "22   ...        yes       no       4         5      1    1    3      5   \n",
      "23   ...        yes       no       5         4      4    2    4      5   \n",
      "24   ...        yes       no       4         3      2    1    1      5   \n",
      "25   ...        yes       no       1         2      2    1    3      5   \n",
      "26   ...        yes       no       4         2      2    1    2      5   \n",
      "27   ...        yes       no       2         2      4    2    4      1   \n",
      "28   ...        yes       no       5         3      3    1    1      5   \n",
      "29   ...        yes      yes       4         4      5    5    5      5   \n",
      "..   ...        ...      ...     ...       ...    ...  ...  ...    ...   \n",
      "365  ...         no       no       3         3      4    2    4      3   \n",
      "366  ...        yes      yes       4         2      2    2    2      5   \n",
      "367  ...        yes      yes       5         2      1    1    2      1   \n",
      "368  ...        yes      yes       5         2      3    1    2      4   \n",
      "369  ...        yes      yes       3         2      2    4    2      5   \n",
      "370  ...         no      yes       3         2      2    1    1      3   \n",
      "371  ...        yes      yes       4         3      3    2    3      3   \n",
      "372  ...         no      yes       3         4      3    1    1      3   \n",
      "373  ...        yes       no       3         5      5    1    3      1   \n",
      "374  ...        yes       no       5         4      4    1    1      1   \n",
      "375  ...        yes       no       4         3      2    1    2      4   \n",
      "376  ...        yes      yes       5         4      3    1    1      3   \n",
      "377  ...        yes       no       5         4      3    3    4      2   \n",
      "378  ...        yes      yes       4         1      3    1    2      1   \n",
      "379  ...        yes       no       4         5      4    2    3      1   \n",
      "380  ...        yes       no       3         2      4    1    4      2   \n",
      "381  ...        yes      yes       4         4      3    1    3      5   \n",
      "382  ...        yes       no       4         4      3    1    1      3   \n",
      "383  ...         no       no       4         3      2    1    3      5   \n",
      "384  ...         no       no       5         4      3    4    3      3   \n",
      "385  ...         no       no       5         3      3    1    3      4   \n",
      "386  ...        yes      yes       4         4      3    2    2      5   \n",
      "387  ...        yes       no       5         4      2    1    2      5   \n",
      "388  ...        yes       no       4         3      4    1    1      1   \n",
      "389  ...         no       no       1         1      1    1    1      5   \n",
      "390  ...         no       no       5         5      4    4    5      4   \n",
      "391  ...        yes       no       2         4      5    3    4      2   \n",
      "392  ...         no       no       5         5      3    3    3      3   \n",
      "393  ...        yes       no       4         4      1    3    4      5   \n",
      "394  ...        yes       no       3         2      3    3    3      5   \n",
      "\n",
      "    absences passed  \n",
      "0          6     no  \n",
      "1          4     no  \n",
      "2         10    yes  \n",
      "3          2    yes  \n",
      "4          4    yes  \n",
      "5         10    yes  \n",
      "6          0    yes  \n",
      "7          6     no  \n",
      "8          0    yes  \n",
      "9          0    yes  \n",
      "10         0     no  \n",
      "11         4    yes  \n",
      "12         2    yes  \n",
      "13         2    yes  \n",
      "14         0    yes  \n",
      "15         4    yes  \n",
      "16         6    yes  \n",
      "17         4    yes  \n",
      "18        16     no  \n",
      "19         4    yes  \n",
      "20         0    yes  \n",
      "21         0    yes  \n",
      "22         2    yes  \n",
      "23         0    yes  \n",
      "24         2     no  \n",
      "25        14     no  \n",
      "26         2    yes  \n",
      "27         4    yes  \n",
      "28         4    yes  \n",
      "29        16    yes  \n",
      "..       ...    ...  \n",
      "365        4    yes  \n",
      "366        0    yes  \n",
      "367        0     no  \n",
      "368        0    yes  \n",
      "369       10    yes  \n",
      "370        4     no  \n",
      "371        3    yes  \n",
      "372        8    yes  \n",
      "373       14     no  \n",
      "374        0    yes  \n",
      "375        2    yes  \n",
      "376        4    yes  \n",
      "377        4    yes  \n",
      "378        0    yes  \n",
      "379       17    yes  \n",
      "380        4    yes  \n",
      "381        5     no  \n",
      "382        2    yes  \n",
      "383        0     no  \n",
      "384       14     no  \n",
      "385        2    yes  \n",
      "386        7     no  \n",
      "387        0     no  \n",
      "388        0     no  \n",
      "389        0     no  \n",
      "390       11     no  \n",
      "391        3    yes  \n",
      "392        3     no  \n",
      "393        0    yes  \n",
      "394        5     no  \n",
      "\n",
      "[395 rows x 31 columns]\n",
      "Student data read successfully!\n"
     ]
    }
   ],
   "source": [
    "# Read student data\n",
    "student_data = pd.read_csv(\"dataset/student-data.csv\")\n",
    "print(student_data)\n",
    "print (\"Student data read successfully!\")"
   ]
  },
  {
   "cell_type": "code",
   "execution_count": 5,
   "metadata": {
    "collapsed": false
   },
   "outputs": [
    {
     "name": "stdout",
     "output_type": "stream",
     "text": [
      "Total number of students: 395\n",
      "Number of students who passed: 265\n",
      "Number of students who failed: 130\n",
      "Number of features: 30\n",
      "Graduation rate of the class: 0.00%\n"
     ]
    }
   ],
   "source": [
    "n_students = student_data.shape[0]\n",
    "n_features = len(list(student_data.columns[:-1]))\n",
    "n_passed = len(student_data[student_data['passed'] == 'yes'])\n",
    "n_failed = len(student_data[student_data['passed'] == 'no'])\n",
    "grad_rate = float((n_passed / n_students) * 100)\n",
    "print (\"Total number of students: {}\".format(n_students))\n",
    "print (\"Number of students who passed: {}\".format(n_passed))\n",
    "print (\"Number of students who failed: {}\".format(n_failed))\n",
    "print (\"Number of features: {}\".format(n_features))\n",
    "print (\"Graduation rate of the class: {:.2f}%\".format(grad_rate))"
   ]
  },
  {
   "cell_type": "markdown",
   "metadata": {},
   "source": [
    "## Preparing the Data\n",
    "\n",
    "### Identify feature and target columns\n",
    "It is often the case that the data you obtain contains non-numeric features. This can be a problem, as most machine learning algorithms expect numeric data to perform computations with."
   ]
  },
  {
   "cell_type": "code",
   "execution_count": 7,
   "metadata": {
    "collapsed": false
   },
   "outputs": [
    {
     "name": "stdout",
     "output_type": "stream",
     "text": [
      "Feature column(s):-\n",
      "['school', 'sex', 'age', 'address', 'famsize', 'Pstatus', 'Medu', 'Fedu', 'Mjob', 'Fjob', 'reason', 'guardian', 'traveltime', 'studytime', 'failures', 'schoolsup', 'famsup', 'paid', 'activities', 'nursery', 'higher', 'internet', 'romantic', 'famrel', 'freetime', 'goout', 'Dalc', 'Walc', 'health', 'absences']\n",
      "Target column: passed\n",
      "\n",
      "Feature values:-\n",
      "  school sex  age address famsize Pstatus  Medu  Fedu     Mjob      Fjob  \\\n",
      "0     GP   F   18       U     GT3       A     4     4  at_home   teacher   \n",
      "1     GP   F   17       U     GT3       T     1     1  at_home     other   \n",
      "2     GP   F   15       U     LE3       T     1     1  at_home     other   \n",
      "3     GP   F   15       U     GT3       T     4     2   health  services   \n",
      "4     GP   F   16       U     GT3       T     3     3    other     other   \n",
      "\n",
      "    ...    higher internet  romantic  famrel  freetime goout Dalc Walc health  \\\n",
      "0   ...       yes       no        no       4         3     4    1    1      3   \n",
      "1   ...       yes      yes        no       5         3     3    1    1      3   \n",
      "2   ...       yes      yes        no       4         3     2    2    3      3   \n",
      "3   ...       yes      yes       yes       3         2     2    1    1      5   \n",
      "4   ...       yes       no        no       4         3     2    1    2      5   \n",
      "\n",
      "  absences  \n",
      "0        6  \n",
      "1        4  \n",
      "2       10  \n",
      "3        2  \n",
      "4        4  \n",
      "\n",
      "[5 rows x 30 columns]\n"
     ]
    }
   ],
   "source": [
    "# Extract feature (X) and target (y) columns\n",
    "feature_cols = list(student_data.columns[:-1])  # all columns but last are features\n",
    "target_col = student_data.columns[-1]  # last column is the target/label\n",
    "print (\"Feature column(s):-\\n{}\".format(feature_cols))\n",
    "print (\"Target column: {}\".format(target_col))\n",
    "\n",
    "X_all = student_data[feature_cols]  # feature values for all students\n",
    "y_all = student_data[target_col]  # corresponding targets/labels\n",
    "print (\"\\nFeature values:-\")\n",
    "print (X_all.head())  # print the first 5 rows"
   ]
  },
  {
   "cell_type": "markdown",
   "metadata": {},
   "source": [
    "### Preprocess feature columns\n",
    "\n",
    "As you can see, there are several non-numeric columns that need to be converted! Many of them are simply `yes`/`no`, e.g. `internet`. These can be reasonably converted into `1`/`0` (binary) values.\n",
    "\n",
    "Other columns, like `Mjob` and `Fjob`, have more than two values, and are known as _categorical variables_. The recommended way to handle such a column is to create as many columns as possible values (e.g. `Fjob_teacher`, `Fjob_other`, `Fjob_services`, etc.), and assign a `1` to one of them and `0` to all others."
   ]
  },
  {
   "cell_type": "code",
   "execution_count": 8,
   "metadata": {
    "collapsed": false
   },
   "outputs": [
    {
     "name": "stdout",
     "output_type": "stream",
     "text": [
      "Processed feature columns (48):-\n",
      "['school_GP', 'school_MS', 'sex_F', 'sex_M', 'age', 'address_R', 'address_U', 'famsize_GT3', 'famsize_LE3', 'Pstatus_A', 'Pstatus_T', 'Medu', 'Fedu', 'Mjob_at_home', 'Mjob_health', 'Mjob_other', 'Mjob_services', 'Mjob_teacher', 'Fjob_at_home', 'Fjob_health', 'Fjob_other', 'Fjob_services', 'Fjob_teacher', 'reason_course', 'reason_home', 'reason_other', 'reason_reputation', 'guardian_father', 'guardian_mother', 'guardian_other', 'traveltime', 'studytime', 'failures', 'schoolsup', 'famsup', 'paid', 'activities', 'nursery', 'higher', 'internet', 'romantic', 'famrel', 'freetime', 'goout', 'Dalc', 'Walc', 'health', 'absences']\n"
     ]
    }
   ],
   "source": [
    "# Preprocess feature columns\n",
    "def preprocess_features(X):\n",
    "    outX = pd.DataFrame(index=X.index)  # output dataframe, initially empty\n",
    "\n",
    "    # Check each column\n",
    "    for col, col_data in X.iteritems():\n",
    "        # If data type is non-numeric, try to replace all yes/no values with 1/0\n",
    "        if col_data.dtype == object:\n",
    "            col_data = col_data.replace(['yes', 'no'], [1, 0])\n",
    "\n",
    "        # If still non-numeric, convert to one or more dummy variables\n",
    "        if col_data.dtype == object:\n",
    "            col_data = pd.get_dummies(col_data, prefix=col)  # e.g. 'school' => 'school_GP', 'school_MS'\n",
    "\n",
    "        outX = outX.join(col_data)  # collect column(s) in output dataframe\n",
    "    return outX\n",
    "\n",
    "X_all = preprocess_features(X_all)\n",
    "\n",
    "print (\"Processed feature columns ({}):-\\n{}\".format(len(X_all.columns), list(X_all.columns)))"
   ]
  },
  {
   "cell_type": "markdown",
   "metadata": {},
   "source": [
    "### Split data into training and test sets"
   ]
  },
  {
   "cell_type": "code",
   "execution_count": 9,
   "metadata": {
    "collapsed": false
   },
   "outputs": [
    {
     "name": "stdout",
     "output_type": "stream",
     "text": [
      "Training set: 300 samples\n",
      "Test set: 95 samples\n"
     ]
    }
   ],
   "source": [
    "# First, decide how many training vs test samples you want\n",
    "num_all = student_data.shape[0]  # same as len(student_data)\n",
    "num_train = 300  # about 75% of the data\n",
    "num_test = num_all - num_train\n",
    "\n",
    "# Note: Shuffle the data or randomly select samples to avoid any bias due to ordering in the dataset\n",
    "from sklearn import cross_validation\n",
    "\n",
    "X_train, X_test, y_train, y_test = cross_validation.train_test_split(X_all, y_all, test_size = num_test, random_state = 42)\n",
    "\n",
    "print (\"Training set: {} samples\".format(X_train.shape[0]))\n",
    "print (\"Test set: {} samples\".format(X_test.shape[0]))\n",
    "# Note: If you need a validation set, extract it from within training data"
   ]
  },
  {
   "cell_type": "markdown",
   "metadata": {},
   "source": [
    "## Training and Evaluating Models\n"
   ]
  },
  {
   "cell_type": "code",
   "execution_count": 10,
   "metadata": {
    "collapsed": false
   },
   "outputs": [
    {
     "name": "stdout",
     "output_type": "stream",
     "text": [
      "Training SVC...\n",
      "Done!\n",
      "Training time (secs): 0.012\n",
      "SVC(C=1.0, cache_size=200, class_weight=None, coef0=0.0,\n",
      "  decision_function_shape=None, degree=3, gamma='auto', kernel='rbf',\n",
      "  max_iter=-1, probability=False, random_state=None, shrinking=True,\n",
      "  tol=0.001, verbose=False)\n"
     ]
    }
   ],
   "source": [
    "# Train a model\n",
    "import time\n",
    "\n",
    "def train_classifier(clf, X_train, y_train):\n",
    "    print (\"Training {}...\".format(clf.__class__.__name__))\n",
    "    start = time.time()\n",
    "    clf.fit(X_train, y_train)\n",
    "    end = time.time()\n",
    "    print (\"Done!\\nTraining time (secs): {:.3f}\".format(end - start))\n",
    "    \n",
    "# Support Vector Machine (SVM)\n",
    "from sklearn import svm\n",
    "clf_svm = svm.SVC()\n",
    "\n",
    "# Fit model to training data\n",
    "train_classifier(clf_svm, X_train, y_train)  # note: using entire training set here\n",
    "print(clf_svm)"
   ]
  },
  {
   "cell_type": "code",
   "execution_count": 11,
   "metadata": {
    "collapsed": false
   },
   "outputs": [
    {
     "name": "stdout",
     "output_type": "stream",
     "text": [
      "Predicting labels using SVC...\n",
      "Done!\n",
      "Prediction time (secs): 0.040\n",
      "F1 score for training set: 0.876068376068\n"
     ]
    }
   ],
   "source": [
    "# Predict on training set and compute F1 score\n",
    "from sklearn.metrics import f1_score\n",
    "\n",
    "def predict_labels(clf, features, target):\n",
    "    print (\"Predicting labels using {}...\".format(clf.__class__.__name__))\n",
    "    start = time.time()\n",
    "    y_pred = clf.predict(features)\n",
    "    end = time.time()\n",
    "    print (\"Done!\\nPrediction time (secs): {:.3f}\".format(end - start))\n",
    "    return f1_score(target.values, y_pred, pos_label='yes')\n",
    "\n",
    "train_f1_score = predict_labels(clf_svm, X_train, y_train)\n",
    "print (\"F1 score for training set: {}\".format(train_f1_score))"
   ]
  },
  {
   "cell_type": "code",
   "execution_count": 12,
   "metadata": {
    "collapsed": false
   },
   "outputs": [
    {
     "name": "stdout",
     "output_type": "stream",
     "text": [
      "Predicting labels using SVC...\n",
      "Done!\n",
      "Prediction time (secs): 0.002\n",
      "F1 score for test set: 0.783783783784\n"
     ]
    }
   ],
   "source": [
    "# Predict on test data\n",
    "test_f1_score = predict_labels(clf_svm, X_test, y_test)\n",
    "print (\"F1 score for test set: {}\".format(test_f1_score))"
   ]
  },
  {
   "cell_type": "code",
   "execution_count": 13,
   "metadata": {
    "collapsed": false
   },
   "outputs": [
    {
     "name": "stdout",
     "output_type": "stream",
     "text": [
      "------------------------------------------\n",
      "Training set size: 200\n",
      "Training SVC...\n",
      "Done!\n",
      "Training time (secs): 0.003\n",
      "Predicting labels using SVC...\n",
      "Done!\n",
      "Prediction time (secs): 0.002\n",
      "F1 score for training set: 0.867924528302\n",
      "Predicting labels using SVC...\n",
      "Done!\n",
      "Prediction time (secs): 0.001\n",
      "F1 score for test set: 0.781456953642\n",
      "------------------------------------------\n",
      "Training set size: 100\n",
      "Training SVC...\n",
      "Done!\n",
      "Training time (secs): 0.001\n",
      "Predicting labels using SVC...\n",
      "Done!\n",
      "Prediction time (secs): 0.001\n",
      "F1 score for training set: 0.877697841727\n",
      "Predicting labels using SVC...\n",
      "Done!\n",
      "Prediction time (secs): 0.001\n",
      "F1 score for test set: 0.774647887324\n"
     ]
    }
   ],
   "source": [
    "# Train and predict using different training set sizes\n",
    "def train_predict(clf, X_train, y_train, X_test, y_test):\n",
    "    print (\"------------------------------------------\")\n",
    "    print (\"Training set size: {}\".format(len(X_train)))\n",
    "    train_classifier(clf, X_train, y_train)\n",
    "    print (\"F1 score for training set: {}\".format(predict_labels(clf, X_train, y_train)))\n",
    "    print (\"F1 score for test set: {}\".format(predict_labels(clf, X_test, y_test)))\n",
    "\n",
    "# TODO: Run the helper function above for desired subsets of training data\n",
    "# Note: Keep the test set constant\n",
    "\n",
    "X_train_subset_200 = X_train[:200]\n",
    "y_train_subset_200 = y_train[:200]\n",
    "train_predict(clf_svm, X_train_subset_200, y_train_subset_200, X_test, y_test)\n",
    "\n",
    "X_train_subset_100 = X_train[:100]\n",
    "y_train_subset_100 = y_train[:100]\n",
    "train_predict(clf_svm, X_train_subset_100, y_train_subset_100, X_test, y_test)\n"
   ]
  },
  {
   "cell_type": "code",
   "execution_count": 15,
   "metadata": {
    "collapsed": false
   },
   "outputs": [
    {
     "name": "stdout",
     "output_type": "stream",
     "text": [
      "Training DecisionTreeClassifier...\n",
      "Done!\n",
      "Training time (secs): 0.002\n",
      "Predicting labels using DecisionTreeClassifier...\n",
      "Done!\n",
      "Prediction time (secs): 0.000\n",
      "F1 score for training set: 1.0\n",
      "Predicting labels using DecisionTreeClassifier...\n",
      "Done!\n",
      "Prediction time (secs): 0.000\n",
      "F1 score for test set: 0.612903225806\n",
      "------------------------------------------\n",
      "Training set size: 200\n",
      "Training DecisionTreeClassifier...\n",
      "Done!\n",
      "Training time (secs): 0.001\n",
      "Predicting labels using DecisionTreeClassifier...\n",
      "Done!\n",
      "Prediction time (secs): 0.000\n",
      "F1 score for training set: 1.0\n",
      "Predicting labels using DecisionTreeClassifier...\n",
      "Done!\n",
      "Prediction time (secs): 0.000\n",
      "F1 score for test set: 0.75\n",
      "------------------------------------------\n",
      "Training set size: 100\n",
      "Training DecisionTreeClassifier...\n",
      "Done!\n",
      "Training time (secs): 0.001\n",
      "Predicting labels using DecisionTreeClassifier...\n",
      "Done!\n",
      "Prediction time (secs): 0.000\n",
      "F1 score for training set: 1.0\n",
      "Predicting labels using DecisionTreeClassifier...\n",
      "Done!\n",
      "Prediction time (secs): 0.000\n",
      "F1 score for test set: 0.632478632479\n"
     ]
    }
   ],
   "source": [
    "# Train and predict using two other models\n",
    "\n",
    "# Decision Tree\n",
    "\n",
    "from sklearn import tree\n",
    "decision_tree = tree.DecisionTreeClassifier()\n",
    "train_classifier(decision_tree, X_train, y_train)\n",
    "train_f1_score = predict_labels(decision_tree, X_train, y_train)\n",
    "print (\"F1 score for training set: {}\".format(train_f1_score))\n",
    "test_f1_score = predict_labels(decision_tree, X_test, y_test)\n",
    "print (\"F1 score for test set: {}\".format(test_f1_score))\n",
    "\n",
    "X_train_subset_200 = X_train[:200]\n",
    "y_train_subset_200 = y_train[:200]\n",
    "train_predict(decision_tree, X_train_subset_200, y_train_subset_200, X_test, y_test)\n",
    "\n",
    "X_train_subset_100 = X_train[:100]\n",
    "y_train_subset_100 = y_train[:100]\n",
    "train_predict(decision_tree, X_train_subset_100, y_train_subset_100, X_test, y_test)\n",
    "\n"
   ]
  },
  {
   "cell_type": "code",
   "execution_count": 16,
   "metadata": {
    "collapsed": false
   },
   "outputs": [
    {
     "name": "stdout",
     "output_type": "stream",
     "text": [
      "Training KNeighborsClassifier...\n",
      "Done!\n",
      "Training time (secs): 0.006\n",
      "Predicting labels using KNeighborsClassifier...\n",
      "Done!\n",
      "Prediction time (secs): 0.008\n",
      "F1 score for training set: 0.880733944954\n",
      "Predicting labels using KNeighborsClassifier...\n",
      "Done!\n",
      "Prediction time (secs): 0.002\n",
      "F1 score for test set: 0.731343283582\n",
      "------------------------------------------\n",
      "Training set size: 200\n",
      "Training KNeighborsClassifier...\n",
      "Done!\n",
      "Training time (secs): 0.000\n",
      "Predicting labels using KNeighborsClassifier...\n",
      "Done!\n",
      "Prediction time (secs): 0.002\n",
      "F1 score for training set: 0.896551724138\n",
      "Predicting labels using KNeighborsClassifier...\n",
      "Done!\n",
      "Prediction time (secs): 0.001\n",
      "F1 score for test set: 0.741258741259\n",
      "------------------------------------------\n",
      "Training set size: 100\n",
      "Training KNeighborsClassifier...\n",
      "Done!\n",
      "Training time (secs): 0.001\n",
      "Predicting labels using KNeighborsClassifier...\n",
      "Done!\n",
      "Prediction time (secs): 0.001\n",
      "F1 score for training set: 0.832116788321\n",
      "Predicting labels using KNeighborsClassifier...\n",
      "Done!\n",
      "Prediction time (secs): 0.001\n",
      "F1 score for test set: 0.748201438849\n"
     ]
    }
   ],
   "source": [
    "# K-Nearest Neighbor\n",
    "\n",
    "from sklearn.neighbors import KNeighborsClassifier\n",
    "\n",
    "neighbor = KNeighborsClassifier(n_neighbors=3)\n",
    "train_classifier(neighbor, X_train, y_train)\n",
    "train_f1_score = predict_labels(neighbor, X_train, y_train)\n",
    "print (\"F1 score for training set: {}\".format(train_f1_score))\n",
    "test_f1_score = predict_labels(neighbor, X_test, y_test)\n",
    "print (\"F1 score for test set: {}\".format(test_f1_score))\n",
    "\n",
    "X_train_subset_200 = X_train[:200]\n",
    "y_train_subset_200 = y_train[:200]\n",
    "train_predict(neighbor, X_train_subset_200, y_train_subset_200, X_test, y_test)\n",
    "\n",
    "X_train_subset_100 = X_train[:100]\n",
    "y_train_subset_100 = y_train[:100]\n",
    "train_predict(neighbor, X_train_subset_100, y_train_subset_100, X_test, y_test)"
   ]
  },
  {
   "cell_type": "markdown",
   "metadata": {},
   "source": [
    "## Choosing the Best Model"
   ]
  },
  {
   "cell_type": "code",
   "execution_count": 29,
   "metadata": {
    "collapsed": false
   },
   "outputs": [
    {
     "name": "stdout",
     "output_type": "stream",
     "text": [
      "Predicting labels using GridSearchCV...\n",
      "Done!\n",
      "Prediction time (secs): 0.003\n",
      "F1 score for training set: 0.854586129754\n",
      "Predicting labels using GridSearchCV...\n",
      "Done!\n",
      "Prediction time (secs): 0.001\n",
      "F1 score for test set: 0.781954887218\n"
     ]
    }
   ],
   "source": [
    "# Fine-tune model and report the best F1 score with the SVM classifier\n",
    "from sklearn import grid_search\n",
    "\n",
    "parameters = {'kernel':('linear', 'rbf', 'poly'), 'C':[1], 'gamma':[0.1]}\n",
    "tune = grid_search.GridSearchCV(clf_svm, parameters, scoring = 'f1_weighted')\n",
    "tune.fit(X_train, y_train)\n",
    "\n",
    "train_f1_score = predict_labels(tune, X_train, y_train)\n",
    "print (\"F1 score for training set: {}\".format(train_f1_score))\n",
    "\n",
    "# Predict on test data\n",
    "test_f1_score = predict_labels(tune, X_test, y_test)\n",
    "print (\"F1 score for test set: {}\".format(test_f1_score))"
   ]
  },
  {
   "cell_type": "code",
   "execution_count": null,
   "metadata": {
    "collapsed": true
   },
   "outputs": [],
   "source": []
  }
 ],
 "metadata": {
  "kernelspec": {
   "display_name": "Python 2",
   "language": "python",
   "name": "python2"
  },
  "language_info": {
   "codemirror_mode": {
    "name": "ipython",
    "version": 2
   },
   "file_extension": ".py",
   "mimetype": "text/x-python",
   "name": "python",
   "nbconvert_exporter": "python",
   "pygments_lexer": "ipython2",
   "version": "2.7.11"
  }
 },
 "nbformat": 4,
 "nbformat_minor": 0
}
