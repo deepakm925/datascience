{
 "cells": [
  {
   "cell_type": "markdown",
   "metadata": {},
   "source": [
    "# Automatic E-mail Categorization"
   ]
  },
  {
   "cell_type": "markdown",
   "metadata": {},
   "source": [
    "The focus of this project is to classify e-mails into folders using the content of each e-mail.  How strong is the correlation between the words in an e-mail and the folder that a user places the e-mail?  To answer these questions, the processed data will be trained, tested and evaluated using several machine learning models.  \n",
    "\n",
    "Undoubtedly, categorizing e-mails based on the content alone can pose so many challenges.  In reality, there is a constant stream of new information being passed through e-mails each day and much of what we learned through previous e-mails may not contain this new information.\n",
    "Also, the content of e-mail threads can branch off onto new topics.  Users could also create mostly unused folders.  The problems go on, but you get the idea of the scope of this problem.  \n",
    "\n",
    "Nonetheless, I found this to be an interesting angle to tackle the Enron Corpus, the largest public domain database in the world containing real-world email messages.  The version used contains over 500,000 emails from about 150 users, mostly senior management at Enron. You can visit [here](https://en.wikipedia.org/wiki/Enron_scandal) to learn more about the Enron scandal.  You can get a copy of the dataset [here](https://www.cs.cmu.edu/~./enron/).  \n",
    "\n",
    "Benchmark results and for this project can be found [here](http://scholarworks.umass.edu/cgi/viewcontent.cgi?article=1217&context=cs_faculty_pubs).  Bekkerman et al. (Ron Bekkerman, Andrew McCallum and Gary Huang). *Automatic Categorization of Email into Folders: Benchmark Experiments on Enron and SRI Corpora*"
   ]
  },
  {
   "cell_type": "markdown",
   "metadata": {},
   "source": [
    "## 1. Exploring the Enron Emails Dataset"
   ]
  },
  {
   "cell_type": "code",
   "execution_count": 2,
   "metadata": {
    "collapsed": false
   },
   "outputs": [
    {
     "name": "stdout",
     "output_type": "stream",
     "text": [
      "Successfully loaded 517401 rows and 2 columns!\n",
      "Index([u'file', u'message'], dtype='object')\n"
     ]
    },
    {
     "data": {
      "text/html": [
       "<div>\n",
       "<table border=\"1\" class=\"dataframe\">\n",
       "  <thead>\n",
       "    <tr style=\"text-align: right;\">\n",
       "      <th></th>\n",
       "      <th>file</th>\n",
       "      <th>message</th>\n",
       "    </tr>\n",
       "  </thead>\n",
       "  <tbody>\n",
       "    <tr>\n",
       "      <th>0</th>\n",
       "      <td>allen-p/_sent_mail/1.</td>\n",
       "      <td>Message-ID: &lt;18782981.1075855378110.JavaMail.e...</td>\n",
       "    </tr>\n",
       "    <tr>\n",
       "      <th>1</th>\n",
       "      <td>allen-p/_sent_mail/10.</td>\n",
       "      <td>Message-ID: &lt;15464986.1075855378456.JavaMail.e...</td>\n",
       "    </tr>\n",
       "    <tr>\n",
       "      <th>2</th>\n",
       "      <td>allen-p/_sent_mail/100.</td>\n",
       "      <td>Message-ID: &lt;24216240.1075855687451.JavaMail.e...</td>\n",
       "    </tr>\n",
       "    <tr>\n",
       "      <th>3</th>\n",
       "      <td>allen-p/_sent_mail/1000.</td>\n",
       "      <td>Message-ID: &lt;13505866.1075863688222.JavaMail.e...</td>\n",
       "    </tr>\n",
       "    <tr>\n",
       "      <th>4</th>\n",
       "      <td>allen-p/_sent_mail/1001.</td>\n",
       "      <td>Message-ID: &lt;30922949.1075863688243.JavaMail.e...</td>\n",
       "    </tr>\n",
       "  </tbody>\n",
       "</table>\n",
       "</div>"
      ],
      "text/plain": [
       "                       file                                            message\n",
       "0     allen-p/_sent_mail/1.  Message-ID: <18782981.1075855378110.JavaMail.e...\n",
       "1    allen-p/_sent_mail/10.  Message-ID: <15464986.1075855378456.JavaMail.e...\n",
       "2   allen-p/_sent_mail/100.  Message-ID: <24216240.1075855687451.JavaMail.e...\n",
       "3  allen-p/_sent_mail/1000.  Message-ID: <13505866.1075863688222.JavaMail.e...\n",
       "4  allen-p/_sent_mail/1001.  Message-ID: <30922949.1075863688243.JavaMail.e..."
      ]
     },
     "metadata": {},
     "output_type": "display_data"
    },
    {
     "name": "stdout",
     "output_type": "stream",
     "text": [
      "None\n"
     ]
    }
   ],
   "source": [
    "import pandas as pd\n",
    "pd.set_option(\"display.max_rows\", 999)\n",
    "pd.set_option('max_colwidth',100)\n",
    "import numpy as np\n",
    "from IPython.display import display\n",
    "\n",
    "filepath = \"data/emails.csv\"\n",
    "# Read the data into a pandas dataframe called emails\n",
    "emails = pd.read_csv(filepath) \n",
    "print(\"Successfully loaded {} rows and {} columns!\".format(emails.shape[0], emails.shape[1]))\n",
    "# Print column names\n",
    "print(emails.columns)\n",
    "# Store column headers \n",
    "headers = [header for header in emails.columns]\n",
    "# Print the first 5 rows of the dataset\n",
    "print(display(emails.head()))"
   ]
  },
  {
   "cell_type": "markdown",
   "metadata": {},
   "source": [
    "Numpy and pandas were imported, then the csv file containing the e-mails was read into a dataframe called **`emails`**.  The reading may take a while due to the size of the file.  Next, the shape of the dataset, column names and a sample of five rows within the dataset were printed.  There are 517,401 rows and 2 columns.  \n",
    "\n",
    "**`file`** - contains the original directory and filename of each email. The root level of this path is the employee (surname first followed by first name initial) to whom the emails belong. \n",
    "\n",
    "**`message`** - contains the email text"
   ]
  },
  {
   "cell_type": "markdown",
   "metadata": {},
   "source": [
    "### A sample e-mail\n",
    "\n",
    "Here is a sample of the standard e-mail found in the data.  It contains a list of headers and a message body.  Note that there is a header label called \"Mime-Version\", which signifies that the e-mails in this dataset are MIME formatted.  MIME stands for Multipurpose Internet Mail Extensions and virtually all human-written email is transmitted in MIME format.  Python has a built in [MIME handling package](https://docs.python.org/2/library/email.html) and this is what will be used to dissect the data needed out of each e-mail."
   ]
  },
  {
   "cell_type": "code",
   "execution_count": 2,
   "metadata": {
    "collapsed": false,
    "scrolled": true
   },
   "outputs": [
    {
     "name": "stdout",
     "output_type": "stream",
     "text": [
      "Message-ID: <18782981.1075855378110.JavaMail.evans@thyme>\n",
      "Date: Mon, 14 May 2001 16:39:00 -0700 (PDT)\n",
      "From: phillip.allen@enron.com\n",
      "To: tim.belden@enron.com\n",
      "Subject: \n",
      "Mime-Version: 1.0\n",
      "Content-Type: text/plain; charset=us-ascii\n",
      "Content-Transfer-Encoding: 7bit\n",
      "X-From: Phillip K Allen\n",
      "X-To: Tim Belden <Tim Belden/Enron@EnronXGate>\n",
      "X-cc: \n",
      "X-bcc: \n",
      "X-Folder: \\Phillip_Allen_Jan2002_1\\Allen, Phillip K.\\'Sent Mail\n",
      "X-Origin: Allen-P\n",
      "X-FileName: pallen (Non-Privileged).pst\n",
      "\n",
      "Here is our forecast\n",
      "\n",
      " \n"
     ]
    }
   ],
   "source": [
    "print(emails.loc[0][\"message\"])"
   ]
  },
  {
   "cell_type": "markdown",
   "metadata": {},
   "source": [
    "### Features and Label\n",
    "\n",
    "From each e-mail, we can extract headers such as `To`, `Subject`, `From`, `X-cc`,`X-bcc` and the message body to use as features.  The `X-Folder` header will be our label.  It  contains the path to each folder.  \n",
    "\n",
    "Essentially, we are taking several features of the e-mail to classify the folder in which the e-mail was stored.  Note though that all of the headers are in strings and we will need to be able to process these headers for the computer to interpret them.  The [Bag-of-words](https://en.wikipedia.org/wiki/Bag-of-words_model) model will be used to take text documents, such as our features and output a numerical representation as a feature vector.  \n",
    "\n",
    "The label, `X-folder` contains several folders and subfolders.  To better visualize all the end nodes of these folders, it would make sense to extract them from the entire filepath and append it to our existing `emails` dataframe.  "
   ]
  },
  {
   "cell_type": "markdown",
   "metadata": {},
   "source": [
    "## 2. Data Cleaning"
   ]
  },
  {
   "cell_type": "markdown",
   "metadata": {},
   "source": [
    "Here are the list of things that needs to be performed on the data:\n",
    "* Extract relevant features from e-mail headers \n",
    "* Add new columns in the `emails` dataframe \n",
    "* Check for missing values\n",
    "* Remove unwanted characters "
   ]
  },
  {
   "cell_type": "markdown",
   "metadata": {},
   "source": [
    "### Extract headers"
   ]
  },
  {
   "cell_type": "code",
   "execution_count": 3,
   "metadata": {
    "collapsed": false
   },
   "outputs": [],
   "source": [
    "import email\n",
    "\n",
    "def insert_value(dictionary, key, value):\n",
    "    if key in dictionary:\n",
    "        values = dictionary.get(key)\n",
    "        values.append(value)\n",
    "        dictionary[key] = values\n",
    "    else:\n",
    "        dictionary[key] = [value]\n",
    "    return dictionary\n",
    "\n",
    "def get_headers(df, header_names):\n",
    "    headers = {}\n",
    "    messages = df[\"message\"]\n",
    "    for message in messages:\n",
    "        e = email.message_from_string(message)\n",
    "        header = e.items()\n",
    "        for item in header:\n",
    "            if item[0] in header_names:\n",
    "                key = item[0]\n",
    "                value = item[1]\n",
    "                insert_value(headers, key, value)\n",
    "    return headers\n",
    "header_names = [\"Date\", \"Subject\", \"X-Folder\", \"X-From\", \"X-To\", \"X-bcc\", \"X-cc\"]    \n",
    "headers = get_headers(emails, header_names)"
   ]
  },
  {
   "cell_type": "markdown",
   "metadata": {},
   "source": [
    "### Explore folders"
   ]
  },
  {
   "cell_type": "markdown",
   "metadata": {},
   "source": [
    "Here we print a sample of randomly selected folders from a newly created `folders` dataframe.  Take a look at the end node, or the last folder in each row and you will notice that there are more than two folder options in use.  The Enron employees stored their e-mails across several folders and as such, this looks like a [**multiclass classification**](https://en.wikipedia.org/wiki/Multiclass_classification) problem.  For this project, the one-versus-all method will be used to tackle this problem.  In a one-versus-all method, we are essentially doing a binary classification for n number of classes.  Therefore n number of models will be trained for each class based on the number of folders used by each employee. "
   ]
  },
  {
   "cell_type": "code",
   "execution_count": 120,
   "metadata": {
    "collapsed": false
   },
   "outputs": [
    {
     "data": {
      "text/html": [
       "<div>\n",
       "<table border=\"1\" class=\"dataframe\">\n",
       "  <thead>\n",
       "    <tr style=\"text-align: right;\">\n",
       "      <th></th>\n",
       "      <th>Folders</th>\n",
       "    </tr>\n",
       "  </thead>\n",
       "  <tbody>\n",
       "    <tr>\n",
       "      <th>18510</th>\n",
       "      <td>\\Edward_Baughman_Jan2002\\Baughman Jr., Don\\Deleted Items</td>\n",
       "    </tr>\n",
       "    <tr>\n",
       "      <th>13946</th>\n",
       "      <td>\\Eric_Bass_Dec2000\\Notes Folders\\Discussion threads</td>\n",
       "    </tr>\n",
       "    <tr>\n",
       "      <th>511544</th>\n",
       "      <td>\\ExMerge - Williams III, Bill\\Schedule Crawler</td>\n",
       "    </tr>\n",
       "    <tr>\n",
       "      <th>132952</th>\n",
       "      <td>\\ExMerge - Germany, Chris\\Sent Items</td>\n",
       "    </tr>\n",
       "    <tr>\n",
       "      <th>392455</th>\n",
       "      <td>\\Richard_Sanders_Oct2001\\Notes Folders\\All documents</td>\n",
       "    </tr>\n",
       "    <tr>\n",
       "      <th>136552</th>\n",
       "      <td>\\Darron_Giron_Jun2001\\Notes Folders\\'sent mail</td>\n",
       "    </tr>\n",
       "    <tr>\n",
       "      <th>417939</th>\n",
       "      <td>\\Sara_Shackleton_Dec2000_June2001_1\\Notes Folders\\All documents</td>\n",
       "    </tr>\n",
       "  </tbody>\n",
       "</table>\n",
       "</div>"
      ],
      "text/plain": [
       "                                                                Folders\n",
       "18510          \\Edward_Baughman_Jan2002\\Baughman Jr., Don\\Deleted Items\n",
       "13946               \\Eric_Bass_Dec2000\\Notes Folders\\Discussion threads\n",
       "511544                   \\ExMerge - Williams III, Bill\\Schedule Crawler\n",
       "132952                             \\ExMerge - Germany, Chris\\Sent Items\n",
       "392455             \\Richard_Sanders_Oct2001\\Notes Folders\\All documents\n",
       "136552                   \\Darron_Giron_Jun2001\\Notes Folders\\'sent mail\n",
       "417939  \\Sara_Shackleton_Dec2000_June2001_1\\Notes Folders\\All documents"
      ]
     },
     "metadata": {},
     "output_type": "display_data"
    },
    {
     "name": "stdout",
     "output_type": "stream",
     "text": [
      "None\n"
     ]
    }
   ],
   "source": [
    "print(display(pd.DataFrame(headers[\"X-Folder\"], columns = [\"Folders\"]).sample(n = 7)))"
   ]
  },
  {
   "cell_type": "markdown",
   "metadata": {},
   "source": [
    "### Add features and label to dataset"
   ]
  },
  {
   "cell_type": "code",
   "execution_count": 168,
   "metadata": {
    "collapsed": false
   },
   "outputs": [],
   "source": [
    "def add_columns(df, column, labels):\n",
    "    new_data = {}\n",
    "    for item in df[column]: \n",
    "        # Split string into tokens\n",
    "        tokens = item.split('/')\n",
    "            # Get employee name (eg.\"allen-p\")\n",
    "        for i in range(0, len(labels)):\n",
    "            value = tokens[i]\n",
    "            key = labels[i]\n",
    "            new_data = insert_value(new_data, key, value)\n",
    "            # Get folder (eg.\"_sent_mail\")         \n",
    "    for key, value in new_data.items():\n",
    "        df[key] = pd.Series(value)\n",
    "    return df\n",
    "emails = add_columns(df = emails, column = \"file\", labels = [\"employee\"])"
   ]
  },
  {
   "cell_type": "code",
   "execution_count": null,
   "metadata": {
    "collapsed": false
   },
   "outputs": [],
   "source": [
    "count = emails[\"employee\"].value_counts()\n",
    "print count[:20]"
   ]
  },
  {
   "cell_type": "markdown",
   "metadata": {
    "collapsed": true
   },
   "source": [
    "####  Remove regular expressions and lower case message body"
   ]
  },
  {
   "cell_type": "markdown",
   "metadata": {},
   "source": [
    "Before we can create the bag-of-words model, the message body of each e-mail will need to be extracted and cleaned of special characters, which includes punctuation marks and nonword characters.  I will use Python's regular expression ([regex](https://docs.python.org/2/library/re.html)) libary to remove these characters. "
   ]
  },
  {
   "cell_type": "code",
   "execution_count": 9,
   "metadata": {
    "collapsed": false
   },
   "outputs": [],
   "source": [
    "import re\n",
    "\n",
    "def remove_reg_expressions(data):\n",
    "    cleaned_messages = []\n",
    "    for item in data:\n",
    "        text = re.sub(r'[\\W\\d]', \" \", item)\n",
    "        cleaned_messages.append(text)\n",
    "    return cleaned_messages"
   ]
  },
  {
   "cell_type": "markdown",
   "metadata": {},
   "source": [
    "### Here is a summary of the new `emails` dataset containing all the new columns.  "
   ]
  },
  {
   "cell_type": "code",
   "execution_count": 171,
   "metadata": {
    "collapsed": false
   },
   "outputs": [
    {
     "name": "stdout",
     "output_type": "stream",
     "text": [
      "(517401, 4)\n"
     ]
    },
    {
     "data": {
      "text/html": [
       "<div>\n",
       "<table border=\"1\" class=\"dataframe\">\n",
       "  <thead>\n",
       "    <tr style=\"text-align: right;\">\n",
       "      <th></th>\n",
       "      <th>file</th>\n",
       "      <th>message</th>\n",
       "      <th>employee</th>\n",
       "      <th>folder</th>\n",
       "    </tr>\n",
       "  </thead>\n",
       "  <tbody>\n",
       "    <tr>\n",
       "      <th>0</th>\n",
       "      <td>allen-p/_sent_mail/1.</td>\n",
       "      <td>Message-ID: &lt;18782981.1075855378110.JavaMail.e...</td>\n",
       "      <td>allen-p</td>\n",
       "      <td>_sent_mail</td>\n",
       "    </tr>\n",
       "    <tr>\n",
       "      <th>1</th>\n",
       "      <td>allen-p/_sent_mail/10.</td>\n",
       "      <td>Message-ID: &lt;15464986.1075855378456.JavaMail.e...</td>\n",
       "      <td>allen-p</td>\n",
       "      <td>_sent_mail</td>\n",
       "    </tr>\n",
       "    <tr>\n",
       "      <th>2</th>\n",
       "      <td>allen-p/_sent_mail/100.</td>\n",
       "      <td>Message-ID: &lt;24216240.1075855687451.JavaMail.e...</td>\n",
       "      <td>allen-p</td>\n",
       "      <td>_sent_mail</td>\n",
       "    </tr>\n",
       "    <tr>\n",
       "      <th>3</th>\n",
       "      <td>allen-p/_sent_mail/1000.</td>\n",
       "      <td>Message-ID: &lt;13505866.1075863688222.JavaMail.e...</td>\n",
       "      <td>allen-p</td>\n",
       "      <td>_sent_mail</td>\n",
       "    </tr>\n",
       "    <tr>\n",
       "      <th>4</th>\n",
       "      <td>allen-p/_sent_mail/1001.</td>\n",
       "      <td>Message-ID: &lt;30922949.1075863688243.JavaMail.e...</td>\n",
       "      <td>allen-p</td>\n",
       "      <td>_sent_mail</td>\n",
       "    </tr>\n",
       "  </tbody>\n",
       "</table>\n",
       "</div>"
      ],
      "text/plain": [
       "                       file  \\\n",
       "0     allen-p/_sent_mail/1.   \n",
       "1    allen-p/_sent_mail/10.   \n",
       "2   allen-p/_sent_mail/100.   \n",
       "3  allen-p/_sent_mail/1000.   \n",
       "4  allen-p/_sent_mail/1001.   \n",
       "\n",
       "                                             message employee      folder  \n",
       "0  Message-ID: <18782981.1075855378110.JavaMail.e...  allen-p  _sent_mail  \n",
       "1  Message-ID: <15464986.1075855378456.JavaMail.e...  allen-p  _sent_mail  \n",
       "2  Message-ID: <24216240.1075855687451.JavaMail.e...  allen-p  _sent_mail  \n",
       "3  Message-ID: <13505866.1075863688222.JavaMail.e...  allen-p  _sent_mail  \n",
       "4  Message-ID: <30922949.1075863688243.JavaMail.e...  allen-p  _sent_mail  "
      ]
     },
     "metadata": {},
     "output_type": "display_data"
    },
    {
     "name": "stdout",
     "output_type": "stream",
     "text": [
      "None\n"
     ]
    }
   ],
   "source": [
    "print(emails.shape)\n",
    "print(display(emails.head()))"
   ]
  },
  {
   "cell_type": "markdown",
   "metadata": {},
   "source": [
    "### Missing Values"
   ]
  },
  {
   "cell_type": "markdown",
   "metadata": {},
   "source": [
    "The `emails` dataframe was checked for missing values.  In this case, there were no missing values."
   ]
  },
  {
   "cell_type": "code",
   "execution_count": 4,
   "metadata": {
    "collapsed": false
   },
   "outputs": [
    {
     "name": "stdout",
     "output_type": "stream",
     "text": [
      "No NaN values\n"
     ]
    }
   ],
   "source": [
    "# Check for null values\n",
    "null_values = emails.isnull().values.any()\n",
    "if null_values == False: \n",
    "    print \"No NaN values\"\n",
    "else:\n",
    "    print null_values"
   ]
  },
  {
   "cell_type": "markdown",
   "metadata": {},
   "source": [
    "### Remove Non-Topical Folders that are end nodes"
   ]
  },
  {
   "cell_type": "markdown",
   "metadata": {},
   "source": [
    "Non-topical folders refer to folders that hold e-mails regardless of content (inbox, sent, trash, drafts are just a few).  These will be removed because it is pretty hard to accurately train a classifier using them. Below, you will find a list of all the end node folders and the number of e-mails stored in each.  Notice that a large portion of e-mails are stored in the automatically created folders of an e-mail application, such as:\n",
    "* all_documents\n",
    "* discussion_threads\n",
    "* sent\n",
    "* deleted_items\n",
    "* inbox\n",
    "* sent_items\n",
    "* notes_inbox\n",
    "* _sent_mail\n",
    "* calendar\n",
    "\n",
    "Note also that there are a lot of e-mails that were stored in a bunch of user created folders.  These will be more relevant for our classification problem.  "
   ]
  },
  {
   "cell_type": "code",
   "execution_count": 5,
   "metadata": {
    "collapsed": false
   },
   "outputs": [
    {
     "name": "stdout",
     "output_type": "stream",
     "text": [
      "all_documents          128103\n",
      "discussion_threads      58609\n",
      "sent                    57653\n",
      "deleted_items           51356\n",
      "inbox                   44859\n",
      "sent_items              37921\n",
      "notes_inbox             36665\n",
      "_sent_mail              30109\n",
      "calendar                 6133\n",
      "archiving                4477\n",
      "_americas                4021\n",
      "personal                 2577\n",
      "attachments              2026\n",
      "meetings                 1872\n",
      "c                        1656\n",
      "schedule_crawler         1398\n",
      "chris_stokley            1252\n",
      "logistics                1192\n",
      "archive                  1179\n",
      "tw_commercial_group      1159\n",
      "Name: folder, dtype: int64\n"
     ]
    }
   ],
   "source": [
    "folder_count = emails[\"folder\"].value_counts()\n",
    "print(folder_count[:20])"
   ]
  },
  {
   "cell_type": "code",
   "execution_count": 3,
   "metadata": {
    "collapsed": false
   },
   "outputs": [
    {
     "name": "stdout",
     "output_type": "stream",
     "text": [
      "                     file                                            message  \\\n",
      "1230  allen-p/contacts/1.  Message-ID: <15816310.1075855374294.JavaMail.e...   \n",
      "1231  allen-p/contacts/2.  Message-ID: <6521706.1075855374316.JavaMail.ev...   \n",
      "3026     allen-p/straw/1.  Message-ID: <12644875.1075855692817.JavaMail.e...   \n",
      "3027     allen-p/straw/2.  Message-ID: <22208447.1075855692838.JavaMail.e...   \n",
      "3028     allen-p/straw/3.  Message-ID: <31438311.1075855692860.JavaMail.e...   \n",
      "\n",
      "     employee    folder  \n",
      "1230  allen-p  contacts  \n",
      "1231  allen-p  contacts  \n",
      "3026  allen-p     straw  \n",
      "3027  allen-p     straw  \n",
      "3028  allen-p     straw  \n",
      "The filtered dataframe now contains 65993 rows.  This is a much reduced dataframe, but still a lot of data!\n"
     ]
    }
   ],
   "source": [
    "# Folders we can filter out\n",
    "non_topical_folders = [\"_sent_mail\", \"calendar\", \"all_documents\", \"discussion_threads\",\n",
    "                       \"sent\", \"deleted_items\", \"inbox\", \"sent_items\", \"notes_inbox\"]\n",
    "\n",
    "# A new dataframe without non-topical folders\n",
    "emails = emails.loc[~emails['folder'].isin(non_topical_folders)]\n",
    "print(emails.head())\n",
    "print(\"The filtered dataframe now contains {} rows.  This is a much reduced dataframe, but still a lot of data!\").format(emails.shape[0])"
   ]
  },
  {
   "cell_type": "markdown",
   "metadata": {},
   "source": [
    "### Remove folders that contain just one e-mail"
   ]
  },
  {
   "cell_type": "markdown",
   "metadata": {},
   "source": [
    "We also remove folders that contain one e-mail because such folders would not be significant for training our models later on.  Also, we can also infer that such folders were unused."
   ]
  },
  {
   "cell_type": "code",
   "execution_count": 4,
   "metadata": {
    "collapsed": false
   },
   "outputs": [
    {
     "name": "stdout",
     "output_type": "stream",
     "text": [
      "Folders with less than 2 e-mails removed!\n"
     ]
    }
   ],
   "source": [
    "email_count = emails[\"folder\"].value_counts()\n",
    "email_count = dict(email_count)\n",
    "small_folders = [key for key, val in email_count.items() if val < 2]\n",
    "emails = emails.loc[~emails['folder'].isin(small_folders)]\n",
    "print(\"Folders with less than 2 e-mails removed!\")"
   ]
  },
  {
   "cell_type": "code",
   "execution_count": 139,
   "metadata": {
    "collapsed": false
   },
   "outputs": [
    {
     "name": "stdout",
     "output_type": "stream",
     "text": [
      "             folder Folder Names\n",
      "archiving      4477    archiving\n",
      "_americas      4021    _americas\n",
      "attachments    2026  attachments\n",
      "c              1656            c\n",
      "personal       1444     personal\n"
     ]
    }
   ],
   "source": [
    "# dataframe containing counts of every word in the emails dataframe\n",
    "email_count = emails[\"folder\"].value_counts()\n",
    "indices = email_count.index\n",
    "count = pd.DataFrame(email_count, columns = [\"folder\"])\n",
    "count[\"Folder Names\"] = indices\n",
    "print count.head()"
   ]
  },
  {
   "cell_type": "code",
   "execution_count": 140,
   "metadata": {
    "collapsed": false
   },
   "outputs": [
    {
     "data": {
      "image/png": "[encoded data removed]",
      "text/plain": [
       "<matplotlib.figure.Figure at 0x18800f210>"
      ]
     },
     "metadata": {},
     "output_type": "display_data"
    }
   ],
   "source": [
    "import seaborn as sns\n",
    "import matplotlib.pyplot as plt\n",
    "%matplotlib inline \n",
    "\n",
    "def barplot(df, X, Y, figsize, color, orient, ylabel, xlabel, font_scale, rotation):\n",
    "    f, ax = plt.subplots(figsize=figsize)\n",
    "    sns.set_color_codes(\"muted\")\n",
    "    sns.barplot(x = X, y = Y, data = df, color = color, orient = orient)\n",
    "    ax.set(ylabel = ylabel, xlabel = xlabel)\n",
    "    sns.set(font_scale = font_scale)\n",
    "    plt.xticks(rotation = rotation) \n",
    "    sns.plt.show()\n",
    "    \n",
    "barplot(df = count[:20], X = \"folder\", Y = \"Folder Names\", figsize = (10, 8), color = 'b', orient = 'h', ylabel = \"Folders\", xlabel = \"Count\", font_scale = 1.5, rotation = 90)"
   ]
  },
  {
   "cell_type": "markdown",
   "metadata": {},
   "source": [
    "**Figure 1**: Bar plot showing 20 folders that contain the most e-mails "
   ]
  },
  {
   "cell_type": "code",
   "execution_count": 136,
   "metadata": {
    "collapsed": false
   },
   "outputs": [
    {
     "data": {
      "image/png": "[encoded data removed]",
      "text/plain": [
       "<matplotlib.figure.Figure at 0x113f07c90>"
      ]
     },
     "metadata": {},
     "output_type": "display_data"
    }
   ],
   "source": [
    "mail_count = emails[\"employee\"].value_counts()\n",
    "indices = mail_count.index\n",
    "count = pd.DataFrame(mail_count)\n",
    "count.rename(columns = {\"employee\": \"Count\"}, inplace = True)\n",
    "count[\"Employees\"] = indices\n",
    "barplot(df = count[:30], X = \"Count\", Y = \"Employees\", figsize = (10, 8), color = 'b', orient = 'h', ylabel = \"Employees\", xlabel = \"Count\", font_scale = 1.5, rotation = 90)"
   ]
  },
  {
   "cell_type": "markdown",
   "metadata": {},
   "source": [
    "**Figure 2**: Bar graph showing 30 employees who had the highest number of sent e-mails"
   ]
  },
  {
   "cell_type": "markdown",
   "metadata": {},
   "source": [
    "In figure 2, we see that *kean-s, kaminski-v, kitchen-l, farmer-d, williams-w3* and *lokay-m* had over 2000 e-mails contained within topical folders.  There are a few employees, such as *taylor-m, beck-s, shapiro-r* and *symes-k* who had approximately 2000 e-mails.  The rest of employees had anywhere between 50 - 1800 emails (some not shown).  For this project, I'll use employees that had more than 1000 e-mails in topical folders.   "
   ]
  },
  {
   "cell_type": "markdown",
   "metadata": {},
   "source": [
    "### Extract e-mails for employees who had over 1000 e-mails"
   ]
  },
  {
   "cell_type": "code",
   "execution_count": 6,
   "metadata": {
    "collapsed": false,
    "scrolled": true
   },
   "outputs": [
    {
     "name": "stdout",
     "output_type": "stream",
     "text": [
      "kean-s          9990\n",
      "kaminski-v      4481\n",
      "kitchen-l       4026\n",
      "farmer-d        3677\n",
      "williams-w3     2774\n",
      "lokay-m         2553\n",
      "taylor-m        2030\n",
      "beck-s          2008\n",
      "shapiro-r       2004\n",
      "symes-k         1860\n",
      "mann-k          1623\n",
      "germany-c       1506\n",
      "blair-l         1438\n",
      "rogers-b        1396\n",
      "stokley-c       1252\n",
      "sanders-r       1196\n",
      "shackleton-s    1048\n",
      "baughman-d      1044\n",
      "watson-k        1034\n",
      "Name: employee, dtype: int64\n"
     ]
    }
   ],
   "source": [
    "email_count = dict(emails[\"employee\"].value_counts())\n",
    "reduced_emails = [key for key, val in email_count.items() if val > 1000]\n",
    "emails = emails.loc[emails['employee'].isin(reduced_emails)]\n",
    "print emails[\"employee\"].value_counts()"
   ]
  },
  {
   "cell_type": "markdown",
   "metadata": {
    "collapsed": true
   },
   "source": [
    "## 3.  Bag-of-words model"
   ]
  },
  {
   "cell_type": "markdown",
   "metadata": {},
   "source": [
    "### Introducing the Bag-of-words model"
   ]
  },
  {
   "cell_type": "markdown",
   "metadata": {},
   "source": [
    "For the computer to make inferences of the e-mails, it has to be able to interpret the text by making a numerical representation of it.  One way to do this is by using something called a [**Bag-of-words model**](https://en.wikipedia.org/wiki/Bag-of-words_model).  It will take the e-mails as a string and convert it into a numerical vector to show the frequency that each unique word appears over the entire dataset.  \n",
    "\n",
    "The next step in creating a Bag-of-words model is called tokenization.  By tokenizing each e-mail, each string is split into a list of words. Scikit-learn has a `CountVectorizer` class that is able to not only tokenize documents but also implement the bag-of-words model on the data too.  It takes in a list of strings, in our case words, and outputs a dictionary mapping words as keys to their respective integer indices.  \n",
    "\n",
    "Lastly, we apply the Term frequency-inverse document frequency ([tf-idf](http://scikit-learn.org/stable/modules/feature_extraction.html#tfidf-term-weighting)) to downweight words that appear frequently in the e-mails but do not contain useful information.  Sci-kit learn has a transformer called the `TfidTransformer` to do this.  The `TfidTransformer` also normalizes the tf-idfs using L2-normalization.  Using L2-normalization helps to penalize the weight of the tf-dfs and prevent overfitting.  Tf-idf is an alternative approach to removing the most frequent words that will appear but have little relevance and for which little information can be gained from their inclusion.\n",
    "\n",
    "Below are a few functions that handle all the above steps:"
   ]
  },
  {
   "cell_type": "code",
   "execution_count": 7,
   "metadata": {
    "collapsed": false
   },
   "outputs": [],
   "source": [
    "def get_messages(df):\n",
    "    messages = []\n",
    "    for item in df:\n",
    "        # Return a message object structure from a string\n",
    "        e = email.message_from_string(item)    \n",
    "        # get message body  \n",
    "        message_body = e.get_payload()\n",
    "        # lower case messages\n",
    "        message_body = message_body.lower()\n",
    "        messages.append(message_body)\n",
    "    return messages"
   ]
  },
  {
   "cell_type": "markdown",
   "metadata": {},
   "source": [
    "#### Create bag-of-words model"
   ]
  },
  {
   "cell_type": "code",
   "execution_count": 15,
   "metadata": {
    "collapsed": false
   },
   "outputs": [],
   "source": [
    "from sklearn.feature_extraction.text import TfidfTransformer\n",
    "\n",
    "def get_bag(cleaned_msg):\n",
    "    from sklearn.feature_extraction.text import CountVectorizer\n",
    "    count = CountVectorizer()\n",
    "    docs = np.array(cleaned_msg)\n",
    "    bag = count.fit_transform(docs)\n",
    "    vocab = count.vocabulary_\n",
    "    bag = bag.toarray()\n",
    "    tfidf = TfidfTransformer(use_idf=True, norm='l2', smooth_idf=True)\n",
    "    bag = tfidf.fit_transform(count.fit_transform(docs)).toarray()\n",
    "    return bag"
   ]
  },
  {
   "cell_type": "markdown",
   "metadata": {
    "collapsed": true
   },
   "source": [
    "## 4. Training/test set splits"
   ]
  },
  {
   "cell_type": "markdown",
   "metadata": {},
   "source": [
    "The normalized bag of feature vectors will be used to train a series of models to see how well we can classify each e-mail into folders.  The target variables/labels will be the values found in the \"folder\" column of the `emails` dataframe.  \n",
    "\n",
    "When creating training and testing data, we cannot randomly shuffle the data due to the interconnected nature of e-mails.  [Conversation threading](https://en.wikipedia.org/wiki/Conversation_threading) is a perfect example of this interconnectedness.  Randomly shuffling the data would add bias to our predictions, since it is essentially equivalent to looking ahead into the future to learn about the past.  This is something we do not want to do at all.  \n",
    "\n",
    "To work around this, we will split the data into training and testing sets in chronological order, always training on data that took place before the testing data.  The initial training set size, *N* will be set to *100*.  Test sets will be set to *20%* the size of the training set.  After each pass through the data, the size of *N* increases by *1* until *(K-1)N* splits have been made, where *K* is the number of splits.  "
   ]
  },
  {
   "cell_type": "code",
   "execution_count": 11,
   "metadata": {
    "collapsed": false
   },
   "outputs": [],
   "source": [
    "def get_folds(X, N):\n",
    "    fold = {}\n",
    "    K = 0\n",
    "    train_size = 0\n",
    "    test_size = 0\n",
    "    total = 0\n",
    "    while total < len(X):\n",
    "        old_total = total\n",
    "        train_size = N\n",
    "        test_size = N * 0.2\n",
    "        total = train_size + test_size\n",
    "        \n",
    "        if total > len (X):\n",
    "            diff = len(X) - old_total\n",
    "            train_size = diff * 0.8\n",
    "            test_size = diff * 0.2\n",
    "            fold[K] = (train_size, test_size)\n",
    "            return fold\n",
    "        fold[K] = (train_size, test_size)\n",
    "        K += 1\n",
    "        N *= 2\n",
    "    return fold   "
   ]
  },
  {
   "cell_type": "markdown",
   "metadata": {},
   "source": [
    "The `get_folds()` function returns a dictionary containing the train and test sizes to be used for each fold.  Each key is represents a fold with a tuple as its value, where the first element in the tuple refers to the training set size and the second element is the test size.  For example, on the first pass over the data, the training data will be split to get the first 100 samples and the test set will be split to get the first 20 samples.  Notice that the last fold will split on the remaining training and test data."
   ]
  },
  {
   "cell_type": "markdown",
   "metadata": {},
   "source": [
    "### Classifiers"
   ]
  },
  {
   "cell_type": "markdown",
   "metadata": {},
   "source": [
    "* [K-Nearest Neighbors](http://scikit-learn.org/stable/modules/generated/sklearn.neighbors.KNeighborsClassifier.html)\n",
    "* [Multinomial Naive Bayes](http://scikit-learn.org/stable/modules/generated/sklearn.naive_bayes.MultinomialNB.html)\n",
    "* Wide-Margin Winnow \n",
    "\n",
    "Each model will be evaluated based on a classification [accuracy score](http://scikit-learn.org/stable/modules/generated/sklearn.metrics.accuracy_score.html), the fraction of correct predictions of the total number of predictions.  "
   ]
  },
  {
   "cell_type": "code",
   "execution_count": 125,
   "metadata": {
    "collapsed": false
   },
   "outputs": [],
   "source": [
    "from sklearn.neighbors import KNeighborsClassifier\n",
    "from sklearn import tree\n",
    "from sklearn.naive_bayes import MultinomialNB\n",
    "from sklearn.metrics import accuracy_score\n",
    "\n",
    "# Empty dictionary used to store the mean test scores\n",
    "accuracy_scores = {}\n",
    "\n",
    "def train_test_split(X, y, clf, key, folds):\n",
    "    test_scores = []\n",
    "    train_scores = []\n",
    "    \n",
    "    for k, split_sizes in folds.items(): \n",
    "        training_size = int(split_sizes[0])\n",
    "        test_size = int(split_sizes[1])\n",
    "        # split data into training and testing sets\n",
    "        X_train = X[:training_size]\n",
    "        y_train = y[:training_size]\n",
    "        X_test = X[:test_size]\n",
    "        y_test = y[:test_size]\n",
    "        clf.fit(X_train, y_train)\n",
    "        y_train_pred = clf.predict(X_train)\n",
    "        y_test_pred = clf.predict(X_test)\n",
    "        # test scores\n",
    "        score = (accuracy_score(y_true = y_test, y_pred = y_test_pred, normalize = True))\n",
    "        test_scores.append(score)\n",
    "        # train scores\n",
    "        score = (accuracy_score(y_true = y_train, y_pred = y_train_pred, normalize = True))\n",
    "        train_scores.append(score)\n",
    "    \n",
    "    mean_test_score = np.mean(test_scores)\n",
    "    # save the avg score \n",
    "    insert_value(accuracy_scores, key, mean_test_score)\n",
    "    print mean_test_score\n",
    "    print \"test score: {} \\n\".format(mean_test_score)\n",
    "    print \"train score: {} \\n\".format(np.mean(train_scores))"
   ]
  },
  {
   "cell_type": "code",
   "execution_count": null,
   "metadata": {
    "collapsed": false
   },
   "outputs": [],
   "source": [
    "employee_list = dict(emails[\"employee\"].value_counts()).keys()\n",
    "performance = pd.DataFrame(employee_list, columns = [\"employees\"])\n",
    "knn = KNeighborsClassifier(n_neighbors=3)\n",
    "\n",
    "nb = MultinomialNB()\n",
    "classifiers = {\"knn\":knn, \"tree\":tree_clf, \"naives_bayes\":nb}\n",
    "\n",
    "for i, employee in enumerate(employee_list):\n",
    "    employee_data = emails[emails[\"employee\"] == employee]\n",
    "    messages = get_messages(employee_data[\"message\"])\n",
    "    cleaned_messages = remove_reg_expressions(messages)\n",
    "    bag = get_bag(cleaned_messages)\n",
    "    X = bag\n",
    "    y = employee_data[\"folder\"]\n",
    "    folds = get_folds(X, N = 100)\n",
    "    for key, clf in classifiers.items():\n",
    "        train_test_split(X, y, clf, key, folds)\n",
    "\n",
    "for key, val in accuracy_scores.items():\n",
    "    performance[key] = val\n",
    "#performance.to_csv(path_or_buf = \"performance/performance.csv\", sep=',', encoding='utf-8')"
   ]
  },
  {
   "cell_type": "markdown",
   "metadata": {},
   "source": [
    "### Results"
   ]
  },
  {
   "cell_type": "markdown",
   "metadata": {},
   "source": [
    "In the code above, we trained, tested and split the data for each employee by using the employee's e-mails as training data and the respective folders as targets.  The message body for each e-mail was extracted, cleaned and converted into a numerical representation using the bag-of-words model.  Once the bag was preprocessed, it was fitted to a KNN and Multinomial Naive Bayes classifers and predictions were made over several passes of size K, which was different for each employee and varied depending on the number of e-mails per employee.  \n",
    "\n",
    "Training and testing took quite some time due the number of passes over the data, the size of the dataset.  For this reason, the results were stored in a csv file for reference.  Here are the loaded results:"
   ]
  },
  {
   "cell_type": "code",
   "execution_count": null,
   "metadata": {
    "collapsed": true
   },
   "outputs": [],
   "source": []
  }
 ],
 "metadata": {
  "kernelspec": {
   "display_name": "Python 2",
   "language": "python",
   "name": "python2"
  },
  "language_info": {
   "codemirror_mode": {
    "name": "ipython",
    "version": 2
   },
   "file_extension": ".py",
   "mimetype": "text/x-python",
   "name": "python",
   "nbconvert_exporter": "python",
   "pygments_lexer": "ipython2",
   "version": "2.7.12"
  }
 },
 "nbformat": 4,
 "nbformat_minor": 0
}
