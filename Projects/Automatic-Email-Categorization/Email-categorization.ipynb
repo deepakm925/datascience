{
 "cells": [
  {
   "cell_type": "markdown",
   "metadata": {},
   "source": [
    "# Automatic E-mail Categorization"
   ]
  },
  {
   "cell_type": "markdown",
   "metadata": {},
   "source": [
    "This project attempts to accurately classify e-mails into folders based on e-mail content. This is a Natural Language Processing challenge that uses a Bag-of-words model to convert text documents into numerical feature vectors. Two standard classifiers were trained and tested on the email foldering task. \n",
    "\n",
    "Undoubtedly, categorizing e-mails based on the content can pose so many challenges.  In reality, there is a constant stream of new information being passed through e-mails each day and much of what we learn from previous e-mails may not be able to tell us much about future e-mails.  E-mail threads will branch off onto new topics, and each user organizes their e-mails in different ways.  As a result, the user ididiosyncrasies will affect the performance of any standard classifiers.\n",
    "\n",
    "I found this to be an interesting angle to tackle the Enron Corpus, the largest public domain database in the world containing real-world email messages.  The version used contains over 500,000 emails from about 150 users, mostly senior management at Enron. You can visit [here](https://en.wikipedia.org/wiki/Enron_scandal) to learn more about the Enron scandal.  You can get a copy of the dataset [here](https://www.cs.cmu.edu/~./enron/).  \n",
    "\n",
    "Benchmark results and for this project can be found [here](http://scholarworks.umass.edu/cgi/viewcontent.cgi?article=1217&context=cs_faculty_pubs).  Bekkerman et al. (Ron Bekkerman, Andrew McCallum and Gary Huang). *Automatic Categorization of Email into Folders: Benchmark Experiments on Enron and SRI Corpora*"
   ]
  },
  {
   "cell_type": "markdown",
   "metadata": {},
   "source": [
    "##  Exploring the Enron Emails Dataset"
   ]
  },
  {
   "cell_type": "code",
   "execution_count": 847,
   "metadata": {
    "collapsed": false
   },
   "outputs": [
    {
     "name": "stdout",
     "output_type": "stream",
     "text": [
      "Successfully loaded 20000 rows and 2 columns!\n",
      "Index([u'file', u'message'], dtype='object')\n"
     ]
    },
    {
     "data": {
      "text/html": [
       "<div>\n",
       "<table border=\"1\" class=\"dataframe\">\n",
       "  <thead>\n",
       "    <tr style=\"text-align: right;\">\n",
       "      <th></th>\n",
       "      <th>file</th>\n",
       "      <th>message</th>\n",
       "    </tr>\n",
       "  </thead>\n",
       "  <tbody>\n",
       "    <tr>\n",
       "      <th>0</th>\n",
       "      <td>allen-p/_sent_mail/1.</td>\n",
       "      <td>Message-ID: &lt;18782981.1075855378110.JavaMail.evans@thyme&gt;\\nDate: Mon, 14 May 2001 16:39:00 -0700...</td>\n",
       "    </tr>\n",
       "    <tr>\n",
       "      <th>1</th>\n",
       "      <td>allen-p/_sent_mail/10.</td>\n",
       "      <td>Message-ID: &lt;15464986.1075855378456.JavaMail.evans@thyme&gt;\\nDate: Fri, 4 May 2001 13:51:00 -0700 ...</td>\n",
       "    </tr>\n",
       "    <tr>\n",
       "      <th>2</th>\n",
       "      <td>allen-p/_sent_mail/100.</td>\n",
       "      <td>Message-ID: &lt;24216240.1075855687451.JavaMail.evans@thyme&gt;\\nDate: Wed, 18 Oct 2000 03:00:00 -0700...</td>\n",
       "    </tr>\n",
       "    <tr>\n",
       "      <th>3</th>\n",
       "      <td>allen-p/_sent_mail/1000.</td>\n",
       "      <td>Message-ID: &lt;13505866.1075863688222.JavaMail.evans@thyme&gt;\\nDate: Mon, 23 Oct 2000 06:13:00 -0700...</td>\n",
       "    </tr>\n",
       "    <tr>\n",
       "      <th>4</th>\n",
       "      <td>allen-p/_sent_mail/1001.</td>\n",
       "      <td>Message-ID: &lt;30922949.1075863688243.JavaMail.evans@thyme&gt;\\nDate: Thu, 31 Aug 2000 05:07:00 -0700...</td>\n",
       "    </tr>\n",
       "  </tbody>\n",
       "</table>\n",
       "</div>"
      ],
      "text/plain": [
       "                       file  \\\n",
       "0     allen-p/_sent_mail/1.   \n",
       "1    allen-p/_sent_mail/10.   \n",
       "2   allen-p/_sent_mail/100.   \n",
       "3  allen-p/_sent_mail/1000.   \n",
       "4  allen-p/_sent_mail/1001.   \n",
       "\n",
       "                                                                                               message  \n",
       "0  Message-ID: <18782981.1075855378110.JavaMail.evans@thyme>\\nDate: Mon, 14 May 2001 16:39:00 -0700...  \n",
       "1  Message-ID: <15464986.1075855378456.JavaMail.evans@thyme>\\nDate: Fri, 4 May 2001 13:51:00 -0700 ...  \n",
       "2  Message-ID: <24216240.1075855687451.JavaMail.evans@thyme>\\nDate: Wed, 18 Oct 2000 03:00:00 -0700...  \n",
       "3  Message-ID: <13505866.1075863688222.JavaMail.evans@thyme>\\nDate: Mon, 23 Oct 2000 06:13:00 -0700...  \n",
       "4  Message-ID: <30922949.1075863688243.JavaMail.evans@thyme>\\nDate: Thu, 31 Aug 2000 05:07:00 -0700...  "
      ]
     },
     "metadata": {},
     "output_type": "display_data"
    },
    {
     "name": "stdout",
     "output_type": "stream",
     "text": [
      "None\n"
     ]
    }
   ],
   "source": [
    "import pandas as pd\n",
    "pd.set_option(\"display.max_rows\", 999)\n",
    "pd.set_option('max_colwidth',100)\n",
    "import numpy as np\n",
    "from IPython.display import display\n",
    "\n",
    "filepath = \"data/emails.csv\"\n",
    "# Read the data into a pandas dataframe called emails\n",
    "emails = pd.read_csv(filepath)\n",
    "emails =  emails.iloc[:20000]\n",
    "print(\"Successfully loaded {} rows and {} columns!\".format(emails.shape[0], emails.shape[1]))\n",
    "# Print column names\n",
    "print(emails.columns)\n",
    "# Store column headers \n",
    "headers = [header for header in emails.columns]\n",
    "# Print the first 5 rows of the dataset\n",
    "print(display(emails.head()))"
   ]
  },
  {
   "cell_type": "markdown",
   "metadata": {},
   "source": [
    "Numpy and pandas were imported, then the csv file containing the e-mails was read into a dataframe called **`emails`**.  The reading may take a while due to the size of the file.  Next, the shape of the dataset, column names and a sample of five rows within the dataset were printed.  There are 517,401 rows and 2 columns.  \n",
    "\n",
    "**`file`** - contains the original directory and filename of each email. The root level of this path is the employee (surname first followed by first name initial) to whom the emails belong. \n",
    "\n",
    "**`message`** - contains the email text"
   ]
  },
  {
   "cell_type": "markdown",
   "metadata": {},
   "source": [
    "### A sample e-mail\n",
    "\n",
    "Here is a sample of the standard e-mail found in the data.  It contains a list of headers and a message body.  Note that there is a header label called \"Mime-Version\", which signifies that the e-mails in this dataset are MIME formatted.  MIME stands for Multipurpose Internet Mail Extensions and virtually all human-written email is transmitted in MIME format.  Python has a built in [MIME handling package](https://docs.python.org/2/library/email.html) and this is what will be used to dissect the data needed out of each e-mail."
   ]
  },
  {
   "cell_type": "code",
   "execution_count": 698,
   "metadata": {
    "collapsed": false,
    "scrolled": true
   },
   "outputs": [
    {
     "name": "stdout",
     "output_type": "stream",
     "text": [
      "Message-ID: <18782981.1075855378110.JavaMail.evans@thyme>\n",
      "Date: Mon, 14 May 2001 16:39:00 -0700 (PDT)\n",
      "From: phillip.allen@enron.com\n",
      "To: tim.belden@enron.com\n",
      "Subject: \n",
      "Mime-Version: 1.0\n",
      "Content-Type: text/plain; charset=us-ascii\n",
      "Content-Transfer-Encoding: 7bit\n",
      "X-From: Phillip K Allen\n",
      "X-To: Tim Belden <Tim Belden/Enron@EnronXGate>\n",
      "X-cc: \n",
      "X-bcc: \n",
      "X-Folder: \\Phillip_Allen_Jan2002_1\\Allen, Phillip K.\\'Sent Mail\n",
      "X-Origin: Allen-P\n",
      "X-FileName: pallen (Non-Privileged).pst\n",
      "\n",
      "Here is our forecast\n",
      "\n",
      " \n"
     ]
    }
   ],
   "source": [
    "print(emails.loc[0][\"message\"])"
   ]
  },
  {
   "cell_type": "markdown",
   "metadata": {},
   "source": [
    "### Features and Label\n",
    "\n",
    "From each e-mail, we can extract headers such as `To`, `Subject`, `From` and the message body to use as features.  The `X-Folder` header will be our label.  It  contains the path to each folder. \n",
    "\n",
    "Essentially, we are taking several features of the e-mail to classify the folder in which the e-mail was stored.  Note though that all of the headers are in strings and we will need to be able to process these headers for the computer to interpret them.  The [Bag-of-words](https://en.wikipedia.org/wiki/Bag-of-words_model) model will be used to take text documents, such as our features and output a numerical representation as a feature vector.  \n",
    "\n",
    "The label, `X-folder` contains several folders and subfolders.  To better visualize all the end nodes of these folders, it would make sense to extract them from the entire filepath and append it to our existing `emails` dataframe.  "
   ]
  },
  {
   "cell_type": "markdown",
   "metadata": {},
   "source": [
    "### Extract headers"
   ]
  },
  {
   "cell_type": "code",
   "execution_count": 848,
   "metadata": {
    "collapsed": false
   },
   "outputs": [
    {
     "name": "stdout",
     "output_type": "stream",
     "text": [
      "Successfully retrieved header information!\n"
     ]
    }
   ],
   "source": [
    "import email\n",
    "\n",
    "def insert_value(dictionary, key, value):\n",
    "    if key in dictionary:\n",
    "        values = dictionary.get(key)\n",
    "        values.append(value)\n",
    "        dictionary[key] = values\n",
    "    else:\n",
    "        dictionary[key] = [value]\n",
    "    return dictionary\n",
    "\n",
    "def get_headers(df, header_names):\n",
    "    headers = {}\n",
    "    messages = df[\"message\"]\n",
    "    for message in messages:\n",
    "        e = email.message_from_string(message)\n",
    "        for item in header_names:\n",
    "            header = e.get(item)\n",
    "            insert_value(dictionary = headers, key = item, value = header) \n",
    "    print(\"Successfully retrieved header information!\")\n",
    "    return headers\n",
    "header_names = [\"Date\", \"Subject\", \"X-Folder\", \"X-From\", \"X-To\"]    \n",
    "headers = get_headers(emails, header_names)"
   ]
  },
  {
   "cell_type": "markdown",
   "metadata": {},
   "source": [
    "###  Extract Message Body"
   ]
  },
  {
   "cell_type": "markdown",
   "metadata": {},
   "source": [
    "Here we extract the message body using and add it as a new column called **`Message_Body`** to **`emails`**"
   ]
  },
  {
   "cell_type": "code",
   "execution_count": 849,
   "metadata": {
    "collapsed": false
   },
   "outputs": [
    {
     "name": "stdout",
     "output_type": "stream",
     "text": [
      "Successfully retrieved message body of e-mails!\n"
     ]
    }
   ],
   "source": [
    "def get_messages(df):\n",
    "    messages = []\n",
    "    for item in df[\"message\"]:\n",
    "        # Return a message object structure from a string\n",
    "        e = email.message_from_string(item)    \n",
    "        # get message body  \n",
    "        message_body = e.get_payload()\n",
    "        # lower case messages\n",
    "        message_body = message_body.lower()\n",
    "        messages.append(message_body)\n",
    "    print(\"Successfully retrieved message body of e-mails!\")\n",
    "    return messages\n",
    "msg_body = get_messages(emails)\n",
    "# add new column with message body content\n",
    "emails[\"Message-Body\"] = msg_body"
   ]
  },
  {
   "cell_type": "markdown",
   "metadata": {},
   "source": [
    "### Get Employee names"
   ]
  },
  {
   "cell_type": "markdown",
   "metadata": {},
   "source": [
    "A sample of unique values from the `X-From` column shows that there are some e-mails sent from non-employees, such as, bloomberg.com, earnings.com, nytimes.com.  These are sites to other companies, so I am not sure how to interpret this.  What I can infer is that it would be suitable to use the employee names found in the `file` column of the `emails` dataframe.  It contains unique employee names.  It is a part of a string with other info so we will just have to extract the names and append it to `emails`.  We will use the employee names to filter the data for records per employee."
   ]
  },
  {
   "cell_type": "code",
   "execution_count": 850,
   "metadata": {
    "collapsed": false
   },
   "outputs": [
    {
     "name": "stdout",
     "output_type": "stream",
     "text": [
      "1708\n",
      "['Phillip K Allen' 'Ina Rangel'\n",
      " 'Multex Investor <1.11913372.-2@multexinvestornetwork.com>'\n",
      " '\"Bloomberg.com\" <messenger@ecm.bloomberg.com>'\n",
      " '\"Arthur O\\'Donnell\" <aod@newsdata.com>' 'critical.notice@Enron.com'\n",
      " 'market-reply@LISTSERV.DOWJONES.COM' 'Rebecca W Cantrell'\n",
      " '\"Earnings.com\" <webmaster@earnings.com>' 'Paul Kaufman'\n",
      " '\"Y-Life to Go\" <yild@zdemail.zdlists.com>'\n",
      " 'bounce-news-932653@lists.autoweb.com' 'Public Relations'\n",
      " 'Stephanie Miller' 'Tracy L Arthur' 'Sarah Novosel' 'bobregon@bga.com'\n",
      " 'subscriptions@intelligencepress.com' 'Tim Heizenrader'\n",
      " 'rob_tom@freenet.carleton.ca (Robert W. Tom)' 'CALXA@aol.com'\n",
      " 'Energy Insight Editor <EI_editor@FTENERGY.COM>' 'billc@greenbuilder.com'\n",
      " 'Frank Hayden' '\"Matt\" <matt@fastpacket.net>'\n",
      " 'The HCFR <jfreeman@ssm.net>' 'owner-strawbale@crest.org' 'Kim Ward'\n",
      " 'GrenSheltr@aol.com' 'Yahoo! Delivers <yahoo-delivers@yahoo-inc.com>'\n",
      " '\"Performance Evaluation Process (PEP)\" <perfmgmt@enron.com>'\n",
      " '\"NYTimes.com\" <announce@inbox.nytimes.com>'\n",
      " '\"Jeff Smith\" <jsmith@austintx.com>' 'Alyse Herasimchuk' 'Lisa Jacobson'\n",
      " 'Christi L Nicolay' 'Richard Shapiro' '\"Greg Thorse\" <gthorse@keyad.com>'\n",
      " 'Tiffany Miller' 'Philip Polsky' 'Mark Whitt']\n"
     ]
    }
   ],
   "source": [
    "x_from = pd.DataFrame(headers[\"X-From\"], columns = [\"X-From\"])\n",
    "print len(x_from[\"X-From\"].unique())\n",
    "print(x_from.iloc[:1000][\"X-From\"].unique())\n",
    "if \"X-From\" not in emails.columns:\n",
    "    emails = pd.concat([emails, x_from], axis = 1, join = 'inner')"
   ]
  },
  {
   "cell_type": "code",
   "execution_count": 851,
   "metadata": {
    "collapsed": false
   },
   "outputs": [
    {
     "name": "stdout",
     "output_type": "stream",
     "text": [
      "Successfully added new column!\n"
     ]
    }
   ],
   "source": [
    "def add_name(df, column, labels):\n",
    "    new_data = {}\n",
    "    for item in df[column]: \n",
    "        # Split string into tokens\n",
    "        tokens = item.split('/')\n",
    "            # Get employee name (eg.\"allen-p\")\n",
    "        for i in range(0, len(labels)):\n",
    "            value = tokens[i]\n",
    "            key = labels[i]\n",
    "            new_data = insert_value(new_data, key, value)\n",
    "            # Get folder (eg.\"_sent_mail\")         \n",
    "    for key, value in new_data.items():\n",
    "        df[key] = pd.Series(value)\n",
    "    print(\"Successfully added new column!\")\n",
    "    return df\n",
    "emails = add_name(df = emails, column = \"file\", labels = [\"employee\"])"
   ]
  },
  {
   "cell_type": "markdown",
   "metadata": {},
   "source": [
    "### A quick look at the folders"
   ]
  },
  {
   "cell_type": "markdown",
   "metadata": {},
   "source": [
    "Here we print a sample of randomly selected folders from a newly created `folders` dataframe.  Take a look at the end node, or the last folder in each row and you will notice that there are more than two folder options in use.  The Enron employees stored their e-mails across several folders and as such, this looks like a [**multiclass classification**](https://en.wikipedia.org/wiki/Multiclass_classification) problem.  For this project, the one-versus-all method will be used to tackle this problem.  In a one-versus-all method, we are essentially doing a binary classification for n number of classes.  Therefore n number of models will be trained for each class based on the number of folders used by each employee. "
   ]
  },
  {
   "cell_type": "code",
   "execution_count": 852,
   "metadata": {
    "collapsed": false
   },
   "outputs": [],
   "source": [
    "folders = pd.DataFrame(headers[\"X-Folder\"], columns = [\"Folder\"])\n",
    "# Concatenate folders to emails dataframe\n",
    "emails = pd.concat([emails, folders], axis = 1, join = 'inner')"
   ]
  },
  {
   "cell_type": "code",
   "execution_count": 855,
   "metadata": {
    "collapsed": false
   },
   "outputs": [
    {
     "name": "stdout",
     "output_type": "stream",
     "text": [
      "14381         \\Eric_Bass_Dec2000\\Notes Folders\\Discussion threads\n",
      "7997              \\Harry_Arora_Jan2002\\Arora, Harry\\Deleted Items\n",
      "3561                \\John_Arnold_Jun2001\\Notes Folders\\'sent mail\n",
      "1793     \\Phillip_Allen_June2001\\Notes Folders\\Discussion threads\n",
      "13715            \\EBASS (Non-Privileged)\\Bass, Eric\\Deleted Items\n",
      "17188                       \\Eric_Bass_Dec2000\\Notes Folders\\Sent\n",
      "16297               \\EBASS (Non-Privileged)\\Bass, Eric\\Sent Items\n",
      "Name: Folder, dtype: object\n"
     ]
    }
   ],
   "source": [
    "print(emails[\"Folder\"].sample(7))"
   ]
  },
  {
   "cell_type": "code",
   "execution_count": 856,
   "metadata": {
    "collapsed": false
   },
   "outputs": [
    {
     "name": "stdout",
     "output_type": "stream",
     "text": [
      "Here is the emails dataframe after appending all the relevant headers\n"
     ]
    },
    {
     "data": {
      "text/html": [
       "<div>\n",
       "<table border=\"1\" class=\"dataframe\">\n",
       "  <thead>\n",
       "    <tr style=\"text-align: right;\">\n",
       "      <th></th>\n",
       "      <th>file</th>\n",
       "      <th>message</th>\n",
       "      <th>Message-Body</th>\n",
       "      <th>X-From</th>\n",
       "      <th>employee</th>\n",
       "      <th>Folder</th>\n",
       "      <th>Date</th>\n",
       "      <th>Subject</th>\n",
       "      <th>X-To</th>\n",
       "    </tr>\n",
       "  </thead>\n",
       "  <tbody>\n",
       "    <tr>\n",
       "      <th>0</th>\n",
       "      <td>allen-p/_sent_mail/1.</td>\n",
       "      <td>Message-ID: &lt;18782981.1075855378110.JavaMail.evans@thyme&gt;\\nDate: Mon, 14 May 2001 16:39:00 -0700...</td>\n",
       "      <td>here is our forecast\\n\\n</td>\n",
       "      <td>Phillip K Allen</td>\n",
       "      <td>allen-p</td>\n",
       "      <td>\\Phillip_Allen_Jan2002_1\\Allen, Phillip K.\\'Sent Mail</td>\n",
       "      <td>Mon, 14 May 2001 16:39:00 -0700 (PDT)</td>\n",
       "      <td></td>\n",
       "      <td>Tim Belden &lt;Tim Belden/Enron@EnronXGate&gt;</td>\n",
       "    </tr>\n",
       "  </tbody>\n",
       "</table>\n",
       "</div>"
      ],
      "text/plain": [
       "                    file  \\\n",
       "0  allen-p/_sent_mail/1.   \n",
       "\n",
       "                                                                                               message  \\\n",
       "0  Message-ID: <18782981.1075855378110.JavaMail.evans@thyme>\\nDate: Mon, 14 May 2001 16:39:00 -0700...   \n",
       "\n",
       "                Message-Body           X-From employee  \\\n",
       "0  here is our forecast\\n\\n   Phillip K Allen  allen-p   \n",
       "\n",
       "                                                  Folder  \\\n",
       "0  \\Phillip_Allen_Jan2002_1\\Allen, Phillip K.\\'Sent Mail   \n",
       "\n",
       "                                    Date Subject  \\\n",
       "0  Mon, 14 May 2001 16:39:00 -0700 (PDT)           \n",
       "\n",
       "                                       X-To  \n",
       "0  Tim Belden <Tim Belden/Enron@EnronXGate>  "
      ]
     },
     "metadata": {},
     "output_type": "display_data"
    },
    {
     "name": "stdout",
     "output_type": "stream",
     "text": [
      "None\n"
     ]
    }
   ],
   "source": [
    "def add_other_headers(df, header_list):\n",
    "    for label in header_list:\n",
    "        df_new = pd.DataFrame(headers[label], columns = [label])\n",
    "        if label not in df.columns:\n",
    "            df = pd.concat([df, df_new], axis = 1)\n",
    "    return df\n",
    "remaining_headers = [\"Date\", \"Subject\", \"X-To\", \"X-From\"]\n",
    "emails = add_other_headers(df = emails, header_list = remaining_headers)\n",
    "print(\"Here is the emails dataframe after appending all the relevant headers\")\n",
    "print(display(emails.iloc[:1]))"
   ]
  },
  {
   "cell_type": "markdown",
   "metadata": {},
   "source": [
    "### Data Cleaning"
   ]
  },
  {
   "cell_type": "markdown",
   "metadata": {},
   "source": [
    "Here are the list of things that needs to be performed on the data:\n",
    "\n",
    "* Convert `date` column to datetime\n",
    "* Remove non-topical folders\n",
    "* Remove folders containing too few e-mails (less than 2)\n",
    "* Select employees with over 1000 e-mails \n",
    "* Drop rows with missin\n",
    "* **Bag-of-words** model\n",
    "    * Tokenization\n",
    "    * Remove unwanted characters from the `message`, `Subject`, `X-To` and `X-From` columns\n",
    "    * Assemble matrices\n",
    "    * Count tokens\n",
    "    * Remove stop-words"
   ]
  },
  {
   "cell_type": "code",
   "execution_count": 857,
   "metadata": {
    "collapsed": false
   },
   "outputs": [
    {
     "name": "stdout",
     "output_type": "stream",
     "text": [
      "0   2001-05-14 23:39:00\n",
      "Name: Date, dtype: datetime64[ns]\n"
     ]
    }
   ],
   "source": [
    "# Convert date column to datetime \n",
    "emails[\"Date\"] = pd.to_datetime(emails[\"Date\"])\n",
    "print(emails.iloc[:1][\"Date\"])"
   ]
  },
  {
   "cell_type": "markdown",
   "metadata": {},
   "source": [
    "### Preprocess Folders\n",
    "\n",
    "The `X-Folder` column contains several folders and subfolders that we do not need.  These include none-topical folders, which refer to folders that hold e-mails regardless of content (inbox, sent, trash, drafts are just a few).  These will be removed because it is pretty hard to accurately train a classifier using them. Below, you will find a list of all the end node folders and the number of e-mails stored in each.  Notice that a large portion of e-mails are stored in the automatically created folders of an e-mail application, such as:\n",
    "* all_documents\n",
    "* discussion_threads\n",
    "* sent\n",
    "* deleted_items\n",
    "* inbox\n",
    "* sent_items\n",
    "* notes_inbox\n",
    "* _sent_mail\n",
    "* calendar  "
   ]
  },
  {
   "cell_type": "code",
   "execution_count": 858,
   "metadata": {
    "collapsed": false
   },
   "outputs": [
    {
     "name": "stdout",
     "output_type": "stream",
     "text": [
      "Folder cleaned!\n"
     ]
    }
   ],
   "source": [
    "def preprocess_folder(data):\n",
    "    folders = []\n",
    "    for item in data:\n",
    "        if item is None or item is '':\n",
    "            folders.append(np.nan)\n",
    "        else:\n",
    "            item = item.split(\"\\\\\")[-1]\n",
    "            item = item.lower()\n",
    "            folders.append(item)\n",
    "    print(\"Folder cleaned!\")\n",
    "    return folders      \n",
    "emails[\"Folder\"] = preprocess_folder(emails[\"Folder\"])   "
   ]
  },
  {
   "cell_type": "code",
   "execution_count": 859,
   "metadata": {
    "collapsed": false
   },
   "outputs": [
    {
     "name": "stdout",
     "output_type": "stream",
     "text": [
      "all documents           4481\n",
      "discussion threads      2917\n",
      "'sent mail              2877\n",
      "sent                    2750\n",
      "deleted items           2573\n",
      "sent items              1415\n",
      "inbox                    987\n",
      "notes inbox              858\n",
      "24 hour                  229\n",
      "savedmail                 90\n",
      "california                70\n",
      "saved mail                67\n",
      "ect admin                 56\n",
      "cinergy index             51\n",
      "interviews                49\n",
      "letters                   45\n",
      "internet                  34\n",
      "miso                      29\n",
      "calendar                  27\n",
      "personal                  25\n",
      "imagesmoviessound         16\n",
      "bmc                       16\n",
      "jokes                     15\n",
      "vermont yankee nuke       15\n",
      "tasks                     14\n",
      "compaq                    13\n",
      "e_services                13\n",
      "hp                        13\n",
      "continental airlines      12\n",
      "memo's                    10\n",
      "Name: Folder, dtype: int64\n"
     ]
    }
   ],
   "source": [
    "# Folder count\n",
    "print(emails[\"Folder\"].value_counts())[:30]"
   ]
  },
  {
   "cell_type": "markdown",
   "metadata": {},
   "source": [
    "### Remove Non-topical Folders"
   ]
  },
  {
   "cell_type": "code",
   "execution_count": 860,
   "metadata": {
    "collapsed": false
   },
   "outputs": [
    {
     "name": "stdout",
     "output_type": "stream",
     "text": [
      "24 hour                229\n",
      "savedmail               90\n",
      "california              70\n",
      "saved mail              67\n",
      "ect admin               56\n",
      "cinergy index           51\n",
      "interviews              49\n",
      "letters                 45\n",
      "internet                34\n",
      "miso                    29\n",
      "personal                25\n",
      "imagesmoviessound       16\n",
      "bmc                     16\n",
      "jokes                   15\n",
      "vermont yankee nuke     15\n",
      "Name: Folder, dtype: int64\n"
     ]
    }
   ],
   "source": [
    "# Folders we can filter out\n",
    "unwanted_folders = [\"all documents\", \"deleted items\", \"discussion threads\", \"sent\", \"deleted Items\", \"inbox\",\n",
    "                   \"sent items\", \"'sent mail\", \"untitled\", \"notes inbox\", \"junk file\", \"calendar\"]\n",
    "\n",
    "# A new dataframe without non-topical folders\n",
    "emails = emails.loc[~emails['Folder'].isin(unwanted_folders)]\n",
    "print(emails[\"Folder\"].value_counts())[:15]"
   ]
  },
  {
   "cell_type": "markdown",
   "metadata": {},
   "source": [
    "### Remove folders that contain just one e-mail\n",
    "\n",
    "We also remove folders that contain one e-mail because such folders would not be significant for training our models later on.  Also, we can also infer that such folders were created but unused."
   ]
  },
  {
   "cell_type": "code",
   "execution_count": 861,
   "metadata": {
    "collapsed": false
   },
   "outputs": [
    {
     "name": "stdout",
     "output_type": "stream",
     "text": [
      "Folders with less than 2 e-mails removed!\n",
      "This is a list of the 20 smallest folders\n",
      "\n",
      "requisite             4\n",
      "kinko's               4\n",
      "expense acct.         4\n",
      "gri timesheets        4\n",
      "receipts              3\n",
      "2000 conference       3\n",
      "etol                  3\n",
      "mdea                  3\n",
      "sap                   3\n",
      "vulcan signs          3\n",
      "drafts                3\n",
      "ebs                   3\n",
      "bristol babcock       2\n",
      "colleen koenig        2\n",
      "corestaff             2\n",
      "pcc values            2\n",
      "nepco europe          2\n",
      "entex                 2\n",
      "uplifting messages    2\n",
      "bridge                2\n",
      "Name: Folder, dtype: int64\n"
     ]
    }
   ],
   "source": [
    "email_count = dict(emails[\"Folder\"].value_counts())\n",
    "small_folders = [key for key, val in email_count.items() if val < 2]\n",
    "emails = emails.loc[~emails['Folder'].isin(small_folders)]\n",
    "print(\"Folders with less than 2 e-mails removed!\\nThis is a list of the 20 smallest folders\\n\")\n",
    "print(emails[\"Folder\"].value_counts())[-20:]"
   ]
  },
  {
   "cell_type": "markdown",
   "metadata": {
    "collapsed": false
   },
   "source": [
    "### Visualize folders by size"
   ]
  },
  {
   "cell_type": "code",
   "execution_count": 736,
   "metadata": {
    "collapsed": false
   },
   "outputs": [
    {
     "data": {
      "image/png": "[encoded data removed]",
      "text/plain": [
       "<matplotlib.figure.Figure at 0x1272fd2d0>"
      ]
     },
     "metadata": {},
     "output_type": "display_data"
    }
   ],
   "source": [
    "import seaborn as sns\n",
    "import matplotlib.pyplot as plt\n",
    "%matplotlib inline\n",
    "\n",
    "# dataframe containing counts of every word in the emails dataframe\n",
    "email_count = emails[\"Folder\"].value_counts()\n",
    "indices = email_count.index\n",
    "count = pd.DataFrame(email_count, columns = [\"Folder\"])\n",
    "count[\"Folder Names\"] = indices\n",
    "#print count.head()\n",
    "\n",
    "def barplot(df, X, Y, figsize, color, orient, ylabel, xlabel, font_scale, rotation):\n",
    "    f, ax = plt.subplots(figsize=figsize)\n",
    "    sns.set_color_codes(\"muted\")\n",
    "    sns.barplot(x = X, y = Y, data = df, color = color, orient = orient)\n",
    "    ax.set(ylabel = ylabel, xlabel = xlabel)\n",
    "    sns.set(font_scale = font_scale)\n",
    "    plt.xticks(rotation = rotation) \n",
    "    sns.plt.show()\n",
    "    \n",
    "barplot(df = count[:20], X = \"Folder\", Y = \"Folder Names\", figsize = (10, 8), color = 'b', orient = 'h', ylabel = \"Folders\", xlabel = \"Count\", font_scale = 1.5, rotation = 90)"
   ]
  },
  {
   "cell_type": "markdown",
   "metadata": {},
   "source": [
    "**Figure 1**: Bar plot showing 20 folders that contain the most e-mails "
   ]
  },
  {
   "cell_type": "markdown",
   "metadata": {},
   "source": [
    "### Visualize e-mail count by employee"
   ]
  },
  {
   "cell_type": "code",
   "execution_count": 712,
   "metadata": {
    "collapsed": false
   },
   "outputs": [
    {
     "data": {
      "image/png": "[encoded data removed]",
      "text/plain": [
       "<matplotlib.figure.Figure at 0x146d2a610>"
      ]
     },
     "metadata": {},
     "output_type": "display_data"
    }
   ],
   "source": [
    "mail_count = emails[\"employee\"].value_counts()\n",
    "indices = mail_count.index\n",
    "count = pd.DataFrame(mail_count)\n",
    "count.rename(columns = {\"employee\": \"Count\"}, inplace = True)\n",
    "count[\"Employees\"] = indices\n",
    "barplot(df = count[:30], X = \"Count\", Y = \"Employees\", figsize = (10, 8), color = 'b', orient = 'h', ylabel = \"Employees\", xlabel = \"Count\", font_scale = 1.5, rotation = 90)"
   ]
  },
  {
   "cell_type": "markdown",
   "metadata": {},
   "source": [
    "**Figure 2**: Bar graph showing 30 employees who had the highest number of sent e-mails\n",
    "\n",
    "In figure 2, we see that *kean-s, kaminski-v, kitchen-l, farmer-d, williams-w3* and *lokay-m* had over 2000 e-mails contained within topical folders.  There are a few employees, such as *taylor-m, beck-s, shapiro-r* and *symes-k* who had approximately 2000 e-mails.  The rest of employees had anywhere between 50 - 1800 emails (some not shown).  For this project, I'll use employees that had more than 1000 e-mails in topical folders.   "
   ]
  },
  {
   "cell_type": "markdown",
   "metadata": {},
   "source": [
    "### Extract e-mails for employees who had over 1000 e-mails"
   ]
  },
  {
   "cell_type": "code",
   "execution_count": 588,
   "metadata": {
    "collapsed": false,
    "scrolled": true
   },
   "outputs": [
    {
     "name": "stdout",
     "output_type": "stream",
     "text": [
      "Series([], Name: employee, dtype: int64)\n"
     ]
    }
   ],
   "source": [
    "email_count = dict(emails[\"employee\"].value_counts())\n",
    "reduced_emails = [key for key, val in email_count.items() if val > 1000]\n",
    "emails = emails.loc[emails['employee'].isin(reduced_emails)]\n",
    "print emails[\"employee\"].value_counts()"
   ]
  },
  {
   "cell_type": "code",
   "execution_count": 735,
   "metadata": {
    "collapsed": false
   },
   "outputs": [
    {
     "name": "stdout",
     "output_type": "stream",
     "text": [
      "1230           contacts\n",
      "1231           contacts\n",
      "3026              straw\n",
      "3027              straw\n",
      "3028              straw\n",
      "3029              straw\n",
      "3030              straw\n",
      "3031              straw\n",
      "3032              straw\n",
      "3033              straw\n",
      "3848    2000 conference\n",
      "3849    2000 conference\n",
      "3850    2000 conference\n",
      "4899              avaya\n",
      "4900              avaya\n",
      "4901              avaya\n",
      "4902              avaya\n",
      "4903              avaya\n",
      "4904                bmc\n",
      "4905                bmc\n",
      "Name: Folder, dtype: object\n"
     ]
    }
   ],
   "source": [
    "print emails.iloc[:20][\"Folder\"]"
   ]
  },
  {
   "cell_type": "markdown",
   "metadata": {},
   "source": [
    "### Missing Values\n",
    "\n",
    "We see that the **`X-From`**, **`Folder`**, and **`X-To`** columns contain missing values.  Given that the number of missing values is relatively small compared to the size of the entire dataset, we can go ahead and drop the rows containing these missing values"
   ]
  },
  {
   "cell_type": "code",
   "execution_count": 862,
   "metadata": {
    "collapsed": false
   },
   "outputs": [
    {
     "data": {
      "text/plain": [
       "file            0\n",
       "message         0\n",
       "Message-Body    0\n",
       "X-From          4\n",
       "employee        0\n",
       "Folder          4\n",
       "Date            0\n",
       "Subject         0\n",
       "X-To            4\n",
       "dtype: int64"
      ]
     },
     "execution_count": 862,
     "metadata": {},
     "output_type": "execute_result"
    }
   ],
   "source": [
    "emails.isnull().sum()"
   ]
  },
  {
   "cell_type": "code",
   "execution_count": 867,
   "metadata": {
    "collapsed": false
   },
   "outputs": [
    {
     "name": "stdout",
     "output_type": "stream",
     "text": [
      "Rows with missing values have been removed\n"
     ]
    },
    {
     "data": {
      "text/plain": [
       "file            0\n",
       "message         0\n",
       "Message-Body    0\n",
       "X-From          0\n",
       "employee        0\n",
       "Folder          0\n",
       "Date            0\n",
       "Subject         0\n",
       "X-To            0\n",
       "dtype: int64"
      ]
     },
     "execution_count": 867,
     "metadata": {},
     "output_type": "execute_result"
    }
   ],
   "source": [
    "emails.dropna(inplace = True)\n",
    "print(\"Rows with missing values have been removed\")\n",
    "emails.isnull().sum()"
   ]
  },
  {
   "cell_type": "markdown",
   "metadata": {},
   "source": [
    "### Encoding class labels\n",
    "\n",
    "Our folders in the **`Folders`** column need to be converted into integers so that the learning algorithm can interpret the data correctly.  These folders are categorical and as such, it does not matter which integer is assigned to a particular folder.  Scikit-learn has a [LabelEncoder](http://scikit-learn.org/stable/modules/generated/sklearn.preprocessing.LabelEncoder.html) class that can implement this conversion.  The conversion was applied and assigned to **`y`**, which we will use as our preprocessed set of labels"
   ]
  },
  {
   "cell_type": "code",
   "execution_count": 874,
   "metadata": {
    "collapsed": false
   },
   "outputs": [
    {
     "name": "stdout",
     "output_type": "stream",
     "text": [
      "[13 13 55 55 55 55 55 55 55 55  0  0  0  2  2  2  2  2  3  3  3  3  3  3  3\n",
      "  3  3  3  3  3]\n"
     ]
    }
   ],
   "source": [
    "from sklearn.preprocessing import LabelEncoder\n",
    "\n",
    "class_le = LabelEncoder()\n",
    "y = class_le.fit_transform(emails['Folder'].values)\n",
    "print(y[:30])"
   ]
  },
  {
   "cell_type": "markdown",
   "metadata": {
    "collapsed": true
   },
   "source": [
    "### Bag-of-words model\n",
    "\n",
    "For the computer to make inferences of the e-mails, it has to be able to interpret the text by making a numerical representation of it.  One way to do this is by using something called a [**Bag-of-words model**](https://en.wikipedia.org/wiki/Bag-of-words_model).  It will take the e-mails as a string and convert it into a numerical vector to show the frequency that each unique word appears over the entire dataset.  "
   ]
  },
  {
   "cell_type": "markdown",
   "metadata": {},
   "source": [
    "### Tokenization \n",
    "\n",
    "Given that we already cleaned the data, the next step involves tokenizing our features. Tokenization involves splitting each text document into a list of words."
   ]
  },
  {
   "cell_type": "code",
   "execution_count": 714,
   "metadata": {
    "collapsed": false
   },
   "outputs": [],
   "source": [
    "def tokenize(row):\n",
    "    if row is None or row is '':\n",
    "        tokens = \"\"\n",
    "    else:\n",
    "        tokens = row.split(\" \")\n",
    "    return tokens"
   ]
  },
  {
   "cell_type": "markdown",
   "metadata": {},
   "source": [
    "### Remove regular expressions\n",
    "\n",
    "After that, the regular expressions, which includes punctuation marks and nonword characters need to be removed.  I will use Python's regular expression ([regex](https://docs.python.org/2/library/re.html)) libary to remove these characters."
   ]
  },
  {
   "cell_type": "code",
   "execution_count": 715,
   "metadata": {
    "collapsed": false
   },
   "outputs": [],
   "source": [
    "import re\n",
    "\n",
    "def remove_reg_expressions(row):\n",
    "    tokens = []\n",
    "    try:\n",
    "        for token in row:\n",
    "            token = token.lower()\n",
    "            token = re.sub(r'[\\W\\d]', \" \", token)\n",
    "            tokens.append(token)\n",
    "    except:\n",
    "        token = \"\"\n",
    "        tokens.append(token)\n",
    "    return tokens"
   ]
  },
  {
   "cell_type": "markdown",
   "metadata": {},
   "source": [
    "### Stop-word removal\n",
    "\n",
    "Stop-words are also removed.  Stop-words are words that are very common in text but offer no useful information that can be used to classify the text.  Words such as *is*, *and*, *the*, *are* are examples of stop-words.  The [NLTK library](http://www.nltk.org) contains a list of 127 English stop-words and can be used to filter our tokenized strings."
   ]
  },
  {
   "cell_type": "code",
   "execution_count": 789,
   "metadata": {
    "collapsed": false
   },
   "outputs": [
    {
     "name": "stdout",
     "output_type": "stream",
     "text": [
      "[nltk_data] Downloading package stopwords to\n",
      "[nltk_data]     /Users/donaldfung/nltk_data...\n",
      "[nltk_data]   Package stopwords is already up-to-date!\n"
     ]
    }
   ],
   "source": [
    "import nltk\n",
    "\n",
    "nltk.download('stopwords')\n",
    "from nltk.corpus import stopwords\n",
    "stopwords = stopwords.words('english')    \n",
    "\n",
    "def stop_word_removal(row):\n",
    "    token = [token for token in row if token not in stopwords]\n",
    "    token = filter(None, token)\n",
    "    return token"
   ]
  },
  {
   "cell_type": "markdown",
   "metadata": {},
   "source": [
    "### Assemble matrices\n",
    "\n",
    "The **`assemble_bag()`** function will call the **`tokenize()`**, **`remove_reg_expressions()`**, **`stop_word_removal()`** functions to clean the data.  Then it assembles a new dataframe containing all the unique words found in the text documents.  It counts the word frequency and then returns the new dataframe.  "
   ]
  },
  {
   "cell_type": "code",
   "execution_count": 787,
   "metadata": {
    "collapsed": true
   },
   "outputs": [],
   "source": [
    "def assemble_bag(data):\n",
    "    data = data.apply(tokenize)\n",
    "    data = data.apply(stop_word_removal)\n",
    "    data = data.apply(remove_reg_expressions)\n",
    "    \n",
    "    \n",
    "    unique_tokens = []\n",
    "    single_tokens = []\n",
    "\n",
    "    for item in data:\n",
    "        for token in item:\n",
    "            if token in single_tokens:\n",
    "                if token not in unique_tokens:\n",
    "                    unique_tokens.append(token)\n",
    "            else:\n",
    "                single_tokens.append(token)\n",
    "    \n",
    "    df = pd.DataFrame(0, index = np.arange(len(data)), columns = unique_tokens)\n",
    "    \n",
    "    for i, item in enumerate(data):\n",
    "        for token in item:\n",
    "            if token in unique_tokens:\n",
    "                df.iloc[i][token] += 1    \n",
    "    return df"
   ]
  },
  {
   "cell_type": "markdown",
   "metadata": {},
   "source": [
    "We call the **`assemble_bag()`** method for each feature to return a new dataframe.  These dataframes are concatenated to a new dataframe called `features`."
   ]
  },
  {
   "cell_type": "code",
   "execution_count": 790,
   "metadata": {
    "collapsed": false
   },
   "outputs": [],
   "source": [
    "from_bag = assemble_bag(emails[\"X-From\"])\n",
    "to_bag = assemble_bag(emails[\"X-To\"])\n",
    "message_bag = assemble_bag(emails[\"Message-Body\"])\n",
    "subject_bag = assemble_bag(emails[\"Subject\"])\n",
    "frames = [from_bag, to_bag, message_bag]\n",
    "features = pd.concat(frames, axis = 1, join = 'inner')\n",
    "features.drop(labels = [\" \", \"\"], inplace = True, axis = 1)"
   ]
  },
  {
   "cell_type": "code",
   "execution_count": 791,
   "metadata": {
    "collapsed": true
   },
   "outputs": [],
   "source": [
    "features.dropna(inplace = True, axis = 0)"
   ]
  },
  {
   "cell_type": "code",
   "execution_count": 792,
   "metadata": {
    "collapsed": false
   },
   "outputs": [
    {
     "data": {
      "text/html": [
       "<div>\n",
       "<table border=\"1\" class=\"dataframe\">\n",
       "  <thead>\n",
       "    <tr style=\"text-align: right;\">\n",
       "      <th></th>\n",
       "      <th>louise</th>\n",
       "      <th>k</th>\n",
       "      <th>dan</th>\n",
       "      <th>bob</th>\n",
       "      <th>candace</th>\n",
       "      <th>...</th>\n",
       "      <th>password</th>\n",
       "      <th>courtesy</th>\n",
       "      <th>www tradersnewsenergy com      bobette</th>\n",
       "      <th>bobette riner ipgdirect com  sent</th>\n",
       "      <th>daniels</th>\n",
       "    </tr>\n",
       "  </thead>\n",
       "  <tbody>\n",
       "    <tr>\n",
       "      <th>0</th>\n",
       "      <td>0</td>\n",
       "      <td>0</td>\n",
       "      <td>0</td>\n",
       "      <td>0</td>\n",
       "      <td>0</td>\n",
       "      <td>...</td>\n",
       "      <td>0</td>\n",
       "      <td>0</td>\n",
       "      <td>0</td>\n",
       "      <td>0</td>\n",
       "      <td>0</td>\n",
       "    </tr>\n",
       "    <tr>\n",
       "      <th>1</th>\n",
       "      <td>0</td>\n",
       "      <td>0</td>\n",
       "      <td>0</td>\n",
       "      <td>0</td>\n",
       "      <td>0</td>\n",
       "      <td>...</td>\n",
       "      <td>0</td>\n",
       "      <td>0</td>\n",
       "      <td>0</td>\n",
       "      <td>0</td>\n",
       "      <td>0</td>\n",
       "    </tr>\n",
       "    <tr>\n",
       "      <th>2</th>\n",
       "      <td>0</td>\n",
       "      <td>0</td>\n",
       "      <td>0</td>\n",
       "      <td>0</td>\n",
       "      <td>0</td>\n",
       "      <td>...</td>\n",
       "      <td>0</td>\n",
       "      <td>0</td>\n",
       "      <td>0</td>\n",
       "      <td>0</td>\n",
       "      <td>0</td>\n",
       "    </tr>\n",
       "    <tr>\n",
       "      <th>3</th>\n",
       "      <td>0</td>\n",
       "      <td>0</td>\n",
       "      <td>0</td>\n",
       "      <td>0</td>\n",
       "      <td>0</td>\n",
       "      <td>...</td>\n",
       "      <td>0</td>\n",
       "      <td>0</td>\n",
       "      <td>0</td>\n",
       "      <td>0</td>\n",
       "      <td>0</td>\n",
       "    </tr>\n",
       "  </tbody>\n",
       "</table>\n",
       "<p>4 rows × 17726 columns</p>\n",
       "</div>"
      ],
      "text/plain": [
       "    louise  k   dan   bob  candace   ...      password  courtesy  \\\n",
       "0        0  0     0     0        0   ...             0         0   \n",
       "1        0  0     0     0        0   ...             0         0   \n",
       "2        0  0     0     0        0   ...             0         0   \n",
       "3        0  0     0     0        0   ...             0         0   \n",
       "\n",
       "    www tradersnewsenergy com      bobette  \\\n",
       "0                                        0   \n",
       "1                                        0   \n",
       "2                                        0   \n",
       "3                                        0   \n",
       "\n",
       "    bobette riner ipgdirect com  sent   daniels  \n",
       "0                                    0        0  \n",
       "1                                    0        0  \n",
       "2                                    0        0  \n",
       "3                                    0        0  \n",
       "\n",
       "[4 rows x 17726 columns]"
      ]
     },
     "metadata": {},
     "output_type": "display_data"
    },
    {
     "name": "stdout",
     "output_type": "stream",
     "text": [
      "None\n",
      "A peek into some of the columns in the features dataframe\n"
     ]
    }
   ],
   "source": [
    "print(display(features_bag.ix[:3, 1000:]))\n",
    "print(\"A peek into some of the columns in the features dataframe\")"
   ]
  },
  {
   "cell_type": "markdown",
   "metadata": {
    "collapsed": true
   },
   "source": [
    "###  Partition the data\n",
    "\n",
    "The **`feature`** dataframe will be used to train a series of models to see how well we can classify each e-mail into folders.  The target variables/labels will be the values found in the \"folder\" column of the `emails` dataframe.  \n",
    "\n",
    "When creating training and testing data, we cannot randomly shuffle the data due to the interconnected nature of e-mails.  [Conversation threading](https://en.wikipedia.org/wiki/Conversation_threading) is a perfect example of this interconnectedness.  Randomly shuffling the data would add bias to our predictions, since it is essentially equivalent to looking ahead into the future to learn about the past. \n",
    "\n",
    "To work around this, we will split the data into training and testing sets in chronological order, always training on data that took place before the testing data.  The initial training set size, *N* will be set to *100*.  Test sets will be set to *20%* the size of the training set.  After each pass through the data, the size of *N* increases by *1* until *(K-1)N* splits have been made, where *K* is the number of splits.  "
   ]
  },
  {
   "cell_type": "code",
   "execution_count": 738,
   "metadata": {
    "collapsed": false
   },
   "outputs": [],
   "source": [
    "def get_folds(X, N):\n",
    "    fold = {}\n",
    "    K = 0\n",
    "    train_size = 0\n",
    "    test_size = 0\n",
    "    total = 0\n",
    "    while total < len(X):\n",
    "        old_total = total\n",
    "        train_size = N\n",
    "        test_size = N * 0.2\n",
    "        total = train_size + test_size\n",
    "        \n",
    "        if total > len (X):\n",
    "            diff = len(X) - old_total\n",
    "            train_size = diff * 0.8\n",
    "            test_size = diff * 0.2\n",
    "            fold[K] = (train_size, test_size)\n",
    "            return fold\n",
    "        fold[K] = (train_size, test_size)\n",
    "        K += 1\n",
    "        N *= 2\n",
    "    return fold   \n",
    "\n",
    "k_folds = get_folds(X = features, N = 100)"
   ]
  },
  {
   "cell_type": "markdown",
   "metadata": {},
   "source": [
    "The `get_folds()` function returns a dictionary containing the train and test sizes to be used for each fold.  Each key is represents a fold with a tuple as its value, where the first element in the tuple refers to the training set size and the second element is the test size.  For example, on the first pass over the data, the training data will be split to get the first 100 samples and the test set will be split to get the first 20 samples.  Notice that the last fold will split on the remaining training and test data."
   ]
  },
  {
   "cell_type": "markdown",
   "metadata": {},
   "source": [
    "## Multiclass Classification\n",
    "\n",
    "In Multiclass classification problems, there exists more than 2 categories or multiple folders.  Let's focus on just one Enron employee for our classification problem."
   ]
  },
  {
   "cell_type": "code",
   "execution_count": 868,
   "metadata": {
    "collapsed": false
   },
   "outputs": [
    {
     "name": "stdout",
     "output_type": "stream",
     "text": [
      "('Some unique folders:', \"['miso' 'pep' 'personel/vac' 'vermont yankee nuke' 'expense acct.' 'ccv'\\n 'home buy' 'imagesmoviessound' 'internet']\")\n",
      "There are 23 unique folders belonging to Baughman.  This means we have to train 23 binary classification models\n"
     ]
    }
   ],
   "source": [
    "employee = emails[emails[\"employee\"] == \"baughman-d\"][\"Folder\"]\n",
    "folder_num = len(employee.unique())\n",
    "unique_folders = employee.unique()\n",
    "print(\"Some unique folders:\", str(employee.iloc[200:300].unique()))\n",
    "print(\"There are {} unique folders belonging to {}.  This means we have to train {} binary classification models\").format(folder_num, \"Baughman\", folder_num)"
   ]
  },
  {
   "cell_type": "markdown",
   "metadata": {},
   "source": [
    "#### Example\n",
    "Using a one-vs-all approach, we need to train models where:\n",
    "    * All the e-mails belonging in cinergy index are positive(1) and all e-mails belonging to other folders are negative(0)\n",
    "    * All the e-mails belonging in fundamentals are positive(1) and all e-mails belonging to other folders are negative(0)\n",
    "    * All the e-mails belonging in miso are positive(1) and all e-mails belonging to other folders are negative(0)"
   ]
  },
  {
   "cell_type": "code",
   "execution_count": 842,
   "metadata": {
    "collapsed": true
   },
   "outputs": [],
   "source": [
    "\n",
    "    "
   ]
  }
 ],
 "metadata": {
  "kernelspec": {
   "display_name": "Python 2",
   "language": "python",
   "name": "python2"
  },
  "language_info": {
   "codemirror_mode": {
    "name": "ipython",
    "version": 2
   },
   "file_extension": ".py",
   "mimetype": "text/x-python",
   "name": "python",
   "nbconvert_exporter": "python",
   "pygments_lexer": "ipython2",
   "version": "2.7.12"
  }
 },
 "nbformat": 4,
 "nbformat_minor": 0
}
