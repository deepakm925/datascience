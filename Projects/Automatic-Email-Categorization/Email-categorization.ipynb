{
 "cells": [
  {
   "cell_type": "markdown",
   "metadata": {},
   "source": [
    "# Automatic E-mail Categorization"
   ]
  },
  {
   "cell_type": "markdown",
   "metadata": {},
   "source": [
    "This project attempts to accurately classify e-mails into folders based on e-mail content. This is a Natural Language Processing challenge that uses a Bag-of-words model to convert text documents into numerical feature vectors. Two standard classifiers were trained and tested on the email foldering task. \n",
    "\n",
    "Undoubtedly, categorizing e-mails based on the content can pose so many challenges.  In reality, there is a constant stream of new information being passed through e-mails each day and much of what we learn from previous e-mails may not be able to tell us much about future e-mails.  E-mail threads will branch off onto new topics, and each user organizes their e-mails in different ways.  As a result, the user ididiosyncrasies will affect the performance of any standard classifiers.\n",
    "\n",
    "I found this to be an interesting angle to tackle the Enron Corpus, the largest public domain database in the world containing real-world email messages.  The version used contains over 500,000 emails from about 150 users, mostly senior management at Enron. You can visit [here](https://en.wikipedia.org/wiki/Enron_scandal) to learn more about the Enron scandal.  You can get a copy of the dataset [here](https://www.cs.cmu.edu/~./enron/).  \n",
    "\n",
    "Benchmark results and for this project can be found [here](http://scholarworks.umass.edu/cgi/viewcontent.cgi?article=1217&context=cs_faculty_pubs).  Bekkerman et al. (Ron Bekkerman, Andrew McCallum and Gary Huang). *Automatic Categorization of Email into Folders: Benchmark Experiments on Enron and SRI Corpora*"
   ]
  },
  {
   "cell_type": "markdown",
   "metadata": {},
   "source": [
    "##  Exploring the Enron Emails Dataset"
   ]
  },
  {
   "cell_type": "code",
   "execution_count": 296,
   "metadata": {
    "collapsed": false
   },
   "outputs": [
    {
     "name": "stdout",
     "output_type": "stream",
     "text": [
      "Successfully loaded 517401 rows and 2 columns!\n",
      "Index([u'file', u'message'], dtype='object')\n"
     ]
    },
    {
     "data": {
      "text/html": [
       "<div>\n",
       "<table border=\"1\" class=\"dataframe\">\n",
       "  <thead>\n",
       "    <tr style=\"text-align: right;\">\n",
       "      <th></th>\n",
       "      <th>file</th>\n",
       "      <th>message</th>\n",
       "    </tr>\n",
       "  </thead>\n",
       "  <tbody>\n",
       "    <tr>\n",
       "      <th>0</th>\n",
       "      <td>allen-p/_sent_mail/1.</td>\n",
       "      <td>Message-ID: &lt;18782981.1075855378110.JavaMail.evans@thyme&gt;\\nDate: Mon, 14 May 2001 16:39:00 -0700...</td>\n",
       "    </tr>\n",
       "    <tr>\n",
       "      <th>1</th>\n",
       "      <td>allen-p/_sent_mail/10.</td>\n",
       "      <td>Message-ID: &lt;15464986.1075855378456.JavaMail.evans@thyme&gt;\\nDate: Fri, 4 May 2001 13:51:00 -0700 ...</td>\n",
       "    </tr>\n",
       "    <tr>\n",
       "      <th>2</th>\n",
       "      <td>allen-p/_sent_mail/100.</td>\n",
       "      <td>Message-ID: &lt;24216240.1075855687451.JavaMail.evans@thyme&gt;\\nDate: Wed, 18 Oct 2000 03:00:00 -0700...</td>\n",
       "    </tr>\n",
       "    <tr>\n",
       "      <th>3</th>\n",
       "      <td>allen-p/_sent_mail/1000.</td>\n",
       "      <td>Message-ID: &lt;13505866.1075863688222.JavaMail.evans@thyme&gt;\\nDate: Mon, 23 Oct 2000 06:13:00 -0700...</td>\n",
       "    </tr>\n",
       "    <tr>\n",
       "      <th>4</th>\n",
       "      <td>allen-p/_sent_mail/1001.</td>\n",
       "      <td>Message-ID: &lt;30922949.1075863688243.JavaMail.evans@thyme&gt;\\nDate: Thu, 31 Aug 2000 05:07:00 -0700...</td>\n",
       "    </tr>\n",
       "  </tbody>\n",
       "</table>\n",
       "</div>"
      ],
      "text/plain": [
       "                       file  \\\n",
       "0     allen-p/_sent_mail/1.   \n",
       "1    allen-p/_sent_mail/10.   \n",
       "2   allen-p/_sent_mail/100.   \n",
       "3  allen-p/_sent_mail/1000.   \n",
       "4  allen-p/_sent_mail/1001.   \n",
       "\n",
       "                                                                                               message  \n",
       "0  Message-ID: <18782981.1075855378110.JavaMail.evans@thyme>\\nDate: Mon, 14 May 2001 16:39:00 -0700...  \n",
       "1  Message-ID: <15464986.1075855378456.JavaMail.evans@thyme>\\nDate: Fri, 4 May 2001 13:51:00 -0700 ...  \n",
       "2  Message-ID: <24216240.1075855687451.JavaMail.evans@thyme>\\nDate: Wed, 18 Oct 2000 03:00:00 -0700...  \n",
       "3  Message-ID: <13505866.1075863688222.JavaMail.evans@thyme>\\nDate: Mon, 23 Oct 2000 06:13:00 -0700...  \n",
       "4  Message-ID: <30922949.1075863688243.JavaMail.evans@thyme>\\nDate: Thu, 31 Aug 2000 05:07:00 -0700...  "
      ]
     },
     "metadata": {},
     "output_type": "display_data"
    },
    {
     "name": "stdout",
     "output_type": "stream",
     "text": [
      "None\n"
     ]
    }
   ],
   "source": [
    "import pandas as pd\n",
    "pd.set_option(\"display.max_rows\", 999)\n",
    "pd.set_option('max_colwidth',100)\n",
    "import numpy as np\n",
    "from IPython.display import display\n",
    "\n",
    "filepath = \"data/emails.csv\"\n",
    "# Read the data into a pandas dataframe called emails\n",
    "emails = pd.read_csv(filepath)\n",
    "#emails =  emails.iloc[:100000]\n",
    "print(\"Successfully loaded {} rows and {} columns!\".format(emails.shape[0], emails.shape[1]))\n",
    "# Print column names\n",
    "print(emails.columns)\n",
    "# Store column headers \n",
    "headers = [header for header in emails.columns]\n",
    "# Print the first 5 rows of the dataset\n",
    "print(display(emails.head()))"
   ]
  },
  {
   "cell_type": "markdown",
   "metadata": {},
   "source": [
    "Numpy and pandas were imported, then the csv file containing the e-mails was read into a dataframe called **`emails`**.  The reading may take a while due to the size of the file.  Next, the shape of the dataset, column names and a sample of five rows within the dataset were printed.  There are 517,401 rows and 2 columns.  \n",
    "\n",
    "**`file`** - contains the original directory and filename of each email. The root level of this path is the employee (surname first followed by first name initial) to whom the emails belong. \n",
    "\n",
    "**`message`** - contains the email text"
   ]
  },
  {
   "cell_type": "markdown",
   "metadata": {},
   "source": [
    "### A sample e-mail\n",
    "\n",
    "Here is a sample of the standard e-mail found in the data.  It contains a list of headers and a message body.  Note that there is a header label called \"Mime-Version\", which signifies that the e-mails in this dataset are MIME formatted.  MIME stands for Multipurpose Internet Mail Extensions and virtually all human-written email is transmitted in MIME format.  Python has a built in [MIME handling package](https://docs.python.org/2/library/email.html) and this is what will be used to dissect the data needed out of each e-mail."
   ]
  },
  {
   "cell_type": "code",
   "execution_count": 204,
   "metadata": {
    "collapsed": false,
    "scrolled": true
   },
   "outputs": [
    {
     "name": "stdout",
     "output_type": "stream",
     "text": [
      "Message-ID: <18782981.1075855378110.JavaMail.evans@thyme>\n",
      "Date: Mon, 14 May 2001 16:39:00 -0700 (PDT)\n",
      "From: phillip.allen@enron.com\n",
      "To: tim.belden@enron.com\n",
      "Subject: \n",
      "Mime-Version: 1.0\n",
      "Content-Type: text/plain; charset=us-ascii\n",
      "Content-Transfer-Encoding: 7bit\n",
      "X-From: Phillip K Allen\n",
      "X-To: Tim Belden <Tim Belden/Enron@EnronXGate>\n",
      "X-cc: \n",
      "X-bcc: \n",
      "X-Folder: \\Phillip_Allen_Jan2002_1\\Allen, Phillip K.\\'Sent Mail\n",
      "X-Origin: Allen-P\n",
      "X-FileName: pallen (Non-Privileged).pst\n",
      "\n",
      "Here is our forecast\n",
      "\n",
      " \n"
     ]
    }
   ],
   "source": [
    "print(emails.loc[0][\"message\"])"
   ]
  },
  {
   "cell_type": "markdown",
   "metadata": {},
   "source": [
    "### Features and Label\n",
    "\n",
    "From each e-mail, we can extract headers such as `To`, `Subject`, `From` and the message body to use as features.  The `X-Folder` header will be our label.  It  contains the path to each folder. \n",
    "\n",
    "Essentially, we are taking several features of the e-mail to classify the folder in which the e-mail was stored.  Note though that all of the headers are in strings and we will need to be able to process these headers for the computer to interpret them.  The [Bag-of-words](https://en.wikipedia.org/wiki/Bag-of-words_model) model will be used to take text documents, such as our features and output a numerical representation as a feature vector.  \n",
    "\n",
    "The label, `X-folder` contains several folders and subfolders.  To better visualize all the end nodes of these folders, it would make sense to extract them from the entire filepath and append it to our existing `emails` dataframe.  "
   ]
  },
  {
   "cell_type": "markdown",
   "metadata": {},
   "source": [
    "### Extract headers"
   ]
  },
  {
   "cell_type": "code",
   "execution_count": 297,
   "metadata": {
    "collapsed": false
   },
   "outputs": [
    {
     "name": "stdout",
     "output_type": "stream",
     "text": [
      "Successfully retrieved header information!\n"
     ]
    }
   ],
   "source": [
    "import email\n",
    "\n",
    "def insert_value(dictionary, key, value):\n",
    "    if key in dictionary:\n",
    "        values = dictionary.get(key)\n",
    "        values.append(value)\n",
    "        dictionary[key] = values\n",
    "    else:\n",
    "        dictionary[key] = [value]\n",
    "    return dictionary\n",
    "\n",
    "def get_headers(df, header_names):\n",
    "    headers = {}\n",
    "    messages = df[\"message\"]\n",
    "    for message in messages:\n",
    "        e = email.message_from_string(message)\n",
    "        for item in header_names:\n",
    "            header = e.get(item)\n",
    "            insert_value(dictionary = headers, key = item, value = header) \n",
    "    print(\"Successfully retrieved header information!\")\n",
    "    return headers\n",
    "header_names = [\"Date\", \"Subject\", \"X-Folder\", \"X-From\", \"X-To\"]    \n",
    "headers = get_headers(emails, header_names)"
   ]
  },
  {
   "cell_type": "markdown",
   "metadata": {},
   "source": [
    "###  Extract Message Body"
   ]
  },
  {
   "cell_type": "markdown",
   "metadata": {},
   "source": [
    "Here we extract the message body using and add it as a new column called **`Message_Body`** to **`emails`**"
   ]
  },
  {
   "cell_type": "code",
   "execution_count": 298,
   "metadata": {
    "collapsed": false
   },
   "outputs": [
    {
     "name": "stdout",
     "output_type": "stream",
     "text": [
      "Successfully retrieved message body of e-mails!\n"
     ]
    }
   ],
   "source": [
    "def get_messages(df):\n",
    "    messages = []\n",
    "    for item in df[\"message\"]:\n",
    "        # Return a message object structure from a string\n",
    "        e = email.message_from_string(item)    \n",
    "        # get message body  \n",
    "        message_body = e.get_payload()\n",
    "        # lower case messages\n",
    "        message_body = message_body.lower()\n",
    "        messages.append(message_body)\n",
    "    print(\"Successfully retrieved message body of e-mails!\")\n",
    "    return messages\n",
    "msg_body = get_messages(emails)\n",
    "# add new column with message body content\n",
    "emails[\"Message-Body\"] = msg_body"
   ]
  },
  {
   "cell_type": "markdown",
   "metadata": {},
   "source": [
    "### Get Employee names"
   ]
  },
  {
   "cell_type": "markdown",
   "metadata": {},
   "source": [
    "A sample of unique values from the `X-From` column shows that there are some e-mails sent from non-employees, such as, bloomberg.com, earnings.com, nytimes.com.  These are sites to other companies, so I am not sure how to interpret this.  What I can infer is that it would be suitable to use the employee names found in the `file` column of the `emails` dataframe.  It contains unique employee names.  It is a part of a string with other info so we will just have to extract the names and append it to `emails`.  We will use the employee names to filter the data for records per employee."
   ]
  },
  {
   "cell_type": "code",
   "execution_count": 299,
   "metadata": {
    "collapsed": false
   },
   "outputs": [
    {
     "name": "stdout",
     "output_type": "stream",
     "text": [
      "27980\n",
      "['Phillip K Allen' 'Ina Rangel'\n",
      " 'Multex Investor <1.11913372.-2@multexinvestornetwork.com>'\n",
      " '\"Bloomberg.com\" <messenger@ecm.bloomberg.com>'\n",
      " '\"Arthur O\\'Donnell\" <aod@newsdata.com>' 'critical.notice@Enron.com'\n",
      " 'market-reply@LISTSERV.DOWJONES.COM' 'Rebecca W Cantrell'\n",
      " '\"Earnings.com\" <webmaster@earnings.com>' 'Paul Kaufman'\n",
      " '\"Y-Life to Go\" <yild@zdemail.zdlists.com>'\n",
      " 'bounce-news-932653@lists.autoweb.com' 'Public Relations'\n",
      " 'Stephanie Miller' 'Tracy L Arthur' 'Sarah Novosel' 'bobregon@bga.com'\n",
      " 'subscriptions@intelligencepress.com' 'Tim Heizenrader'\n",
      " 'rob_tom@freenet.carleton.ca (Robert W. Tom)' 'CALXA@aol.com'\n",
      " 'Energy Insight Editor <EI_editor@FTENERGY.COM>' 'billc@greenbuilder.com'\n",
      " 'Frank Hayden' '\"Matt\" <matt@fastpacket.net>'\n",
      " 'The HCFR <jfreeman@ssm.net>' 'owner-strawbale@crest.org' 'Kim Ward'\n",
      " 'GrenSheltr@aol.com' 'Yahoo! Delivers <yahoo-delivers@yahoo-inc.com>'\n",
      " '\"Performance Evaluation Process (PEP)\" <perfmgmt@enron.com>'\n",
      " '\"NYTimes.com\" <announce@inbox.nytimes.com>'\n",
      " '\"Jeff Smith\" <jsmith@austintx.com>' 'Alyse Herasimchuk' 'Lisa Jacobson'\n",
      " 'Christi L Nicolay' 'Richard Shapiro' '\"Greg Thorse\" <gthorse@keyad.com>'\n",
      " 'Tiffany Miller' 'Philip Polsky' 'Mark Whitt']\n"
     ]
    }
   ],
   "source": [
    "x_from = pd.DataFrame(headers[\"X-From\"], columns = [\"X-From\"])\n",
    "print len(x_from[\"X-From\"].unique())\n",
    "print(x_from.iloc[:1000][\"X-From\"].unique())\n",
    "if \"X-From\" not in emails.columns:\n",
    "    emails = pd.concat([emails, x_from], axis = 1, join = 'inner')"
   ]
  },
  {
   "cell_type": "code",
   "execution_count": 300,
   "metadata": {
    "collapsed": false
   },
   "outputs": [
    {
     "name": "stdout",
     "output_type": "stream",
     "text": [
      "Successfully added new column!\n"
     ]
    }
   ],
   "source": [
    "def add_name(df, column, labels):\n",
    "    new_data = {}\n",
    "    for item in df[column]: \n",
    "        # Split string into tokens\n",
    "        tokens = item.split('/')\n",
    "            # Get employee name (eg.\"allen-p\")\n",
    "        for i in range(0, len(labels)):\n",
    "            value = tokens[i]\n",
    "            key = labels[i]\n",
    "            new_data = insert_value(new_data, key, value)\n",
    "            # Get folder (eg.\"_sent_mail\")         \n",
    "    for key, value in new_data.items():\n",
    "        df[key] = pd.Series(value)\n",
    "    print(\"Successfully added new column!\")\n",
    "    return df\n",
    "emails = add_name(df = emails, column = \"file\", labels = [\"employee\"])"
   ]
  },
  {
   "cell_type": "markdown",
   "metadata": {},
   "source": [
    "### A quick look at the folders"
   ]
  },
  {
   "cell_type": "markdown",
   "metadata": {},
   "source": [
    "Here we print a sample of randomly selected folders from a newly created `folders` dataframe.  Take a look at the end node, or the last folder in each row and you will notice that there are more than two folder options in use.  The Enron employees stored their e-mails across several folders and as such, this looks like a [**multiclass classification**](https://en.wikipedia.org/wiki/Multiclass_classification) problem.  For this project, the one-versus-all method will be used to tackle this problem.  In a one-versus-all method, we are essentially doing a binary classification for n number of classes.  Therefore n number of models will be trained for each class based on the number of folders used by each employee. "
   ]
  },
  {
   "cell_type": "code",
   "execution_count": 301,
   "metadata": {
    "collapsed": false
   },
   "outputs": [],
   "source": [
    "folders = pd.DataFrame(headers[\"X-Folder\"], columns = [\"Folder\"])\n",
    "# Concatenate folders to emails dataframe\n",
    "emails = pd.concat([emails, folders], axis = 1, join = 'inner')"
   ]
  },
  {
   "cell_type": "code",
   "execution_count": 302,
   "metadata": {
    "collapsed": false
   },
   "outputs": [
    {
     "name": "stdout",
     "output_type": "stream",
     "text": [
      "410694             \\Susan_Scott_Dec2000_June2001_2\\Notes Folders\\Sent\n",
      "511447                 \\ExMerge - Williams III, Bill\\Schedule Crawler\n",
      "188354                     \\TJONES (Non-Privileged)\\Jones, Tana\\Inbox\n",
      "40468             \\Larry_Campbell_Dec2000\\Notes Folders\\All documents\n",
      "401748      \\DSCHOOL (Non-Privileged)\\Schoolcraft, Darrell\\Sent Items\n",
      "373451       \\Robin_Rodrique_Jun2001\\Notes Folders\\Discussion threads\n",
      "405753    \\Susan_Scott_Dec2000_June2001_1\\Notes Folders\\All documents\n",
      "Name: Folder, dtype: object\n"
     ]
    }
   ],
   "source": [
    "print(emails[\"Folder\"].sample(7))"
   ]
  },
  {
   "cell_type": "code",
   "execution_count": 303,
   "metadata": {
    "collapsed": false
   },
   "outputs": [
    {
     "name": "stdout",
     "output_type": "stream",
     "text": [
      "Here is the emails dataframe after appending all the relevant headers\n"
     ]
    },
    {
     "data": {
      "text/html": [
       "<div>\n",
       "<table border=\"1\" class=\"dataframe\">\n",
       "  <thead>\n",
       "    <tr style=\"text-align: right;\">\n",
       "      <th></th>\n",
       "      <th>file</th>\n",
       "      <th>message</th>\n",
       "      <th>Message-Body</th>\n",
       "      <th>X-From</th>\n",
       "      <th>employee</th>\n",
       "      <th>Folder</th>\n",
       "      <th>Date</th>\n",
       "      <th>Subject</th>\n",
       "      <th>X-To</th>\n",
       "    </tr>\n",
       "  </thead>\n",
       "  <tbody>\n",
       "    <tr>\n",
       "      <th>0</th>\n",
       "      <td>allen-p/_sent_mail/1.</td>\n",
       "      <td>Message-ID: &lt;18782981.1075855378110.JavaMail.evans@thyme&gt;\\nDate: Mon, 14 May 2001 16:39:00 -0700...</td>\n",
       "      <td>here is our forecast\\n\\n</td>\n",
       "      <td>Phillip K Allen</td>\n",
       "      <td>allen-p</td>\n",
       "      <td>\\Phillip_Allen_Jan2002_1\\Allen, Phillip K.\\'Sent Mail</td>\n",
       "      <td>Mon, 14 May 2001 16:39:00 -0700 (PDT)</td>\n",
       "      <td></td>\n",
       "      <td>Tim Belden &lt;Tim Belden/Enron@EnronXGate&gt;</td>\n",
       "    </tr>\n",
       "  </tbody>\n",
       "</table>\n",
       "</div>"
      ],
      "text/plain": [
       "                    file  \\\n",
       "0  allen-p/_sent_mail/1.   \n",
       "\n",
       "                                                                                               message  \\\n",
       "0  Message-ID: <18782981.1075855378110.JavaMail.evans@thyme>\\nDate: Mon, 14 May 2001 16:39:00 -0700...   \n",
       "\n",
       "                Message-Body           X-From employee  \\\n",
       "0  here is our forecast\\n\\n   Phillip K Allen  allen-p   \n",
       "\n",
       "                                                  Folder  \\\n",
       "0  \\Phillip_Allen_Jan2002_1\\Allen, Phillip K.\\'Sent Mail   \n",
       "\n",
       "                                    Date Subject  \\\n",
       "0  Mon, 14 May 2001 16:39:00 -0700 (PDT)           \n",
       "\n",
       "                                       X-To  \n",
       "0  Tim Belden <Tim Belden/Enron@EnronXGate>  "
      ]
     },
     "metadata": {},
     "output_type": "display_data"
    },
    {
     "name": "stdout",
     "output_type": "stream",
     "text": [
      "None\n"
     ]
    }
   ],
   "source": [
    "def add_other_headers(df, header_list):\n",
    "    for label in header_list:\n",
    "        df_new = pd.DataFrame(headers[label], columns = [label])\n",
    "        if label not in df.columns:\n",
    "            df = pd.concat([df, df_new], axis = 1)\n",
    "    return df\n",
    "remaining_headers = [\"Date\", \"Subject\", \"X-To\", \"X-From\"]\n",
    "emails = add_other_headers(df = emails, header_list = remaining_headers)\n",
    "print(\"Here is the emails dataframe after appending all the relevant headers\")\n",
    "print(display(emails.iloc[:1]))"
   ]
  },
  {
   "cell_type": "markdown",
   "metadata": {},
   "source": [
    "### Data Cleaning"
   ]
  },
  {
   "cell_type": "markdown",
   "metadata": {},
   "source": [
    "Here are the list of things that needs to be performed on the data:\n",
    "\n",
    "* Convert `date` column to datetime\n",
    "* Remove non-topical folders\n",
    "* Remove folders containing too few e-mails (less than 2)\n",
    "* Select employees with over 1000 e-mails \n",
    "* Drop rows with missing values\n",
    "* Encode class labels\n",
    "* **Bag-of-words** model\n",
    "    * Tokenization\n",
    "    * Remove unwanted characters from the `message`, `Subject`, `X-To` and `X-From` columns\n",
    "    * Assemble matrices\n",
    "    * Count tokens\n",
    "    * Remove stop-words"
   ]
  },
  {
   "cell_type": "code",
   "execution_count": 304,
   "metadata": {
    "collapsed": false
   },
   "outputs": [
    {
     "name": "stdout",
     "output_type": "stream",
     "text": [
      "0   2001-05-14 23:39:00\n",
      "Name: Date, dtype: datetime64[ns]\n"
     ]
    }
   ],
   "source": [
    "# Convert date column to datetime \n",
    "emails[\"Date\"] = pd.to_datetime(emails[\"Date\"])\n",
    "print(emails.iloc[:1][\"Date\"])"
   ]
  },
  {
   "cell_type": "markdown",
   "metadata": {},
   "source": [
    "### Preprocess Folders\n",
    "\n",
    "The `X-Folder` column contains several folders and subfolders that we do not need.  These include none-topical folders, which refer to folders that hold e-mails regardless of content (inbox, sent, trash, drafts are just a few).  These will be removed because it is pretty hard to accurately train a classifier using them. Below, you will find a list of all the end node folders and the number of e-mails stored in each.  Notice that a large portion of e-mails are stored in the automatically created folders of an e-mail application, such as:\n",
    "* all_documents\n",
    "* discussion_threads\n",
    "* sent\n",
    "* deleted_items\n",
    "* inbox\n",
    "* sent_items\n",
    "* notes_inbox\n",
    "* _sent_mail\n",
    "* calendar  "
   ]
  },
  {
   "cell_type": "code",
   "execution_count": 305,
   "metadata": {
    "collapsed": false
   },
   "outputs": [
    {
     "name": "stdout",
     "output_type": "stream",
     "text": [
      "Folder cleaned!\n"
     ]
    }
   ],
   "source": [
    "def preprocess_folder(data):\n",
    "    folders = []\n",
    "    for item in data:\n",
    "        if item is None or item is '':\n",
    "            folders.append(np.nan)\n",
    "        else:\n",
    "            item = item.split(\"\\\\\")[-1]\n",
    "            item = item.lower()\n",
    "            folders.append(item)\n",
    "    print(\"Folder cleaned!\")\n",
    "    return folders      \n",
    "emails[\"Folder\"] = preprocess_folder(emails[\"Folder\"])   "
   ]
  },
  {
   "cell_type": "code",
   "execution_count": 306,
   "metadata": {
    "collapsed": false
   },
   "outputs": [
    {
     "name": "stdout",
     "output_type": "stream",
     "text": [
      "all documents         128103\n",
      "discussion threads     58609\n",
      "sent                   58168\n",
      "deleted items          50986\n",
      "inbox                  41507\n",
      "sent items             37920\n",
      "notes inbox            36665\n",
      "'sent mail             30237\n",
      "untitled                8957\n",
      "personal                2642\n",
      "attachments             2026\n",
      "meetings                1872\n",
      "calendar                1732\n",
      "schedule crawler        1398\n",
      "logistics               1192\n",
      "Name: Folder, dtype: int64\n"
     ]
    }
   ],
   "source": [
    "# Folder count\n",
    "print(emails[\"Folder\"].value_counts())[:15]"
   ]
  },
  {
   "cell_type": "markdown",
   "metadata": {},
   "source": [
    "### Remove Non-topical Folders"
   ]
  },
  {
   "cell_type": "code",
   "execution_count": 307,
   "metadata": {
    "collapsed": false
   },
   "outputs": [
    {
     "name": "stdout",
     "output_type": "stream",
     "text": [
      "personal               2642\n",
      "attachments            2026\n",
      "meetings               1872\n",
      "schedule crawler       1398\n",
      "logistics              1192\n",
      "tw-commercial group    1159\n",
      "california             1052\n",
      "bill williams iii      1022\n",
      "deal discrepancies      897\n",
      "management              802\n",
      "esvl                    715\n",
      "e-mail bin              614\n",
      "tufco                   609\n",
      "resumes                 609\n",
      "ces                     576\n",
      "Name: Folder, dtype: int64\n"
     ]
    }
   ],
   "source": [
    "# Folders we can filter out\n",
    "unwanted_folders = [\"all documents\", \"deleted items\", \"discussion threads\", \"sent\", \"deleted Items\", \"inbox\",\n",
    "                   \"sent items\", \"'sent mail\", \"untitled\", \"notes inbox\", \"junk file\", \"calendar\"]\n",
    "\n",
    "# A new dataframe without non-topical folders\n",
    "emails = emails.loc[~emails['Folder'].isin(unwanted_folders)]\n",
    "print(emails[\"Folder\"].value_counts())[:15]"
   ]
  },
  {
   "cell_type": "markdown",
   "metadata": {
    "collapsed": false
   },
   "source": [
    "### Visualize folders by size"
   ]
  },
  {
   "cell_type": "code",
   "execution_count": 329,
   "metadata": {
    "collapsed": false
   },
   "outputs": [
    {
     "data": {
      "image/png": "[encoded data removed]",
      "text/plain": [
       "<matplotlib.figure.Figure at 0x2289ef7d0>"
      ]
     },
     "metadata": {},
     "output_type": "display_data"
    }
   ],
   "source": [
    "import seaborn as sns\n",
    "import matplotlib.pyplot as plt\n",
    "%matplotlib inline\n",
    "\n",
    "# dataframe containing counts of every word in the emails dataframe\n",
    "email_count = emails[\"Folder\"].value_counts()\n",
    "indices = email_count.index\n",
    "count = pd.DataFrame(email_count, columns = [\"Folder\"])\n",
    "count[\"Folder Names\"] = indices\n",
    "#print count.head()\n",
    "\n",
    "def barplot(df, X, Y, figsize, color, orient, ylabel, xlabel, font_scale, rotation):\n",
    "    f, ax = plt.subplots(figsize=figsize)\n",
    "    sns.set_color_codes(\"muted\")\n",
    "    sns.barplot(x = X, y = Y, data = df, color = color, orient = orient)\n",
    "    ax.set(ylabel = ylabel, xlabel = xlabel)\n",
    "    sns.set(font_scale = font_scale)\n",
    "    plt.xticks(rotation = rotation) \n",
    "    sns.plt.show()\n",
    "    \n",
    "barplot(df = count[:20], X = \"Folder\", Y = \"Folder Names\", figsize = (10, 8), color = 'b', orient = 'h', ylabel = \"Folders\", xlabel = \"Count\", font_scale = 1.5, rotation = 90)"
   ]
  },
  {
   "cell_type": "markdown",
   "metadata": {},
   "source": [
    "**Figure 1**: Bar plot showing 20 folders that contain the most e-mails "
   ]
  },
  {
   "cell_type": "markdown",
   "metadata": {},
   "source": [
    "### Visualize e-mail count by employee"
   ]
  },
  {
   "cell_type": "code",
   "execution_count": 330,
   "metadata": {
    "collapsed": false
   },
   "outputs": [
    {
     "data": {
      "image/png": "[encoded data removed]",
      "text/plain": [
       "<matplotlib.figure.Figure at 0x11655c9d0>"
      ]
     },
     "metadata": {},
     "output_type": "display_data"
    }
   ],
   "source": [
    "mail_count = emails[\"employee\"].value_counts()\n",
    "indices = mail_count.index\n",
    "count = pd.DataFrame(mail_count)\n",
    "count.rename(columns = {\"employee\": \"Count\"}, inplace = True)\n",
    "count[\"Employees\"] = indices\n",
    "barplot(df = count[:30], X = \"Count\", Y = \"Employees\", figsize = (10, 8), color = 'b', orient = 'h', ylabel = \"Employees\", xlabel = \"Count\", font_scale = 1.5, rotation = 90)"
   ]
  },
  {
   "cell_type": "markdown",
   "metadata": {},
   "source": [
    "**Figure 2**: Bar graph showing 30 employees who had the highest number of sent e-mails\n",
    "\n",
    "In figure 2, we see that *kean-s, kaminski-v, kitchen-l, farmer-d, williams-w3* and *lokay-m* had over 2000 e-mails contained within topical folders.  There are a few employees, such as *taylor-m, beck-s, shapiro-r* and *symes-k* who had approximately 2000 e-mails.  The rest of employees had anywhere between 50 - 1800 emails (some not shown).  For this project, I'll use employees that had more than 1000 e-mails in topical folders.   "
   ]
  },
  {
   "cell_type": "markdown",
   "metadata": {},
   "source": [
    "### Extract e-mails for employees who had over 2000 e-mails"
   ]
  },
  {
   "cell_type": "code",
   "execution_count": 308,
   "metadata": {
    "collapsed": false,
    "scrolled": true
   },
   "outputs": [
    {
     "name": "stdout",
     "output_type": "stream",
     "text": [
      "kean-s         5550\n",
      "kaminski-v     4483\n",
      "kitchen-l      4034\n",
      "farmer-d       3786\n",
      "williams-w3    2775\n",
      "lokay-m        2554\n",
      "taylor-m       2477\n",
      "shapiro-r      2036\n",
      "beck-s         2013\n",
      "Name: employee, dtype: int64\n"
     ]
    }
   ],
   "source": [
    "email_count = dict(emails[\"employee\"].value_counts())\n",
    "reduced_emails = [key for key, val in email_count.items() if val >= 2000]\n",
    "emails = emails.loc[emails['employee'].isin(reduced_emails)]\n",
    "print(emails[\"employee\"].value_counts())"
   ]
  },
  {
   "cell_type": "markdown",
   "metadata": {},
   "source": [
    "### Missing Values\n",
    "\n",
    "We see that the **`X-From`**, **`Folder`**, and **`X-To`** columns contain missing values.  Given that the number of missing values is relatively small compared to the size of the entire dataset, we can go ahead and drop the rows containing these missing values"
   ]
  },
  {
   "cell_type": "code",
   "execution_count": 309,
   "metadata": {
    "collapsed": false
   },
   "outputs": [
    {
     "data": {
      "text/plain": [
       "file            0\n",
       "message         0\n",
       "Message-Body    0\n",
       "X-From          3\n",
       "employee        0\n",
       "Folder          3\n",
       "Date            0\n",
       "Subject         0\n",
       "X-To            3\n",
       "dtype: int64"
      ]
     },
     "execution_count": 309,
     "metadata": {},
     "output_type": "execute_result"
    }
   ],
   "source": [
    "emails.isnull().sum()"
   ]
  },
  {
   "cell_type": "code",
   "execution_count": 310,
   "metadata": {
    "collapsed": false
   },
   "outputs": [
    {
     "name": "stdout",
     "output_type": "stream",
     "text": [
      "Rows with missing values have been removed\n"
     ]
    },
    {
     "data": {
      "text/plain": [
       "file            0\n",
       "message         0\n",
       "Message-Body    0\n",
       "X-From          0\n",
       "employee        0\n",
       "Folder          0\n",
       "Date            0\n",
       "Subject         0\n",
       "X-To            0\n",
       "dtype: int64"
      ]
     },
     "execution_count": 310,
     "metadata": {},
     "output_type": "execute_result"
    }
   ],
   "source": [
    "emails.dropna(inplace = True)\n",
    "print(\"Rows with missing values have been removed\")\n",
    "emails.isnull().sum()"
   ]
  },
  {
   "cell_type": "markdown",
   "metadata": {
    "collapsed": true
   },
   "source": [
    "### Bag-of-words model\n",
    "\n",
    "For the computer to make inferences of the e-mails, it has to be able to interpret the text by making a numerical representation of it.  One way to do this is by using something called a [**Bag-of-words model**](https://en.wikipedia.org/wiki/Bag-of-words_model).  It will take the e-mails as a string and convert it into a numerical vector to show the frequency that each unique word appears over the entire dataset.  "
   ]
  },
  {
   "cell_type": "markdown",
   "metadata": {},
   "source": [
    "### Tokenization \n",
    "\n",
    "Given that we already cleaned the data, the next step involves tokenizing our features. Tokenization involves splitting each text document into a list of words."
   ]
  },
  {
   "cell_type": "code",
   "execution_count": 311,
   "metadata": {
    "collapsed": false
   },
   "outputs": [],
   "source": [
    "def tokenize(row):\n",
    "    if row is None or row is '':\n",
    "        tokens = \"\"\n",
    "    else:\n",
    "        tokens = row.split(\" \")\n",
    "    return tokens"
   ]
  },
  {
   "cell_type": "markdown",
   "metadata": {},
   "source": [
    "### Remove regular expressions\n",
    "\n",
    "After that, the regular expressions, which includes punctuation marks and nonword characters need to be removed.  I will use Python's regular expression ([regex](https://docs.python.org/2/library/re.html)) libary to remove these characters."
   ]
  },
  {
   "cell_type": "code",
   "execution_count": 312,
   "metadata": {
    "collapsed": false
   },
   "outputs": [],
   "source": [
    "import re\n",
    "\n",
    "def remove_reg_expressions(row):\n",
    "    tokens = []\n",
    "    try:\n",
    "        for token in row:\n",
    "            token = token.lower()\n",
    "            token = re.sub(r'[\\W\\d]', \" \", token)\n",
    "            tokens.append(token)\n",
    "    except:\n",
    "        token = \"\"\n",
    "        tokens.append(token)\n",
    "    return tokens"
   ]
  },
  {
   "cell_type": "markdown",
   "metadata": {},
   "source": [
    "### Stop-word removal\n",
    "\n",
    "Stop-words are also removed.  Stop-words are words that are very common in text but offer no useful information that can be used to classify the text.  Words such as *is*, *and*, *the*, *are* are examples of stop-words.  The [NLTK library](http://www.nltk.org) contains a list of 127 English stop-words and can be used to filter our tokenized strings."
   ]
  },
  {
   "cell_type": "code",
   "execution_count": 313,
   "metadata": {
    "collapsed": false
   },
   "outputs": [
    {
     "name": "stdout",
     "output_type": "stream",
     "text": [
      "[nltk_data] Downloading package stopwords to\n",
      "[nltk_data]     /Users/donaldfung/nltk_data...\n",
      "[nltk_data]   Package stopwords is already up-to-date!\n"
     ]
    }
   ],
   "source": [
    "import nltk\n",
    "\n",
    "nltk.download('stopwords')\n",
    "from nltk.corpus import stopwords\n",
    "stopwords = stopwords.words('english')    \n",
    "\n",
    "def stop_word_removal(row):\n",
    "    token = [token for token in row if token not in stopwords]\n",
    "    token = filter(None, token)\n",
    "    return token"
   ]
  },
  {
   "cell_type": "markdown",
   "metadata": {},
   "source": [
    "### Assemble matrices\n",
    "\n",
    "The **`assemble_bag()`** function will call the **`tokenize()`**, **`remove_reg_expressions()`**, **`stop_word_removal()`** functions to clean the data.  Then it assembles a new dataframe containing all the unique words found in the text documents.  It counts the word frequency and then returns the new dataframe.  "
   ]
  },
  {
   "cell_type": "code",
   "execution_count": 314,
   "metadata": {
    "collapsed": true
   },
   "outputs": [],
   "source": [
    "def assemble_bag(data):\n",
    "    data = data.apply(tokenize)\n",
    "    data = data.apply(stop_word_removal)\n",
    "    data = data.apply(remove_reg_expressions)\n",
    "    \n",
    "    unique_tokens = []\n",
    "    single_tokens = []\n",
    "\n",
    "    for item in data:\n",
    "        for token in item:\n",
    "            if token in single_tokens:\n",
    "                if token not in unique_tokens:\n",
    "                    unique_tokens.append(token)\n",
    "            else:\n",
    "                single_tokens.append(token)\n",
    "    \n",
    "    df = pd.DataFrame(0, index = np.arange(len(data)), columns = unique_tokens)\n",
    "    \n",
    "    for i, item in enumerate(data):\n",
    "        for token in item:\n",
    "            if token in unique_tokens:\n",
    "                df.iloc[i][token] += 1    \n",
    "    return df"
   ]
  },
  {
   "cell_type": "markdown",
   "metadata": {},
   "source": [
    "## Multiclass Classification using Logistic Regression\n",
    "\n",
    "Here we focus on just one Enron employee for our classification problem.  After seeing the steps involved in classifying one employee's e-mails, we can apply the same approach for a few other employees.  "
   ]
  },
  {
   "cell_type": "markdown",
   "metadata": {},
   "source": [
    "#### Choose an employee"
   ]
  },
  {
   "cell_type": "code",
   "execution_count": 145,
   "metadata": {
    "collapsed": false
   },
   "outputs": [],
   "source": [
    "employee = emails[emails[\"employee\"] == \"kaminski-v\"]"
   ]
  },
  {
   "cell_type": "markdown",
   "metadata": {},
   "source": [
    "### Remove folders\n",
    "\n",
    "We also remove folders that do not contain enough e-mails because such folders would not be significant for training our classifier.  Also, we can also infer that some folders with very little e-mails in them were created but unused."
   ]
  },
  {
   "cell_type": "code",
   "execution_count": 315,
   "metadata": {
    "collapsed": false
   },
   "outputs": [],
   "source": [
    "def remove_folders(emails, n):\n",
    "    # Returns the folders containing more than 'n' number of e-mails\n",
    "    email_count = dict(emails[\"Folder\"].value_counts())\n",
    "    small_folders = [key for key, val in email_count.items() if val <= n]\n",
    "    emails = emails.loc[~emails['Folder'].isin(small_folders)]\n",
    "    return emails"
   ]
  },
  {
   "cell_type": "code",
   "execution_count": 125,
   "metadata": {
    "collapsed": false
   },
   "outputs": [
    {
     "name": "stdout",
     "output_type": "stream",
     "text": [
      "Folders with less than 200 e-mails removed!\n",
      "This is a list of the 5 smallest folders\n",
      "\n"
     ]
    }
   ],
   "source": [
    "n = 200\n",
    "emails = remove_folders(employee, n)\n",
    "print(\"Folders with less than {} e-mails removed!\\nThis is a list of the 5 smallest folders\\n\").format(n)\n",
    "#print(employee[\"Folder\"].value_counts())[-5:]"
   ]
  },
  {
   "cell_type": "markdown",
   "metadata": {},
   "source": [
    "### Encoding class labels\n",
    "\n",
    "Our folders in the **`Folders`** column need to be converted into integers so that the learning algorithm can interpret the data correctly.  These folders are categorical and as such, it does not matter which integer is assigned to a particular folder.  Scikit-learn has a [LabelEncoder](http://scikit-learn.org/stable/modules/generated/sklearn.preprocessing.LabelEncoder.html) class that can implement this conversion.  The conversion was applied and assigned to a new column, **`y`**, which we will use as our preprocessed set of labels"
   ]
  },
  {
   "cell_type": "code",
   "execution_count": 316,
   "metadata": {
    "collapsed": false
   },
   "outputs": [],
   "source": [
    "from sklearn.preprocessing import LabelEncoder\n",
    "\n",
    "def label_encoder(df):\n",
    "    class_le = LabelEncoder()\n",
    "    # apply label encoder on the `Folder` column\n",
    "    y = class_le.fit_transform(df['Folder'])\n",
    "    df.loc[:,'y'] = y\n",
    "    return df"
   ]
  },
  {
   "cell_type": "code",
   "execution_count": 147,
   "metadata": {
    "collapsed": false
   },
   "outputs": [
    {
     "name": "stdout",
     "output_type": "stream",
     "text": [
      "Randomly selected labels representing our folders\n",
      "[2 1 5 4 0 3 6]\n"
     ]
    }
   ],
   "source": [
    "label_encoder(employee)    \n",
    "print(\"Randomly selected labels representing our folders\")\n",
    "unique_folders = employee[\"y\"].unique()\n",
    "print (unique_folders)"
   ]
  },
  {
   "cell_type": "markdown",
   "metadata": {},
   "source": [
    "### Sort data chronologically"
   ]
  },
  {
   "cell_type": "code",
   "execution_count": 317,
   "metadata": {
    "collapsed": false
   },
   "outputs": [],
   "source": [
    "def sort(df):   \n",
    "    df = df.sort_values(by = \"Date\", axis = 0)\n",
    "    return df"
   ]
  },
  {
   "cell_type": "code",
   "execution_count": 190,
   "metadata": {
    "collapsed": false
   },
   "outputs": [
    {
     "data": {
      "text/html": [
       "<div>\n",
       "<table border=\"1\" class=\"dataframe\">\n",
       "  <thead>\n",
       "    <tr style=\"text-align: right;\">\n",
       "      <th></th>\n",
       "      <th>Date</th>\n",
       "      <th>y</th>\n",
       "      <th>Folder</th>\n",
       "    </tr>\n",
       "  </thead>\n",
       "  <tbody>\n",
       "    <tr>\n",
       "      <th>210435</th>\n",
       "      <td>1999-12-10 14:43:00</td>\n",
       "      <td>2</td>\n",
       "      <td>management</td>\n",
       "    </tr>\n",
       "    <tr>\n",
       "      <th>209880</th>\n",
       "      <td>1999-12-10 17:17:00</td>\n",
       "      <td>1</td>\n",
       "      <td>ene_ect</td>\n",
       "    </tr>\n",
       "    <tr>\n",
       "      <th>221267</th>\n",
       "      <td>1999-12-10 18:46:00</td>\n",
       "      <td>5</td>\n",
       "      <td>resumes</td>\n",
       "    </tr>\n",
       "    <tr>\n",
       "      <th>210434</th>\n",
       "      <td>1999-12-12 15:22:00</td>\n",
       "      <td>2</td>\n",
       "      <td>management</td>\n",
       "    </tr>\n",
       "    <tr>\n",
       "      <th>210433</th>\n",
       "      <td>1999-12-13 10:08:00</td>\n",
       "      <td>2</td>\n",
       "      <td>management</td>\n",
       "    </tr>\n",
       "    <tr>\n",
       "      <th>210431</th>\n",
       "      <td>1999-12-14 07:51:00</td>\n",
       "      <td>2</td>\n",
       "      <td>management</td>\n",
       "    </tr>\n",
       "    <tr>\n",
       "      <th>210685</th>\n",
       "      <td>1999-12-14 08:17:00</td>\n",
       "      <td>2</td>\n",
       "      <td>management</td>\n",
       "    </tr>\n",
       "    <tr>\n",
       "      <th>210684</th>\n",
       "      <td>1999-12-14 08:22:00</td>\n",
       "      <td>2</td>\n",
       "      <td>management</td>\n",
       "    </tr>\n",
       "    <tr>\n",
       "      <th>211067</th>\n",
       "      <td>1999-12-14 10:14:00</td>\n",
       "      <td>4</td>\n",
       "      <td>projects</td>\n",
       "    </tr>\n",
       "    <tr>\n",
       "      <th>210683</th>\n",
       "      <td>1999-12-14 10:46:00</td>\n",
       "      <td>2</td>\n",
       "      <td>management</td>\n",
       "    </tr>\n",
       "  </tbody>\n",
       "</table>\n",
       "</div>"
      ],
      "text/plain": [
       "                      Date  y      Folder\n",
       "210435 1999-12-10 14:43:00  2  management\n",
       "209880 1999-12-10 17:17:00  1     ene_ect\n",
       "221267 1999-12-10 18:46:00  5     resumes\n",
       "210434 1999-12-12 15:22:00  2  management\n",
       "210433 1999-12-13 10:08:00  2  management\n",
       "210431 1999-12-14 07:51:00  2  management\n",
       "210685 1999-12-14 08:17:00  2  management\n",
       "210684 1999-12-14 08:22:00  2  management\n",
       "211067 1999-12-14 10:14:00  4    projects\n",
       "210683 1999-12-14 10:46:00  2  management"
      ]
     },
     "metadata": {},
     "output_type": "display_data"
    },
    {
     "name": "stdout",
     "output_type": "stream",
     "text": [
      "None\n"
     ]
    }
   ],
   "source": [
    "employee = sort(employee)\n",
    "print(display(employee.loc[:,(\"Date\", \"y\", \"Folder\")][:10]))"
   ]
  },
  {
   "cell_type": "markdown",
   "metadata": {},
   "source": [
    "###  Prepare Features\n",
    "\n",
    "We call the **`assemble_bag()`** method for each feature to return a new dataframe.  These dataframes are concatenated to a new dataframe called **`X`**."
   ]
  },
  {
   "cell_type": "code",
   "execution_count": 318,
   "metadata": {
    "collapsed": false
   },
   "outputs": [],
   "source": [
    "def prepare_features(df):\n",
    "    from_bag = assemble_bag(df[\"X-From\"])\n",
    "    to_bag = assemble_bag(df[\"X-To\"])\n",
    "    message_bag = assemble_bag(df[\"Message-Body\"])\n",
    "    subject_bag = assemble_bag(df[\"Subject\"])\n",
    "    frames = [from_bag, subject_bag, to_bag, message_bag]\n",
    "    X = pd.concat(frames, axis = 1, join = 'inner')\n",
    "    X.drop(labels = [\" \", \"\"], inplace = True, axis = 1)\n",
    "    return X"
   ]
  },
  {
   "cell_type": "code",
   "execution_count": 152,
   "metadata": {
    "collapsed": false
   },
   "outputs": [],
   "source": [
    "X = prepare_features(employee)"
   ]
  },
  {
   "cell_type": "code",
   "execution_count": 153,
   "metadata": {
    "collapsed": false
   },
   "outputs": [
    {
     "data": {
      "text/html": [
       "<div>\n",
       "<table border=\"1\" class=\"dataframe\">\n",
       "  <thead>\n",
       "    <tr style=\"text-align: right;\">\n",
       "      <th></th>\n",
       "      <th>associate</th>\n",
       "      <th>ibasco</th>\n",
       "      <th>career</th>\n",
       "      <th>opportunity</th>\n",
       "      <th>paris</th>\n",
       "      <th>mentor</th>\n",
       "      <th>hea</th>\n",
       "      <th>followup</th>\n",
       "      <th>travel</th>\n",
       "      <th>th</th>\n",
       "      <th>...</th>\n",
       "      <th>easo</th>\n",
       "      <th>change    energy</th>\n",
       "      <th>formatting</th>\n",
       "      <th>incorrectly</th>\n",
       "      <th>worksheets</th>\n",
       "      <th>you  please</th>\n",
       "      <th>pm to  kaminski</th>\n",
       "      <th>prepare</th>\n",
       "      <th>work  it</th>\n",
       "      <th>maria</th>\n",
       "    </tr>\n",
       "  </thead>\n",
       "  <tbody>\n",
       "    <tr>\n",
       "      <th>0</th>\n",
       "      <td>0</td>\n",
       "      <td>0</td>\n",
       "      <td>0</td>\n",
       "      <td>0</td>\n",
       "      <td>0</td>\n",
       "      <td>0</td>\n",
       "      <td>0</td>\n",
       "      <td>0</td>\n",
       "      <td>0</td>\n",
       "      <td>0</td>\n",
       "      <td>...</td>\n",
       "      <td>0</td>\n",
       "      <td>0</td>\n",
       "      <td>0</td>\n",
       "      <td>0</td>\n",
       "      <td>0</td>\n",
       "      <td>0</td>\n",
       "      <td>0</td>\n",
       "      <td>0</td>\n",
       "      <td>0</td>\n",
       "      <td>0</td>\n",
       "    </tr>\n",
       "    <tr>\n",
       "      <th>1</th>\n",
       "      <td>0</td>\n",
       "      <td>0</td>\n",
       "      <td>0</td>\n",
       "      <td>0</td>\n",
       "      <td>0</td>\n",
       "      <td>0</td>\n",
       "      <td>0</td>\n",
       "      <td>0</td>\n",
       "      <td>0</td>\n",
       "      <td>0</td>\n",
       "      <td>...</td>\n",
       "      <td>0</td>\n",
       "      <td>0</td>\n",
       "      <td>0</td>\n",
       "      <td>0</td>\n",
       "      <td>0</td>\n",
       "      <td>0</td>\n",
       "      <td>0</td>\n",
       "      <td>0</td>\n",
       "      <td>0</td>\n",
       "      <td>0</td>\n",
       "    </tr>\n",
       "    <tr>\n",
       "      <th>2</th>\n",
       "      <td>0</td>\n",
       "      <td>0</td>\n",
       "      <td>0</td>\n",
       "      <td>0</td>\n",
       "      <td>0</td>\n",
       "      <td>0</td>\n",
       "      <td>0</td>\n",
       "      <td>0</td>\n",
       "      <td>0</td>\n",
       "      <td>0</td>\n",
       "      <td>...</td>\n",
       "      <td>0</td>\n",
       "      <td>0</td>\n",
       "      <td>0</td>\n",
       "      <td>0</td>\n",
       "      <td>0</td>\n",
       "      <td>0</td>\n",
       "      <td>0</td>\n",
       "      <td>0</td>\n",
       "      <td>0</td>\n",
       "      <td>0</td>\n",
       "    </tr>\n",
       "    <tr>\n",
       "      <th>3</th>\n",
       "      <td>0</td>\n",
       "      <td>0</td>\n",
       "      <td>0</td>\n",
       "      <td>0</td>\n",
       "      <td>0</td>\n",
       "      <td>0</td>\n",
       "      <td>0</td>\n",
       "      <td>0</td>\n",
       "      <td>0</td>\n",
       "      <td>0</td>\n",
       "      <td>...</td>\n",
       "      <td>0</td>\n",
       "      <td>0</td>\n",
       "      <td>0</td>\n",
       "      <td>0</td>\n",
       "      <td>0</td>\n",
       "      <td>0</td>\n",
       "      <td>0</td>\n",
       "      <td>0</td>\n",
       "      <td>0</td>\n",
       "      <td>0</td>\n",
       "    </tr>\n",
       "  </tbody>\n",
       "</table>\n",
       "<p>4 rows × 28602 columns</p>\n",
       "</div>"
      ],
      "text/plain": [
       "   associate  ibasco  career  opportunity  paris  mentor  hea  followup  \\\n",
       "0          0       0       0            0      0       0    0         0   \n",
       "1          0       0       0            0      0       0    0         0   \n",
       "2          0       0       0            0      0       0    0         0   \n",
       "3          0       0       0            0      0       0    0         0   \n",
       "\n",
       "   travel    th    ...    easo   change    energy  formatting  incorrectly  \\\n",
       "0       0      0   ...        0                 0           0            0   \n",
       "1       0      0   ...        0                 0           0            0   \n",
       "2       0      0   ...        0                 0           0            0   \n",
       "3       0      0   ...        0                 0           0            0   \n",
       "\n",
       "   worksheets  you  please   pm to  kaminski   prepare   work  it   maria  \n",
       "0           0             0                 0         0         0       0  \n",
       "1           0             0                 0         0         0       0  \n",
       "2           0             0                 0         0         0       0  \n",
       "3           0             0                 0         0         0       0  \n",
       "\n",
       "[4 rows x 28602 columns]"
      ]
     },
     "metadata": {},
     "output_type": "display_data"
    },
    {
     "name": "stdout",
     "output_type": "stream",
     "text": [
      "None\n",
      "A peek into some of the columns in the features dataframe\n"
     ]
    }
   ],
   "source": [
    "print(display(X.ix[:3, 1000:]))\n",
    "print(\"A peek into some of the columns in the features dataframe\")"
   ]
  },
  {
   "cell_type": "markdown",
   "metadata": {},
   "source": [
    "### Training\n",
    "\n",
    "In training a multiclass classification problem, we have to train n models where n is the number of unique folders present.  Using a one-vs-all approach, we need to train models where all e-mails belonging to a folder are classified as positive (1) or **True** and all e-mails not belonging to a folder are classified as negative (0) or **False**. \n",
    "\n",
    "#### For example:\n",
    "\n",
    "If folders cinergy index, fundamentals and meetings exists for an employee, then: \n",
    "* All the e-mails belonging to cinergy index are positive(1) and all e-mails belonging to other folders are negative(0)\n",
    "* All the e-mails belonging to fundamentals are positive(1) and all e-mails belonging to other folders are negative(0)\n",
    "* All the e-mails belonging to miso are positive(1) and all e-mails belonging to other folders are negative(0) "
   ]
  },
  {
   "cell_type": "code",
   "execution_count": 319,
   "metadata": {
    "collapsed": false
   },
   "outputs": [],
   "source": [
    "from sklearn.linear_model import LogisticRegression\n",
    "\n",
    "def split_data(X, employee):\n",
    "    # split data into training and testing sets\n",
    "    training_size = int(len(employee) * 0.8)\n",
    "    X_train = X[:training_size]\n",
    "    X_test = X[training_size:]\n",
    "    y_test = employee[training_size:][\"y\"]\n",
    "    y_train = employee[:training_size][\"y\"]\n",
    "    return X_train, X_test, y_test, training_size"
   ]
  },
  {
   "cell_type": "code",
   "execution_count": 169,
   "metadata": {
    "collapsed": true
   },
   "outputs": [],
   "source": [
    "X_train, X_test, y_test, training_size = split_data(X, employee)"
   ]
  },
  {
   "cell_type": "markdown",
   "metadata": {},
   "source": [
    "#### Train n number of models where n is the number of unique words in the dataset.  "
   ]
  },
  {
   "cell_type": "code",
   "execution_count": 320,
   "metadata": {
    "collapsed": false
   },
   "outputs": [],
   "source": [
    "def fit(df, training_size, X_train):\n",
    "    models = {}\n",
    "    filtered_folders = []\n",
    "    unique_folders = df[\"y\"].unique()\n",
    "    for folder in unique_folders:\n",
    "        model = LogisticRegression()\n",
    "        y_train = df[:training_size][\"y\"] == folder\n",
    "        try:\n",
    "            model.fit(X_train, y_train)\n",
    "            models[folder] = model\n",
    "            filtered_folders.append(folder)\n",
    "        except:\n",
    "            pass\n",
    "    return models, filtered_folders"
   ]
  },
  {
   "cell_type": "code",
   "execution_count": 173,
   "metadata": {
    "collapsed": false
   },
   "outputs": [
    {
     "name": "stdout",
     "output_type": "stream",
     "text": [
      "[2 1 5 4 0 3 6]\n"
     ]
    }
   ],
   "source": [
    "models, filtered_folders = fit(employee, training_size, X_train)"
   ]
  },
  {
   "cell_type": "markdown",
   "metadata": {},
   "source": [
    "### Testing"
   ]
  },
  {
   "cell_type": "code",
   "execution_count": 321,
   "metadata": {
    "collapsed": false
   },
   "outputs": [],
   "source": [
    "def predict(X_test, models, filtered_folders):\n",
    "    testing_probs = pd.DataFrame(columns = filtered_folders)\n",
    "    for folder in filtered_folders:\n",
    "        # Compute probability\n",
    "        testing_probs[folder] = models[folder].predict_proba(X_test)[:,1]\n",
    "    y_test_pred = testing_probs.idxmax(axis = 1)\n",
    "    return y_test_pred"
   ]
  },
  {
   "cell_type": "code",
   "execution_count": 181,
   "metadata": {
    "collapsed": false
   },
   "outputs": [],
   "source": [
    "y_test_pred = predict(X_test, models, filtered_folders)"
   ]
  },
  {
   "cell_type": "markdown",
   "metadata": {},
   "source": [
    "### Accuracy Score"
   ]
  },
  {
   "cell_type": "code",
   "execution_count": 322,
   "metadata": {
    "collapsed": false
   },
   "outputs": [],
   "source": [
    "from sklearn.metrics import accuracy_score\n",
    "\n",
    "def acc_score(y_test, y_test_pred):\n",
    "    score = accuracy_score(y_test, y_test_pred)\n",
    "    return score"
   ]
  },
  {
   "cell_type": "code",
   "execution_count": 185,
   "metadata": {
    "collapsed": false
   },
   "outputs": [
    {
     "data": {
      "text/plain": [
       "0.65505226480836232"
      ]
     },
     "execution_count": 185,
     "metadata": {},
     "output_type": "execute_result"
    }
   ],
   "source": [
    "acc_score(y_test, y_test_pred)"
   ]
  },
  {
   "cell_type": "markdown",
   "metadata": {},
   "source": [
    "### Classify several employees' e-mails\n",
    "\n",
    "Our score on this employee is dismal.  One thing to note is that the number of folders used by each employee could affect the model's performance.  There may not be enough e-mails in a number of these folders to be considered statistically significant.  For this, we will need to reduce the number of folders to include folders that contained more e-mails.  "
   ]
  },
  {
   "cell_type": "code",
   "execution_count": 323,
   "metadata": {
    "collapsed": false
   },
   "outputs": [
    {
     "data": {
      "text/html": [
       "<div>\n",
       "<table border=\"1\" class=\"dataframe\">\n",
       "  <thead>\n",
       "    <tr style=\"text-align: right;\">\n",
       "      <th></th>\n",
       "      <th>50</th>\n",
       "      <th>100</th>\n",
       "      <th>150</th>\n",
       "      <th>200</th>\n",
       "      <th>250</th>\n",
       "      <th>employee</th>\n",
       "    </tr>\n",
       "  </thead>\n",
       "  <tbody>\n",
       "    <tr>\n",
       "      <th>0</th>\n",
       "      <td>0.641892</td>\n",
       "      <td>0.894737</td>\n",
       "      <td>NaN</td>\n",
       "      <td>NaN</td>\n",
       "      <td>NaN</td>\n",
       "      <td>beck-s</td>\n",
       "    </tr>\n",
       "    <tr>\n",
       "      <th>1</th>\n",
       "      <td>0.780899</td>\n",
       "      <td>0.790831</td>\n",
       "      <td>0.841484</td>\n",
       "      <td>0.864528</td>\n",
       "      <td>0.898635</td>\n",
       "      <td>farmer-d</td>\n",
       "    </tr>\n",
       "    <tr>\n",
       "      <th>2</th>\n",
       "      <td>0.509662</td>\n",
       "      <td>0.566489</td>\n",
       "      <td>0.568513</td>\n",
       "      <td>0.655052</td>\n",
       "      <td>0.666038</td>\n",
       "      <td>kaminski-v</td>\n",
       "    </tr>\n",
       "    <tr>\n",
       "      <th>3</th>\n",
       "      <td>0.408451</td>\n",
       "      <td>0.724522</td>\n",
       "      <td>0.724522</td>\n",
       "      <td>0.832487</td>\n",
       "      <td>0.830258</td>\n",
       "      <td>kean-s</td>\n",
       "    </tr>\n",
       "    <tr>\n",
       "      <th>4</th>\n",
       "      <td>0.224432</td>\n",
       "      <td>0.368421</td>\n",
       "      <td>0.388773</td>\n",
       "      <td>0.418345</td>\n",
       "      <td>0.659218</td>\n",
       "      <td>kitchen-l</td>\n",
       "    </tr>\n",
       "    <tr>\n",
       "      <th>5</th>\n",
       "      <td>0.737603</td>\n",
       "      <td>0.839827</td>\n",
       "      <td>0.881007</td>\n",
       "      <td>0.933702</td>\n",
       "      <td>0.945860</td>\n",
       "      <td>lokay-m</td>\n",
       "    </tr>\n",
       "    <tr>\n",
       "      <th>6</th>\n",
       "      <td>0.489474</td>\n",
       "      <td>0.947368</td>\n",
       "      <td>NaN</td>\n",
       "      <td>NaN</td>\n",
       "      <td>NaN</td>\n",
       "      <td>shapiro-r</td>\n",
       "    </tr>\n",
       "    <tr>\n",
       "      <th>7</th>\n",
       "      <td>0.262687</td>\n",
       "      <td>0.049550</td>\n",
       "      <td>0.356522</td>\n",
       "      <td>0.761905</td>\n",
       "      <td>NaN</td>\n",
       "      <td>taylor-m</td>\n",
       "    </tr>\n",
       "    <tr>\n",
       "      <th>8</th>\n",
       "      <td>1.000000</td>\n",
       "      <td>1.000000</td>\n",
       "      <td>1.000000</td>\n",
       "      <td>1.000000</td>\n",
       "      <td>1.000000</td>\n",
       "      <td>williams-w3</td>\n",
       "    </tr>\n",
       "  </tbody>\n",
       "</table>\n",
       "</div>"
      ],
      "text/plain": [
       "         50       100       150       200       250     employee\n",
       "0  0.641892  0.894737       NaN       NaN       NaN       beck-s\n",
       "1  0.780899  0.790831  0.841484  0.864528  0.898635     farmer-d\n",
       "2  0.509662  0.566489  0.568513  0.655052  0.666038   kaminski-v\n",
       "3  0.408451  0.724522  0.724522  0.832487  0.830258       kean-s\n",
       "4  0.224432  0.368421  0.388773  0.418345  0.659218    kitchen-l\n",
       "5  0.737603  0.839827  0.881007  0.933702  0.945860      lokay-m\n",
       "6  0.489474  0.947368       NaN       NaN       NaN    shapiro-r\n",
       "7  0.262687  0.049550  0.356522  0.761905       NaN     taylor-m\n",
       "8  1.000000  1.000000  1.000000  1.000000  1.000000  williams-w3"
      ]
     },
     "metadata": {},
     "output_type": "display_data"
    },
    {
     "name": "stdout",
     "output_type": "stream",
     "text": [
      "None\n"
     ]
    }
   ],
   "source": [
    "employee_list = emails[\"employee\"].unique()\n",
    "num_folders = [50, 100, 150, 200, 250]\n",
    "\n",
    "def classify_emails(data, num_folders, employee_list):\n",
    "    results = pd.DataFrame(columns = num_folders)\n",
    "    results[\"employee\"] = employee_list\n",
    "    for i, name in enumerate(employee_list):\n",
    "        for num in num_folders:\n",
    "            # get data for employee\n",
    "            employee = data[data[\"employee\"] == name]\n",
    "            employee = remove_folders(employee, num)\n",
    "            employee = label_encoder(employee)\n",
    "            if len(employee[\"y\"].unique()) < 2: \n",
    "                break\n",
    "            employee = sort(employee)\n",
    "            X = prepare_features(employee)\n",
    "            X_train, X_test, y_test, training_size = split_data(X, employee)\n",
    "            models, filtered_folders = fit(employee, training_size, X_train)\n",
    "            y_test_pred = predict(X_test, models, filtered_folders)\n",
    "            score = acc_score(y_test, y_test_pred)\n",
    "            # Add score to dataframe\n",
    "            results.loc[i][num] = score\n",
    "    return results\n",
    "\n",
    "results = classify_emails(data = emails, num_folders = num_folders, employee_list = employee_list)\n",
    "print(display(results))"
   ]
  },
  {
   "cell_type": "markdown",
   "metadata": {},
   "source": [
    "The table above shows the results for each employee.  Each column represents the score received when classifying e-mails for folders containing more than the specified number of e-mails.  For example, the first column shows scores received using folders containing more than 50 e-mails. \n",
    "\n",
    "For `beck-s` and `shapiro-r`, there were no folders containing more than 150 e-mails, which is why there are missing values.  \n",
    "\n",
    "Looking at the performance over each row shows that performance is typically correlated with folder size.  For `williams-w3`, we would need to investigate the abnormally high scores.  Attempting to classify `kaminski-v` and `kitchen-l` e-mails achieved significantly lower scores than the rest of employees even though their scores improved as folder size increased.  "
   ]
  },
  {
   "cell_type": "markdown",
   "metadata": {},
   "source": [
    "### Plot Accuracy"
   ]
  },
  {
   "cell_type": "code",
   "execution_count": 401,
   "metadata": {
    "collapsed": false
   },
   "outputs": [
    {
     "data": {
      "image/png": "[encoded data removed]",
      "text/plain": [
       "<matplotlib.figure.Figure at 0x113f28650>"
      ]
     },
     "metadata": {},
     "output_type": "display_data"
    }
   ],
   "source": [
    "fig, ax = plt.subplots()\n",
    "\n",
    "row1 = results.ix[1,:-1]\n",
    "row2 = results.ix[2,:-1]\n",
    "row3 = results.ix[3,:-1]\n",
    "row4 = results.ix[4,:-1]\n",
    "row5 = results.ix[5,:-1]\n",
    "\n",
    "ax.plot(num_folders, row1, label = results.iloc[1][\"employee\"])\n",
    "ax.plot(num_folders, row2, label = results.iloc[2][\"employee\"])\n",
    "ax.plot(num_folders, row3, label = results.iloc[3][\"employee\"])\n",
    "ax.plot(num_folders, row4, label = results.iloc[4][\"employee\"])\n",
    "ax.plot(num_folders, row5, label = results.iloc[5][\"employee\"])\n",
    "\n",
    "# Label and axis sizes\n",
    "ax.tick_params(axis ='x', labelsize = 13)\n",
    "ax.tick_params(axis ='y', labelsize = 13)\n",
    "ax.yaxis.label.set_fontsize(15)\n",
    "ax.xaxis.label.set_fontsize(15)\n",
    "\n",
    "legend = ax.legend(loc = 'lower right')\n",
    "ax.set_xlabel('# E-mails in folder')\n",
    "ax.set_ylabel('Score')\n",
    "plt.show()"
   ]
  },
  {
   "cell_type": "markdown",
   "metadata": {},
   "source": [
    "**Figure 3**. Graph showing accuracy scores for 5 employees.  "
   ]
  },
  {
   "cell_type": "code",
   "execution_count": null,
   "metadata": {
    "collapsed": true
   },
   "outputs": [],
   "source": []
  }
 ],
 "metadata": {
  "kernelspec": {
   "display_name": "Python 2",
   "language": "python",
   "name": "python2"
  },
  "language_info": {
   "codemirror_mode": {
    "name": "ipython",
    "version": 2
   },
   "file_extension": ".py",
   "mimetype": "text/x-python",
   "name": "python",
   "nbconvert_exporter": "python",
   "pygments_lexer": "ipython2",
   "version": "2.7.12"
  }
 },
 "nbformat": 4,
 "nbformat_minor": 0
}
